{
 "cells": [
  {
   "cell_type": "code",
   "execution_count": 5,
   "metadata": {
    "collapsed": true
   },
   "outputs": [],
   "source": [
    "from classifier import Classifier\n",
    "from webscraper import get_yrevar_imagenet_labels"
   ]
  },
  {
   "cell_type": "code",
   "execution_count": 6,
   "outputs": [],
   "source": [
    "classifer = Classifier()\n",
    "original_labels = classifer.fetch_labels()\n",
    "modified_labels = classifer.labels\n",
    "long_labels = get_yrevar_imagenet_labels()"
   ],
   "metadata": {
    "collapsed": false,
    "pycharm": {
     "name": "#%%\n"
    }
   }
  },
  {
   "cell_type": "code",
   "execution_count": 7,
   "outputs": [
    {
     "name": "stdout",
     "output_type": "stream",
     "text": [
      "great white shark, white shark, man-eater, man-eating shark, Carcharodon carcharias\n",
      "('great white shark', 'white shark', 'man-eater', 'man-eating shark', 'Carcharodon carcharias')\n",
      "('great white shark', 'white shark', 'man-eater', 'Carcharodon carcharias', 'man-eating shark')\n",
      "('great white shark', 'white shark', 'man-eating shark', 'man-eater', 'Carcharodon carcharias')\n",
      "('great white shark', 'white shark', 'man-eating shark', 'Carcharodon carcharias', 'man-eater')\n",
      "('great white shark', 'white shark', 'Carcharodon carcharias', 'man-eater', 'man-eating shark')\n",
      "('great white shark', 'white shark', 'Carcharodon carcharias', 'man-eating shark', 'man-eater')\n",
      "('great white shark', 'man-eater', 'white shark', 'man-eating shark', 'Carcharodon carcharias')\n",
      "('great white shark', 'man-eater', 'white shark', 'Carcharodon carcharias', 'man-eating shark')\n",
      "('great white shark', 'man-eater', 'man-eating shark', 'white shark', 'Carcharodon carcharias')\n",
      "('great white shark', 'man-eater', 'man-eating shark', 'Carcharodon carcharias', 'white shark')\n",
      "('great white shark', 'man-eater', 'Carcharodon carcharias', 'white shark', 'man-eating shark')\n",
      "('great white shark', 'man-eater', 'Carcharodon carcharias', 'man-eating shark', 'white shark')\n",
      "('great white shark', 'man-eating shark', 'white shark', 'man-eater', 'Carcharodon carcharias')\n",
      "('great white shark', 'man-eating shark', 'white shark', 'Carcharodon carcharias', 'man-eater')\n",
      "('great white shark', 'man-eating shark', 'man-eater', 'white shark', 'Carcharodon carcharias')\n",
      "('great white shark', 'man-eating shark', 'man-eater', 'Carcharodon carcharias', 'white shark')\n",
      "('great white shark', 'man-eating shark', 'Carcharodon carcharias', 'white shark', 'man-eater')\n",
      "('great white shark', 'man-eating shark', 'Carcharodon carcharias', 'man-eater', 'white shark')\n",
      "('great white shark', 'Carcharodon carcharias', 'white shark', 'man-eater', 'man-eating shark')\n",
      "('great white shark', 'Carcharodon carcharias', 'white shark', 'man-eating shark', 'man-eater')\n",
      "('great white shark', 'Carcharodon carcharias', 'man-eater', 'white shark', 'man-eating shark')\n",
      "('great white shark', 'Carcharodon carcharias', 'man-eater', 'man-eating shark', 'white shark')\n",
      "('great white shark', 'Carcharodon carcharias', 'man-eating shark', 'white shark', 'man-eater')\n",
      "('great white shark', 'Carcharodon carcharias', 'man-eating shark', 'man-eater', 'white shark')\n",
      "('white shark', 'great white shark', 'man-eater', 'man-eating shark', 'Carcharodon carcharias')\n",
      "('white shark', 'great white shark', 'man-eater', 'Carcharodon carcharias', 'man-eating shark')\n",
      "('white shark', 'great white shark', 'man-eating shark', 'man-eater', 'Carcharodon carcharias')\n",
      "('white shark', 'great white shark', 'man-eating shark', 'Carcharodon carcharias', 'man-eater')\n",
      "('white shark', 'great white shark', 'Carcharodon carcharias', 'man-eater', 'man-eating shark')\n",
      "('white shark', 'great white shark', 'Carcharodon carcharias', 'man-eating shark', 'man-eater')\n",
      "('white shark', 'man-eater', 'great white shark', 'man-eating shark', 'Carcharodon carcharias')\n",
      "('white shark', 'man-eater', 'great white shark', 'Carcharodon carcharias', 'man-eating shark')\n",
      "('white shark', 'man-eater', 'man-eating shark', 'great white shark', 'Carcharodon carcharias')\n",
      "('white shark', 'man-eater', 'man-eating shark', 'Carcharodon carcharias', 'great white shark')\n",
      "('white shark', 'man-eater', 'Carcharodon carcharias', 'great white shark', 'man-eating shark')\n",
      "('white shark', 'man-eater', 'Carcharodon carcharias', 'man-eating shark', 'great white shark')\n",
      "('white shark', 'man-eating shark', 'great white shark', 'man-eater', 'Carcharodon carcharias')\n",
      "('white shark', 'man-eating shark', 'great white shark', 'Carcharodon carcharias', 'man-eater')\n",
      "('white shark', 'man-eating shark', 'man-eater', 'great white shark', 'Carcharodon carcharias')\n",
      "('white shark', 'man-eating shark', 'man-eater', 'Carcharodon carcharias', 'great white shark')\n",
      "('white shark', 'man-eating shark', 'Carcharodon carcharias', 'great white shark', 'man-eater')\n",
      "('white shark', 'man-eating shark', 'Carcharodon carcharias', 'man-eater', 'great white shark')\n",
      "('white shark', 'Carcharodon carcharias', 'great white shark', 'man-eater', 'man-eating shark')\n",
      "('white shark', 'Carcharodon carcharias', 'great white shark', 'man-eating shark', 'man-eater')\n",
      "('white shark', 'Carcharodon carcharias', 'man-eater', 'great white shark', 'man-eating shark')\n",
      "('white shark', 'Carcharodon carcharias', 'man-eater', 'man-eating shark', 'great white shark')\n",
      "('white shark', 'Carcharodon carcharias', 'man-eating shark', 'great white shark', 'man-eater')\n",
      "('white shark', 'Carcharodon carcharias', 'man-eating shark', 'man-eater', 'great white shark')\n",
      "('man-eater', 'great white shark', 'white shark', 'man-eating shark', 'Carcharodon carcharias')\n",
      "('man-eater', 'great white shark', 'white shark', 'Carcharodon carcharias', 'man-eating shark')\n",
      "('man-eater', 'great white shark', 'man-eating shark', 'white shark', 'Carcharodon carcharias')\n",
      "('man-eater', 'great white shark', 'man-eating shark', 'Carcharodon carcharias', 'white shark')\n",
      "('man-eater', 'great white shark', 'Carcharodon carcharias', 'white shark', 'man-eating shark')\n",
      "('man-eater', 'great white shark', 'Carcharodon carcharias', 'man-eating shark', 'white shark')\n",
      "('man-eater', 'white shark', 'great white shark', 'man-eating shark', 'Carcharodon carcharias')\n",
      "('man-eater', 'white shark', 'great white shark', 'Carcharodon carcharias', 'man-eating shark')\n",
      "('man-eater', 'white shark', 'man-eating shark', 'great white shark', 'Carcharodon carcharias')\n",
      "('man-eater', 'white shark', 'man-eating shark', 'Carcharodon carcharias', 'great white shark')\n",
      "('man-eater', 'white shark', 'Carcharodon carcharias', 'great white shark', 'man-eating shark')\n",
      "('man-eater', 'white shark', 'Carcharodon carcharias', 'man-eating shark', 'great white shark')\n",
      "('man-eater', 'man-eating shark', 'great white shark', 'white shark', 'Carcharodon carcharias')\n",
      "('man-eater', 'man-eating shark', 'great white shark', 'Carcharodon carcharias', 'white shark')\n",
      "('man-eater', 'man-eating shark', 'white shark', 'great white shark', 'Carcharodon carcharias')\n",
      "('man-eater', 'man-eating shark', 'white shark', 'Carcharodon carcharias', 'great white shark')\n",
      "('man-eater', 'man-eating shark', 'Carcharodon carcharias', 'great white shark', 'white shark')\n",
      "('man-eater', 'man-eating shark', 'Carcharodon carcharias', 'white shark', 'great white shark')\n",
      "('man-eater', 'Carcharodon carcharias', 'great white shark', 'white shark', 'man-eating shark')\n",
      "('man-eater', 'Carcharodon carcharias', 'great white shark', 'man-eating shark', 'white shark')\n",
      "('man-eater', 'Carcharodon carcharias', 'white shark', 'great white shark', 'man-eating shark')\n",
      "('man-eater', 'Carcharodon carcharias', 'white shark', 'man-eating shark', 'great white shark')\n",
      "('man-eater', 'Carcharodon carcharias', 'man-eating shark', 'great white shark', 'white shark')\n",
      "('man-eater', 'Carcharodon carcharias', 'man-eating shark', 'white shark', 'great white shark')\n",
      "('man-eating shark', 'great white shark', 'white shark', 'man-eater', 'Carcharodon carcharias')\n",
      "('man-eating shark', 'great white shark', 'white shark', 'Carcharodon carcharias', 'man-eater')\n",
      "('man-eating shark', 'great white shark', 'man-eater', 'white shark', 'Carcharodon carcharias')\n",
      "('man-eating shark', 'great white shark', 'man-eater', 'Carcharodon carcharias', 'white shark')\n",
      "('man-eating shark', 'great white shark', 'Carcharodon carcharias', 'white shark', 'man-eater')\n",
      "('man-eating shark', 'great white shark', 'Carcharodon carcharias', 'man-eater', 'white shark')\n",
      "('man-eating shark', 'white shark', 'great white shark', 'man-eater', 'Carcharodon carcharias')\n",
      "('man-eating shark', 'white shark', 'great white shark', 'Carcharodon carcharias', 'man-eater')\n",
      "('man-eating shark', 'white shark', 'man-eater', 'great white shark', 'Carcharodon carcharias')\n",
      "('man-eating shark', 'white shark', 'man-eater', 'Carcharodon carcharias', 'great white shark')\n",
      "('man-eating shark', 'white shark', 'Carcharodon carcharias', 'great white shark', 'man-eater')\n",
      "('man-eating shark', 'white shark', 'Carcharodon carcharias', 'man-eater', 'great white shark')\n",
      "('man-eating shark', 'man-eater', 'great white shark', 'white shark', 'Carcharodon carcharias')\n",
      "('man-eating shark', 'man-eater', 'great white shark', 'Carcharodon carcharias', 'white shark')\n",
      "('man-eating shark', 'man-eater', 'white shark', 'great white shark', 'Carcharodon carcharias')\n",
      "('man-eating shark', 'man-eater', 'white shark', 'Carcharodon carcharias', 'great white shark')\n",
      "('man-eating shark', 'man-eater', 'Carcharodon carcharias', 'great white shark', 'white shark')\n",
      "('man-eating shark', 'man-eater', 'Carcharodon carcharias', 'white shark', 'great white shark')\n",
      "('man-eating shark', 'Carcharodon carcharias', 'great white shark', 'white shark', 'man-eater')\n",
      "('man-eating shark', 'Carcharodon carcharias', 'great white shark', 'man-eater', 'white shark')\n",
      "('man-eating shark', 'Carcharodon carcharias', 'white shark', 'great white shark', 'man-eater')\n",
      "('man-eating shark', 'Carcharodon carcharias', 'white shark', 'man-eater', 'great white shark')\n",
      "('man-eating shark', 'Carcharodon carcharias', 'man-eater', 'great white shark', 'white shark')\n",
      "('man-eating shark', 'Carcharodon carcharias', 'man-eater', 'white shark', 'great white shark')\n",
      "('Carcharodon carcharias', 'great white shark', 'white shark', 'man-eater', 'man-eating shark')\n",
      "('Carcharodon carcharias', 'great white shark', 'white shark', 'man-eating shark', 'man-eater')\n",
      "('Carcharodon carcharias', 'great white shark', 'man-eater', 'white shark', 'man-eating shark')\n",
      "('Carcharodon carcharias', 'great white shark', 'man-eater', 'man-eating shark', 'white shark')\n",
      "('Carcharodon carcharias', 'great white shark', 'man-eating shark', 'white shark', 'man-eater')\n",
      "('Carcharodon carcharias', 'great white shark', 'man-eating shark', 'man-eater', 'white shark')\n",
      "('Carcharodon carcharias', 'white shark', 'great white shark', 'man-eater', 'man-eating shark')\n",
      "('Carcharodon carcharias', 'white shark', 'great white shark', 'man-eating shark', 'man-eater')\n",
      "('Carcharodon carcharias', 'white shark', 'man-eater', 'great white shark', 'man-eating shark')\n",
      "('Carcharodon carcharias', 'white shark', 'man-eater', 'man-eating shark', 'great white shark')\n",
      "('Carcharodon carcharias', 'white shark', 'man-eating shark', 'great white shark', 'man-eater')\n",
      "('Carcharodon carcharias', 'white shark', 'man-eating shark', 'man-eater', 'great white shark')\n",
      "('Carcharodon carcharias', 'man-eater', 'great white shark', 'white shark', 'man-eating shark')\n",
      "('Carcharodon carcharias', 'man-eater', 'great white shark', 'man-eating shark', 'white shark')\n",
      "('Carcharodon carcharias', 'man-eater', 'white shark', 'great white shark', 'man-eating shark')\n",
      "('Carcharodon carcharias', 'man-eater', 'white shark', 'man-eating shark', 'great white shark')\n",
      "('Carcharodon carcharias', 'man-eater', 'man-eating shark', 'great white shark', 'white shark')\n",
      "('Carcharodon carcharias', 'man-eater', 'man-eating shark', 'white shark', 'great white shark')\n",
      "('Carcharodon carcharias', 'man-eating shark', 'great white shark', 'white shark', 'man-eater')\n",
      "('Carcharodon carcharias', 'man-eating shark', 'great white shark', 'man-eater', 'white shark')\n",
      "('Carcharodon carcharias', 'man-eating shark', 'white shark', 'great white shark', 'man-eater')\n",
      "('Carcharodon carcharias', 'man-eating shark', 'white shark', 'man-eater', 'great white shark')\n",
      "('Carcharodon carcharias', 'man-eating shark', 'man-eater', 'great white shark', 'white shark')\n",
      "('Carcharodon carcharias', 'man-eating shark', 'man-eater', 'white shark', 'great white shark')\n"
     ]
    }
   ],
   "source": [
    "import itertools\n",
    "print(long_labels[2])\n",
    "permutations = itertools.permutations(long_labels[2].split(', '))\n",
    "for p in permutations:\n",
    "    print(p)"
   ],
   "metadata": {
    "collapsed": false,
    "pycharm": {
     "name": "#%%\n"
    }
   }
  },
  {
   "cell_type": "code",
   "execution_count": 8,
   "outputs": [
    {
     "data": {
      "text/plain": "'maneater'"
     },
     "execution_count": 8,
     "metadata": {},
     "output_type": "execute_result"
    }
   ],
   "source": [
    "import re\n",
    "t = \"Man-Eater\"\n",
    "t = re.sub(\"[-$%@#/?!.,()0-9]\", \"\", t).lower()\n",
    "t"
   ],
   "metadata": {
    "collapsed": false,
    "pycharm": {
     "name": "#%%\n"
    }
   }
  },
  {
   "cell_type": "code",
   "execution_count": 31,
   "outputs": [
    {
     "data": {
      "text/plain": "{'tench': 0,\n 'tench tinca tinca': 0,\n 'tinca tinca': 0,\n 'goldfish': 1,\n 'goldfish carassius auratus': 1,\n 'carassius auratus': 1,\n 'great white shark': 2,\n 'great white shark white shark maneater maneating shark carcharodon carcharias': 2,\n 'white shark': 2,\n 'maneater': 2,\n 'maneating shark': 2,\n 'carcharodon carcharias': 2,\n 'tiger shark': 3,\n 'tiger shark galeocerdo cuvieri': 3,\n 'galeocerdo cuvieri': 3,\n 'hammerhead': 4,\n 'hammerhead hammerhead shark': 4,\n 'hammerhead shark': 4,\n 'electric ray': 5,\n 'electric ray crampfish numbfish torpedo': 5,\n 'crampfish': 5,\n 'numbfish': 5,\n 'torpedo': 5,\n 'stingray': 6,\n 'cock': 7,\n 'cockerel': 7,\n 'hen': 8,\n 'ostrich': 9,\n 'ostrich struthio camelus': 9,\n 'struthio camelus': 9,\n 'brambling': 10,\n 'brambling fringilla montifringilla': 10,\n 'fringilla montifringilla': 10,\n 'goldfinch': 11,\n 'goldfinch carduelis carduelis': 11,\n 'carduelis carduelis': 11,\n 'house finch': 12,\n 'house finch linnet carpodacus mexicanus': 12,\n 'linnet': 12,\n 'carpodacus mexicanus': 12,\n 'junco': 13,\n 'junco snowbird': 13,\n 'snowbird': 13,\n 'indigo bunting': 14,\n 'indigo bunting indigo finch indigo bird passerina cyanea': 14,\n 'indigo finch': 14,\n 'indigo bird': 14,\n 'passerina cyanea': 14,\n 'robin': 15,\n 'robin american robin turdus migratorius': 15,\n 'american robin': 15,\n 'turdus migratorius': 15,\n 'bulbul': 16,\n 'jay': 17,\n 'magpie': 18,\n 'chickadee': 19,\n 'water ouzel': 20,\n 'dipper bird': 20,\n 'water ouzel dipper': 20,\n 'dipper': 20,\n 'kite': 21,\n 'kite hawk': 21,\n 'bald eagle': 22,\n 'bald eagle american eagle haliaeetus leucocephalus': 22,\n 'american eagle': 22,\n 'haliaeetus leucocephalus': 22,\n 'vulture': 23,\n 'great grey owl': 24,\n 'great grey owl great gray owl strix nebulosa': 24,\n 'great gray owl': 24,\n 'strix nebulosa': 24,\n 'European fire salamander': 25,\n 'european fire salamander salamandra salamandra': 25,\n 'salamandra salamandra': 25,\n 'common newt': 26,\n 'common newt triturus vulgaris': 26,\n 'triturus vulgaris': 26,\n 'eft': 27,\n 'eft newt': 27,\n 'spotted salamander': 28,\n 'spotted salamander ambystoma maculatum': 28,\n 'ambystoma maculatum': 28,\n 'axolotl': 29,\n 'axolotl mud puppy ambystoma mexicanum': 29,\n 'mud puppy': 29,\n 'ambystoma mexicanum': 29,\n 'bullfrog': 30,\n 'bullfrog rana catesbeiana': 30,\n 'rana catesbeiana': 30,\n 'tree frog': 31,\n 'tree frog treefrog': 31,\n 'treefrog': 31,\n 'tailed frog': 32,\n 'tailed frog bell toad ribbed toad tailed toad ascaphus trui': 32,\n 'bell toad': 32,\n 'ribbed toad': 32,\n 'tailed toad': 32,\n 'ascaphus trui': 32,\n 'loggerhead': 33,\n 'loggerhead loggerhead turtle caretta caretta': 33,\n 'loggerhead turtle': 33,\n 'caretta caretta': 33,\n 'leatherback turtle': 34,\n 'leatherback turtle leatherback leathery turtle dermochelys coriacea': 34,\n 'leatherback': 34,\n 'leathery turtle': 34,\n 'dermochelys coriacea': 34,\n 'mud turtle': 35,\n 'terrapin': 36,\n 'box turtle': 37,\n 'box turtle box tortoise': 37,\n 'box tortoise': 37,\n 'banded gecko': 38,\n 'common iguana': 39,\n 'common iguana iguana iguana iguana': 39,\n 'iguana': 39,\n 'iguana iguana': 39,\n 'American chameleon': 40,\n 'american chameleon anole anolis carolinensis': 40,\n 'anole': 40,\n 'anolis carolinensis': 40,\n 'whiptail': 41,\n 'whiptail whiptail lizard': 41,\n 'whiptail lizard': 41,\n 'agama': 42,\n 'frilled lizard': 43,\n 'frilled lizard chlamydosaurus kingi': 43,\n 'chlamydosaurus kingi': 43,\n 'alligator lizard': 44,\n 'Gila monster': 45,\n 'gila monster heloderma suspectum': 45,\n 'heloderma suspectum': 45,\n 'green lizard': 46,\n 'green lizard lacerta viridis': 46,\n 'lacerta viridis': 46,\n 'African chameleon': 47,\n 'african chameleon chamaeleo chamaeleon': 47,\n 'chamaeleo chamaeleon': 47,\n 'Komodo dragon': 48,\n 'komodo dragon komodo lizard dragon lizard giant lizard varanus komodoensis': 48,\n 'komodo lizard': 48,\n 'dragon lizard': 48,\n 'giant lizard': 48,\n 'varanus komodoensis': 48,\n 'African crocodile': 49,\n 'african crocodile nile crocodile crocodylus niloticus': 49,\n 'nile crocodile': 49,\n 'crocodylus niloticus': 49,\n 'American alligator': 50,\n 'american alligator alligator mississipiensis': 50,\n 'alligator mississipiensis': 50,\n 'triceratops': 51,\n 'thunder snake': 52,\n 'carphophis amoenus': 52,\n 'thunder snake worm snake carphophis amoenus': 52,\n 'worm snake': 52,\n 'ringneck snake': 53,\n 'ringneck snake ringnecked snake ring snake': 53,\n 'ringnecked snake': 53,\n 'ring snake': 53,\n 'hognose snake': 54,\n 'hognose snake puff adder sand viper': 54,\n 'puff adder': 54,\n 'sand viper': 66,\n 'green snake': 55,\n 'green snake grass snake': 55,\n 'grass snake': 57,\n 'king snake': 56,\n 'king snake kingsnake': 56,\n 'kingsnake': 56,\n 'garter snake': 57,\n 'garter snake grass snake': 57,\n 'water snake': 58,\n 'vine snake': 59,\n 'night snake': 60,\n 'hypsiglena torquata': 60,\n 'night snake hypsiglena torquata': 60,\n 'boa constrictor': 61,\n 'boa constrictor constrictor constrictor': 61,\n 'constrictor constrictor': 61,\n 'rock python': 62,\n 'rock python rock snake python sebae': 62,\n 'rock snake': 62,\n 'python sebae': 62,\n 'Indian cobra': 63,\n 'indian cobra naja naja': 63,\n 'naja naja': 63,\n 'green mamba': 64,\n 'sea snake': 65,\n 'horned viper': 66,\n 'horned viper cerastes sand viper horned asp cerastes cornutus': 66,\n 'cerastes': 66,\n 'horned asp': 66,\n 'cerastes cornutus': 66,\n 'diamondback': 67,\n 'diamondback diamondback rattlesnake crotalus adamanteus': 67,\n 'diamondback rattlesnake': 67,\n 'crotalus adamanteus': 67,\n 'sidewinder': 68,\n 'horned rattlesnake': 68,\n 'sidewinder horned rattlesnake crotalus cerastes': 68,\n 'crotalus cerastes': 68,\n 'trilobite': 69,\n 'harvestman': 70,\n 'harvestman daddy longlegs phalangium opilio': 70,\n 'daddy longlegs': 70,\n 'phalangium opilio': 70,\n 'scorpion': 71,\n 'black and gold garden spider': 72,\n 'black and gold garden spider argiope aurantia': 72,\n 'argiope aurantia': 72,\n 'barn spider': 73,\n 'barn spider araneus cavaticus': 73,\n 'araneus cavaticus': 73,\n 'garden spider': 74,\n 'araneus diadematus': 74,\n 'garden spider aranea diademata': 74,\n 'aranea diademata': 74,\n 'black widow': 75,\n 'black widow spider': 75,\n 'black widow latrodectus mactans': 75,\n 'latrodectus mactans': 75,\n 'tarantula': 76,\n 'wolf spider': 77,\n 'wolf spider hunting spider': 77,\n 'hunting spider': 77,\n 'tick': 78,\n 'centipede': 79,\n 'black grouse': 80,\n 'ptarmigan': 81,\n 'ruffed grouse': 82,\n 'ruffed grouse partridge bonasa umbellus': 82,\n 'partridge': 86,\n 'bonasa umbellus': 82,\n 'prairie chicken': 83,\n 'prairie chicken prairie grouse prairie fowl': 83,\n 'prairie grouse': 83,\n 'prairie fowl': 83,\n 'peacock': 84,\n 'quail': 85,\n 'African grey': 87,\n 'african grey african gray psittacus erithacus': 87,\n 'african gray': 87,\n 'psittacus erithacus': 87,\n 'macaw': 88,\n 'sulphur-crested cockatoo': 89,\n 'sulphurcrested cockatoo kakatoe galerita cacatua galerita': 89,\n 'kakatoe galerita': 89,\n 'cacatua galerita': 89,\n 'lorikeet': 90,\n 'coucal': 91,\n 'bee eater': 92,\n 'hornbill': 93,\n 'hummingbird': 94,\n 'jacamar': 95,\n 'toucan': 96,\n 'drake': 97,\n 'drake duck': 97,\n 'red-breasted merganser': 98,\n 'redbreasted merganser mergus serrator': 98,\n 'mergus serrator': 98,\n 'goose': 99,\n 'black swan': 100,\n 'black swan cygnus atratus': 100,\n 'cygnus atratus': 100,\n 'tusker': 101,\n 'echidna': 102,\n 'echidna spiny anteater anteater': 102,\n 'spiny anteater': 102,\n 'anteater': 102,\n 'platypus': 103,\n 'platypus duckbill duckbilled platypus duckbilled platypus ornithorhynchus anatinus': 103,\n 'duckbill': 103,\n 'duckbilled platypus': 103,\n 'ornithorhynchus anatinus': 103,\n 'wallaby': 104,\n 'wallaby brush kangaroo': 104,\n 'brush kangaroo': 104,\n 'koala': 105,\n 'koala koala bear kangaroo bear native bear phascolarctos cinereus': 105,\n 'koala bear': 105,\n 'kangaroo bear': 105,\n 'native bear': 105,\n 'phascolarctos cinereus': 105,\n 'wombat': 106,\n 'jellyfish': 107,\n 'sea anemone': 108,\n 'sea anemone anemone': 108,\n 'anemone': 108,\n 'brain coral': 109,\n 'flatworm': 110,\n 'flatworm platyhelminth': 110,\n 'platyhelminth': 110,\n 'nematode': 111,\n 'nematode nematode worm roundworm': 111,\n 'nematode worm': 111,\n 'roundworm': 111,\n 'conch': 112,\n 'conch shell': 112,\n 'snail': 113,\n 'slug': 114,\n 'sea slug': 115,\n 'sea slug nudibranch': 115,\n 'nudibranch': 115,\n 'chiton': 116,\n 'chiton coatofmail shell sea cradle polyplacophore': 116,\n 'coatofmail shell': 116,\n 'sea cradle': 116,\n 'polyplacophore': 116,\n 'chambered nautilus': 117,\n 'chambered nautilus pearly nautilus nautilus': 117,\n 'pearly nautilus': 117,\n 'nautilus': 117,\n 'Dungeness crab': 118,\n 'dungeness crab cancer magister': 118,\n 'cancer magister': 118,\n 'rock crab': 119,\n 'rock crab cancer irroratus': 119,\n 'cancer irroratus': 119,\n 'fiddler crab': 120,\n 'king crab': 121,\n 'king crab alaska crab alaskan king crab alaska king crab paralithodes camtschatica': 121,\n 'alaska crab': 121,\n 'alaskan king crab': 121,\n 'alaska king crab': 121,\n 'paralithodes camtschatica': 121,\n 'American lobster': 122,\n 'american lobster northern lobster maine lobster homarus americanus': 122,\n 'northern lobster': 122,\n 'maine lobster': 122,\n 'homarus americanus': 122,\n 'spiny lobster': 123,\n 'spiny lobster langouste rock lobster crawfish crayfish sea crawfish': 123,\n 'langouste': 123,\n 'rock lobster': 123,\n 'crawfish': 124,\n 'crayfish': 124,\n 'sea crawfish': 123,\n 'crayfish crawfish crawdad crawdaddy': 124,\n 'crawdad': 124,\n 'crawdaddy': 124,\n 'hermit crab': 125,\n 'isopod': 126,\n 'white stork': 127,\n 'white stork ciconia ciconia': 127,\n 'ciconia ciconia': 127,\n 'black stork': 128,\n 'black stork ciconia nigra': 128,\n 'ciconia nigra': 128,\n 'spoonbill': 129,\n 'flamingo': 130,\n 'little blue heron': 131,\n 'little blue heron egretta caerulea': 131,\n 'egretta caerulea': 131,\n 'American egret': 132,\n 'american egret great white heron egretta albus': 132,\n 'great white heron': 132,\n 'egretta albus': 132,\n 'bittern': 133,\n 'crane': 517,\n 'limpkin': 135,\n 'limpkin aramus pictus': 135,\n 'aramus pictus': 135,\n 'European gallinule': 136,\n 'european gallinule porphyrio porphyrio': 136,\n 'porphyrio porphyrio': 136,\n 'American coot': 137,\n 'american coot marsh hen mud hen water hen fulica americana': 137,\n 'marsh hen': 137,\n 'mud hen': 137,\n 'water hen': 137,\n 'fulica americana': 137,\n 'bustard': 138,\n 'ruddy turnstone': 139,\n 'ruddy turnstone arenaria interpres': 139,\n 'arenaria interpres': 139,\n 'red-backed sandpiper': 140,\n 'redbacked sandpiper dunlin erolia alpina': 140,\n 'dunlin': 140,\n 'erolia alpina': 140,\n 'redshank': 141,\n 'redshank tringa totanus': 141,\n 'tringa totanus': 141,\n 'dowitcher': 142,\n 'oystercatcher': 143,\n 'oystercatcher oyster catcher': 143,\n 'oyster catcher': 143,\n 'pelican': 144,\n 'king penguin': 145,\n 'king penguin aptenodytes patagonica': 145,\n 'aptenodytes patagonica': 145,\n 'albatross': 146,\n 'albatross mollymawk': 146,\n 'mollymawk': 146,\n 'grey whale': 147,\n 'grey whale gray whale devilfish eschrichtius gibbosus eschrichtius robustus': 147,\n 'gray whale': 147,\n 'devilfish': 147,\n 'eschrichtius gibbosus': 147,\n 'eschrichtius robustus': 147,\n 'killer whale': 148,\n 'killer whale killer orca grampus sea wolf orcinus orca': 148,\n 'killer': 148,\n 'orca': 148,\n 'grampus': 148,\n 'sea wolf': 148,\n 'orcinus orca': 148,\n 'dugong': 149,\n 'dugong dugong dugon': 149,\n 'dugong dugon': 149,\n 'sea lion': 150,\n 'Chihuahua': 151,\n 'Japanese spaniel': 152,\n 'Maltese dog': 153,\n 'maltese dog maltese terrier maltese': 153,\n 'maltese terrier': 153,\n 'maltese': 153,\n 'Pekinese': 154,\n 'pekinese pekingese peke': 154,\n 'pekingese': 154,\n 'peke': 154,\n 'Shih-Tzu': 155,\n 'Blenheim spaniel': 156,\n 'papillon': 157,\n 'toy terrier': 158,\n 'Rhodesian ridgeback': 159,\n 'Afghan hound': 160,\n 'afghan hound afghan': 160,\n 'afghan': 160,\n 'basset': 161,\n 'basset basset hound': 161,\n 'basset hound': 161,\n 'beagle': 162,\n 'bloodhound': 163,\n 'bloodhound sleuthhound': 163,\n 'sleuthhound': 163,\n 'bluetick': 164,\n 'black-and-tan coonhound': 165,\n 'Walker hound': 166,\n 'walker hound walker foxhound': 166,\n 'walker foxhound': 166,\n 'English foxhound': 167,\n 'redbone': 168,\n 'redbone dog': 168,\n 'borzoi': 169,\n 'borzoi russian wolfhound': 169,\n 'russian wolfhound': 169,\n 'Irish wolfhound': 170,\n 'Italian greyhound': 171,\n 'whippet': 172,\n 'Ibizan hound': 173,\n 'ibizan hound ibizan podenco': 173,\n 'ibizan podenco': 173,\n 'Norwegian elkhound': 174,\n 'norwegian elkhound elkhound': 174,\n 'elkhound': 174,\n 'otterhound': 175,\n 'otterhound otter hound': 175,\n 'otter hound': 175,\n 'Saluki': 176,\n 'saluki gazelle hound': 176,\n 'gazelle hound': 176,\n 'Scottish deerhound': 177,\n 'scottish deerhound deerhound': 177,\n 'deerhound': 177,\n 'Weimaraner': 178,\n 'Staffordshire bullterrier': 179,\n 'staffordshire bullterrier staffordshire bull terrier': 179,\n 'staffordshire bull terrier': 179,\n 'American Staffordshire terrier': 180,\n 'american staffordshire terrier staffordshire terrier american pit bull terrier pit bull terrier': 180,\n 'staffordshire terrier': 180,\n 'american pit bull terrier': 180,\n 'pit bull terrier': 180,\n 'Bedlington terrier': 181,\n 'Border terrier': 182,\n 'Kerry blue terrier': 183,\n 'Irish terrier': 184,\n 'Norfolk terrier': 185,\n 'Norwich terrier': 186,\n 'Yorkshire terrier': 187,\n 'wire-haired fox terrier': 188,\n 'Lakeland terrier': 189,\n 'Sealyham terrier': 190,\n 'sealyham terrier sealyham': 190,\n 'sealyham': 190,\n 'Airedale': 191,\n 'airedale airedale terrier': 191,\n 'airedale terrier': 191,\n 'cairn': 192,\n 'cairn cairn terrier': 192,\n 'cairn terrier': 192,\n 'Australian terrier': 193,\n 'Dandie Dinmont': 194,\n 'dandie dinmont dandie dinmont terrier': 194,\n 'dandie dinmont terrier': 194,\n 'Boston bull': 195,\n 'boston bull boston terrier': 195,\n 'boston terrier': 195,\n 'miniature schnauzer': 196,\n 'giant schnauzer': 197,\n 'standard schnauzer': 198,\n 'Scotch terrier': 199,\n 'scotch terrier scottish terrier scottie': 199,\n 'scottish terrier': 199,\n 'scottie': 199,\n 'Tibetan terrier': 200,\n 'tibetan terrier chrysanthemum dog': 200,\n 'chrysanthemum dog': 200,\n 'silky terrier': 201,\n 'silky terrier sydney silky': 201,\n 'sydney silky': 201,\n 'soft-coated wheaten terrier': 202,\n 'West Highland white terrier': 203,\n 'Lhasa': 204,\n 'lhasa lhasa apso': 204,\n 'lhasa apso': 204,\n 'flat-coated retriever': 205,\n 'curly-coated retriever': 206,\n 'golden retriever': 207,\n 'Labrador retriever': 208,\n 'Chesapeake Bay retriever': 209,\n 'German short-haired pointer': 210,\n 'vizsla': 211,\n 'vizsla hungarian pointer': 211,\n 'hungarian pointer': 211,\n 'English setter': 212,\n 'Irish setter': 213,\n 'irish setter red setter': 213,\n 'red setter': 213,\n 'Gordon setter': 214,\n 'Brittany spaniel': 215,\n 'clumber': 216,\n 'clumber clumber spaniel': 216,\n 'clumber spaniel': 216,\n 'English springer': 217,\n 'english springer english springer spaniel': 217,\n 'english springer spaniel': 217,\n 'Welsh springer spaniel': 218,\n 'cocker spaniel': 219,\n 'cocker spaniel english cocker spaniel cocker': 219,\n 'english cocker spaniel': 219,\n 'cocker': 219,\n 'Sussex spaniel': 220,\n 'Irish water spaniel': 221,\n 'kuvasz': 222,\n 'schipperke': 223,\n 'groenendael': 224,\n 'malinois': 225,\n 'briard': 226,\n 'kelpie': 227,\n 'komondor': 228,\n 'Old English sheepdog': 229,\n 'old english sheepdog bobtail': 229,\n 'bobtail': 229,\n 'Shetland sheepdog': 230,\n 'shetland sheepdog shetland sheep dog shetland': 230,\n 'shetland sheep dog': 230,\n 'shetland': 230,\n 'collie': 231,\n 'Border collie': 232,\n 'Bouvier des Flandres': 233,\n 'bouvier des flandres bouviers des flandres': 233,\n 'bouviers des flandres': 233,\n 'Rottweiler': 234,\n 'German shepherd': 235,\n 'german shepherd german shepherd dog german police dog alsatian': 235,\n 'german shepherd dog': 235,\n 'german police dog': 235,\n 'alsatian': 235,\n 'Doberman': 236,\n 'doberman doberman pinscher': 236,\n 'doberman pinscher': 236,\n 'miniature pinscher': 237,\n 'Greater Swiss Mountain dog': 238,\n 'Bernese mountain dog': 239,\n 'Appenzeller': 240,\n 'EntleBucher': 241,\n 'boxer': 242,\n 'bull mastiff': 243,\n 'Tibetan mastiff': 244,\n 'French bulldog': 245,\n 'Great Dane': 246,\n 'Saint Bernard': 247,\n 'saint bernard st bernard': 247,\n 'st bernard': 247,\n 'Eskimo dog': 248,\n 'eskimo dog husky': 248,\n 'husky': 248,\n 'malamute': 249,\n 'malamute malemute alaskan malamute': 249,\n 'malemute': 249,\n 'alaskan malamute': 249,\n 'Siberian husky': 250,\n 'dalmatian': 251,\n 'dalmatian coach dog carriage dog': 251,\n 'coach dog': 251,\n 'carriage dog': 251,\n 'affenpinscher': 252,\n 'affenpinscher monkey pinscher monkey dog': 252,\n 'monkey pinscher': 252,\n 'monkey dog': 252,\n 'basenji': 253,\n 'pug': 254,\n 'pug pugdog': 254,\n 'pugdog': 254,\n 'Leonberg': 255,\n 'Newfoundland': 256,\n 'newfoundland newfoundland dog': 256,\n 'newfoundland dog': 256,\n 'Great Pyrenees': 257,\n 'Samoyed': 258,\n 'samoyed samoyede': 258,\n 'samoyede': 258,\n 'Pomeranian': 259,\n 'chow': 260,\n 'chow chow chow': 260,\n 'chow chow': 260,\n 'keeshond': 261,\n 'Brabancon griffon': 262,\n 'Pembroke': 263,\n 'pembroke pembroke welsh corgi': 263,\n 'pembroke welsh corgi': 263,\n 'Cardigan': 264,\n 'cardigan cardigan welsh corgi': 264,\n 'cardigan welsh corgi': 264,\n 'toy poodle': 265,\n 'miniature poodle': 266,\n 'standard poodle': 267,\n 'Mexican hairless': 268,\n 'timber wolf': 269,\n 'timber wolf grey wolf gray wolf canis lupus': 269,\n 'grey wolf': 269,\n 'gray wolf': 269,\n 'canis lupus': 269,\n 'white wolf': 270,\n 'white wolf arctic wolf canis lupus tundrarum': 270,\n 'arctic wolf': 270,\n 'canis lupus tundrarum': 270,\n 'red wolf': 271,\n 'red wolf maned wolf canis rufus canis niger': 271,\n 'maned wolf': 271,\n 'canis rufus': 271,\n 'canis niger': 271,\n 'coyote': 272,\n 'coyote prairie wolf brush wolf canis latrans': 272,\n 'prairie wolf': 272,\n 'brush wolf': 272,\n 'canis latrans': 272,\n 'dingo': 273,\n 'dingo warrigal warragal canis dingo': 273,\n 'warrigal': 273,\n 'warragal': 273,\n 'canis dingo': 273,\n 'dhole': 274,\n 'dhole cuon alpinus': 274,\n 'cuon alpinus': 274,\n 'African hunting dog': 275,\n 'african hunting dog hyena dog cape hunting dog lycaon pictus': 275,\n 'hyena dog': 275,\n 'cape hunting dog': 275,\n 'lycaon pictus': 275,\n 'hyena': 276,\n 'hyena hyaena': 276,\n 'hyaena': 276,\n 'red fox': 277,\n 'red fox vulpes vulpes': 277,\n 'vulpes vulpes': 277,\n 'kit fox': 278,\n 'kit fox vulpes macrotis': 278,\n 'vulpes macrotis': 278,\n 'Arctic fox': 279,\n 'arctic fox white fox alopex lagopus': 279,\n 'white fox': 279,\n 'alopex lagopus': 279,\n 'grey fox': 280,\n 'grey fox gray fox urocyon cinereoargenteus': 280,\n 'gray fox': 280,\n 'urocyon cinereoargenteus': 280,\n 'tabby': 281,\n 'tabby tabby cat': 281,\n 'tabby cat': 281,\n 'tiger cat': 282,\n 'Persian cat': 283,\n 'Siamese cat': 284,\n 'siamese cat siamese': 284,\n 'siamese': 284,\n 'Egyptian cat': 285,\n 'cougar': 286,\n 'cougar puma catamount mountain lion painter panther felis concolor': 286,\n 'puma': 286,\n 'catamount': 287,\n 'mountain lion': 286,\n 'painter': 286,\n 'panther': 290,\n 'felis concolor': 286,\n 'lynx': 287,\n 'lynx catamount': 287,\n 'leopard': 288,\n 'leopard panthera pardus': 288,\n 'panthera pardus': 288,\n 'snow leopard': 289,\n 'snow leopard ounce panthera uncia': 289,\n 'ounce': 289,\n 'panthera uncia': 289,\n 'jaguar': 290,\n 'jaguar panther panthera onca felis onca': 290,\n 'panthera onca': 290,\n 'felis onca': 290,\n 'lion': 291,\n 'lion king of beasts panthera leo': 291,\n 'king of beasts': 291,\n 'panthera leo': 291,\n 'tiger': 292,\n 'tiger panthera tigris': 292,\n 'panthera tigris': 292,\n 'cheetah': 293,\n 'cheetah chetah acinonyx jubatus': 293,\n 'chetah': 293,\n 'acinonyx jubatus': 293,\n 'brown bear': 294,\n 'brown bear bruin ursus arctos': 294,\n 'bruin': 294,\n 'ursus arctos': 294,\n 'American black bear': 295,\n 'american black bear black bear ursus americanus euarctos americanus': 295,\n 'black bear': 295,\n 'ursus americanus': 295,\n 'euarctos americanus': 295,\n 'ice bear': 296,\n 'ice bear polar bear ursus maritimus thalarctos maritimus': 296,\n 'polar bear': 296,\n 'ursus maritimus': 296,\n 'thalarctos maritimus': 296,\n 'sloth bear': 297,\n 'sloth bear melursus ursinus ursus ursinus': 297,\n 'melursus ursinus': 297,\n 'ursus ursinus': 297,\n 'mongoose': 298,\n 'meerkat': 299,\n 'meerkat mierkat': 299,\n 'mierkat': 299,\n 'tiger beetle': 300,\n 'ladybug': 301,\n 'ladybug ladybeetle lady beetle ladybird ladybird beetle': 301,\n 'ladybeetle': 301,\n 'lady beetle': 301,\n 'ladybird': 301,\n 'ladybird beetle': 301,\n 'ground beetle': 302,\n 'ground beetle carabid beetle': 302,\n 'carabid beetle': 302,\n 'long-horned beetle': 303,\n 'longhorned beetle longicorn longicorn beetle': 303,\n 'longicorn': 303,\n 'longicorn beetle': 303,\n 'leaf beetle': 304,\n 'leaf beetle chrysomelid': 304,\n 'chrysomelid': 304,\n 'dung beetle': 305,\n 'rhinoceros beetle': 306,\n 'weevil': 307,\n 'fly': 308,\n 'bee': 309,\n 'ant': 310,\n 'ant emmet pismire': 310,\n 'emmet': 310,\n 'pismire': 310,\n 'grasshopper': 311,\n 'grasshopper hopper': 311,\n 'hopper': 311,\n 'cricket': 312,\n 'cricket bug': 312,\n 'walking stick': 313,\n 'walking stick walkingstick stick insect': 313,\n 'walkingstick': 313,\n 'stick insect': 313,\n 'cockroach': 314,\n 'cockroach roach': 314,\n 'roach': 314,\n 'mantis': 315,\n 'mantis mantid': 315,\n 'mantid': 315,\n 'cicada': 316,\n 'cicada cicala': 316,\n 'cicala': 316,\n 'leafhopper': 317,\n 'lacewing': 318,\n 'lacewing lacewing fly': 318,\n 'lacewing fly': 318,\n 'dragonfly': 319,\n \"dragonfly darning needle devil's darning needle sewing needle snake feeder snake doctor mosquito hawk skeeter hawk\": 319,\n 'darning needle': 319,\n \"devil's darning needle\": 319,\n 'sewing needle': 319,\n 'snake feeder': 319,\n 'snake doctor': 319,\n 'mosquito hawk': 319,\n 'skeeter hawk': 319,\n 'damselfly': 320,\n 'admiral': 321,\n 'admiral butterfly': 321,\n 'ringlet': 322,\n 'ringlet ringlet butterfly': 322,\n 'ringlet butterfly': 322,\n 'monarch': 323,\n 'monarch monarch butterfly milkweed butterfly danaus plexippus': 323,\n 'monarch butterfly': 323,\n 'milkweed butterfly': 323,\n 'danaus plexippus': 323,\n 'cabbage butterfly': 324,\n 'sulphur butterfly': 325,\n 'sulphur butterfly sulfur butterfly': 325,\n 'sulfur butterfly': 325,\n 'lycaenid': 326,\n 'lycaenid lycaenid butterfly': 326,\n 'lycaenid butterfly': 326,\n 'starfish': 327,\n 'starfish sea star': 327,\n 'sea star': 327,\n 'sea urchin': 328,\n 'sea cucumber': 329,\n 'sea cucumber holothurian': 329,\n 'holothurian': 329,\n 'wood rabbit': 330,\n 'wood rabbit cottontail cottontail rabbit': 330,\n 'cottontail': 330,\n 'cottontail rabbit': 330,\n 'hare': 331,\n 'Angora': 332,\n 'angora angora rabbit': 332,\n 'angora rabbit': 332,\n 'hamster': 333,\n 'porcupine': 334,\n 'porcupine hedgehog': 334,\n 'hedgehog': 334,\n 'fox squirrel': 335,\n 'fox squirrel eastern fox squirrel sciurus niger': 335,\n 'eastern fox squirrel': 335,\n 'sciurus niger': 335,\n 'marmot': 336,\n 'beaver': 337,\n 'guinea pig': 338,\n 'guinea pig cavia cobaya': 338,\n 'cavia cobaya': 338,\n 'sorrel': 339,\n 'zebra': 340,\n 'hog': 341,\n 'hog pig grunter squealer sus scrofa': 341,\n 'pig': 341,\n 'grunter': 341,\n 'squealer': 341,\n 'sus scrofa': 342,\n 'wild boar': 342,\n 'wild boar boar sus scrofa': 342,\n 'boar': 342,\n 'warthog': 343,\n 'hippopotamus': 344,\n 'hippopotamus hippo river horse hippopotamus amphibius': 344,\n 'hippo': 344,\n 'river horse': 344,\n 'hippopotamus amphibius': 344,\n 'ox': 345,\n 'water buffalo': 346,\n 'water buffalo water ox asiatic buffalo bubalus bubalis': 346,\n 'water ox': 346,\n 'asiatic buffalo': 346,\n 'bubalus bubalis': 346,\n 'bison': 347,\n 'ram': 348,\n 'ram tup': 348,\n 'tup': 348,\n 'bighorn': 349,\n 'bighorn bighorn sheep cimarron rocky mountain bighorn rocky mountain sheep ovis canadensis': 349,\n 'bighorn sheep': 349,\n 'cimarron': 349,\n 'rocky mountain bighorn': 349,\n 'rocky mountain sheep': 349,\n 'ovis canadensis': 349,\n 'ibex': 350,\n 'ibex capra ibex': 350,\n 'capra ibex': 350,\n 'hartebeest': 351,\n 'impala': 352,\n 'impala aepyceros melampus': 352,\n 'aepyceros melampus': 352,\n 'gazelle': 353,\n 'Arabian camel': 354,\n 'arabian camel dromedary camelus dromedarius': 354,\n 'dromedary': 354,\n 'camelus dromedarius': 354,\n 'llama': 355,\n 'weasel': 356,\n 'mink': 357,\n 'polecat': 361,\n 'polecat fitch foulmart foumart mustela putorius': 358,\n 'fitch': 358,\n 'foulmart': 358,\n 'foumart': 358,\n 'mustela putorius': 358,\n 'black-footed ferret': 359,\n 'blackfooted ferret ferret mustela nigripes': 359,\n 'ferret': 359,\n 'mustela nigripes': 359,\n 'otter': 360,\n 'skunk': 361,\n 'skunk polecat wood pussy': 361,\n 'wood pussy': 361,\n 'badger': 362,\n 'armadillo': 363,\n 'three-toed sloth': 364,\n 'threetoed sloth ai bradypus tridactylus': 364,\n 'ai': 364,\n 'bradypus tridactylus': 364,\n 'orangutan': 365,\n 'orangutan orang orangutang pongo pygmaeus': 365,\n 'orang': 365,\n 'orangutang': 365,\n 'pongo pygmaeus': 365,\n 'gorilla': 366,\n 'gorilla gorilla gorilla': 366,\n 'gorilla gorilla': 366,\n 'chimpanzee': 367,\n 'chimpanzee chimp pan troglodytes': 367,\n 'chimp': 367,\n 'pan troglodytes': 367,\n 'gibbon': 368,\n 'gibbon hylobates lar': 368,\n 'hylobates lar': 368,\n 'siamang': 369,\n 'siamang hylobates syndactylus symphalangus syndactylus': 369,\n 'hylobates syndactylus': 369,\n 'symphalangus syndactylus': 369,\n 'guenon': 370,\n 'guenon guenon monkey': 370,\n 'guenon monkey': 370,\n 'patas': 371,\n 'patas hussar monkey erythrocebus patas': 371,\n 'hussar monkey': 371,\n 'erythrocebus patas': 371,\n 'baboon': 372,\n 'macaque': 373,\n 'langur': 374,\n 'colobus': 375,\n 'colobus colobus monkey': 375,\n 'colobus monkey': 375,\n 'proboscis monkey': 376,\n 'proboscis monkey nasalis larvatus': 376,\n 'nasalis larvatus': 376,\n 'marmoset': 377,\n 'capuchin': 378,\n 'capuchin ringtail cebus capucinus': 378,\n 'ringtail': 378,\n 'cebus capucinus': 378,\n 'howler monkey': 379,\n 'howler monkey howler': 379,\n 'howler': 379,\n 'titi': 380,\n 'titi titi monkey': 380,\n 'titi monkey': 380,\n 'spider monkey': 381,\n 'spider monkey ateles geoffroyi': 381,\n 'ateles geoffroyi': 381,\n 'squirrel monkey': 382,\n 'squirrel monkey saimiri sciureus': 382,\n 'saimiri sciureus': 382,\n 'Madagascar cat': 383,\n 'madagascar cat ringtailed lemur lemur catta': 383,\n 'ringtailed lemur': 383,\n 'lemur catta': 383,\n 'indri': 384,\n 'indri indris indri indri indri brevicaudatus': 384,\n 'indris': 384,\n 'indri indri': 384,\n 'indri brevicaudatus': 384,\n 'Indian elephant': 385,\n 'indian elephant elephas maximus': 385,\n 'elephas maximus': 385,\n 'African elephant': 386,\n 'african elephant loxodonta africana': 386,\n 'loxodonta africana': 386,\n 'lesser panda': 387,\n 'lesser panda red panda panda bear cat cat bear ailurus fulgens': 387,\n 'red panda': 387,\n 'panda': 388,\n 'bear cat': 387,\n 'cat bear': 387,\n 'ailurus fulgens': 387,\n 'giant panda': 388,\n 'giant panda panda panda bear coon bear ailuropoda melanoleuca': 388,\n 'panda bear': 388,\n 'coon bear': 388,\n 'ailuropoda melanoleuca': 388,\n 'barracouta': 389,\n 'barracouta snoek': 389,\n 'snoek': 389,\n 'eel': 390,\n 'coho': 391,\n 'coho salmon fishing': 391,\n 'coho cohoe coho salmon blue jack silver salmon oncorhynchus kisutch': 391,\n ...}"
     },
     "execution_count": 31,
     "metadata": {},
     "output_type": "execute_result"
    }
   ],
   "source": [
    "def preprocess_text(text):\n",
    "    return re.sub(\"[-$%@#/?!.,()0-9]\", \"\", text).lower()\n",
    "\n",
    "long_labels = yrevar_labels  # updated from cell below\n",
    "\n",
    "imagenet_label_suggestions = []\n",
    "imagenet_class_index = {}\n",
    "for i, label in enumerate(original_labels):\n",
    "    suggestion_text = f\"{label} (\"\n",
    "    imagenet_class_index[label] = i\n",
    "    if modified_labels[i] != label:\n",
    "        suggestion_text += f\"{modified_labels[i]}\"\n",
    "        imagenet_class_index[preprocess_text(modified_labels[i])] = i\n",
    "    if long_labels[i] != label:\n",
    "        imagenet_class_index[preprocess_text(long_labels[i])] = i\n",
    "        if ',' in long_labels[i]:\n",
    "            label_split = long_labels[i].split(', ')\n",
    "            for elem in label_split:\n",
    "                if elem != label:\n",
    "                    if suggestion_text[-1] != \"(\":\n",
    "                        suggestion_text += \", \"\n",
    "                    suggestion_text += elem\n",
    "                    imagenet_class_index[preprocess_text(elem)] = i\n",
    "        else:\n",
    "            suggestion_text += f\"{long_labels[i]})\"\n",
    "    if suggestion_text[-1] == \"(\":\n",
    "        suggestion_text = suggestion_text[0:-2]\n",
    "    elif suggestion_text[-1] != \")\":\n",
    "        suggestion_text += \")\"\n",
    "    imagenet_label_suggestions.append(suggestion_text)\n",
    "imagenet_class_index"
   ],
   "metadata": {
    "collapsed": false,
    "pycharm": {
     "name": "#%%\n"
    }
   }
  },
  {
   "cell_type": "code",
   "execution_count": 32,
   "outputs": [
    {
     "data": {
      "text/plain": "['tench (Tinca tinca)',\n 'goldfish (Carassius auratus)',\n 'great white shark (white shark, man-eater, man-eating shark, Carcharodon carcharias)',\n 'tiger shark (Galeocerdo cuvieri)',\n 'hammerhead (hammerhead shark)',\n 'electric ray (crampfish, numbfish, torpedo)',\n 'stingray',\n 'cock (cockerel)',\n 'hen',\n 'ostrich (Struthio camelus)',\n 'brambling (Fringilla montifringilla)',\n 'goldfinch (Carduelis carduelis)',\n 'house finch (linnet, Carpodacus mexicanus)',\n 'junco (snowbird)',\n 'indigo bunting (indigo finch, indigo bird, Passerina cyanea)',\n 'robin (American robin, Turdus migratorius)',\n 'bulbul',\n 'jay',\n 'magpie',\n 'chickadee',\n 'water ouzel (dipper bird, dipper)',\n 'kite (kite hawk)',\n 'bald eagle (American eagle, Haliaeetus leucocephalus)',\n 'vulture',\n 'great grey owl (great gray owl, Strix nebulosa)',\n 'European fire salamander (Salamandra salamandra)',\n 'common newt (Triturus vulgaris)',\n 'eft (eft newt)',\n 'spotted salamander (Ambystoma maculatum)',\n 'axolotl (mud puppy, Ambystoma mexicanum)',\n 'bullfrog (Rana catesbeiana)',\n 'tree frog (tree-frog)',\n 'tailed frog (bell toad, ribbed toad, tailed toad, Ascaphus trui)',\n 'loggerhead (loggerhead turtle, Caretta caretta)',\n 'leatherback turtle (leatherback, leathery turtle, Dermochelys coriacea)',\n 'mud turtle',\n 'terrapin',\n 'box turtle (box tortoise)',\n 'banded gecko',\n 'common iguana (iguana, Iguana iguana)',\n 'American chameleon (anole, Anolis carolinensis)',\n 'whiptail (whiptail lizard)',\n 'agama',\n 'frilled lizard (Chlamydosaurus kingi)',\n 'alligator lizard',\n 'Gila monster (Heloderma suspectum)',\n 'green lizard (Lacerta viridis)',\n 'African chameleon (Chamaeleo chamaeleon)',\n 'Komodo dragon (Komodo lizard, dragon lizard, giant lizard, Varanus komodoensis)',\n 'African crocodile (Nile crocodile, Crocodylus niloticus)',\n 'American alligator (Alligator mississipiensis)',\n 'triceratops',\n 'thunder snake (Carphophis amoenus, worm snake, Carphophis amoenus)',\n 'ringneck snake (ring-necked snake, ring snake)',\n 'hognose snake (puff adder, sand viper)',\n 'green snake (grass snake)',\n 'king snake (kingsnake)',\n 'garter snake (grass snake)',\n 'water snake',\n 'vine snake',\n 'night snake (Hypsiglena torquata, Hypsiglena torquata)',\n 'boa constrictor (Constrictor constrictor)',\n 'rock python (rock snake, Python sebae)',\n 'Indian cobra (Naja naja)',\n 'green mamba',\n 'sea snake',\n 'horned viper (cerastes, sand viper, horned asp, Cerastes cornutus)',\n 'diamondback (diamondback rattlesnake, Crotalus adamanteus)',\n 'sidewinder (horned rattlesnake, horned rattlesnake, Crotalus cerastes)',\n 'trilobite',\n 'harvestman (daddy longlegs, Phalangium opilio)',\n 'scorpion',\n 'black and gold garden spider (Argiope aurantia)',\n 'barn spider (Araneus cavaticus)',\n 'garden spider (araneus diadematus, Aranea diademata)',\n 'black widow (black widow spider, Latrodectus mactans)',\n 'tarantula',\n 'wolf spider (hunting spider)',\n 'tick',\n 'centipede',\n 'black grouse',\n 'ptarmigan',\n 'ruffed grouse (partridge, Bonasa umbellus)',\n 'prairie chicken (prairie grouse, prairie fowl)',\n 'peacock',\n 'quail',\n 'partridge',\n 'African grey (African gray, Psittacus erithacus)',\n 'macaw',\n 'sulphur-crested cockatoo (Kakatoe galerita, Cacatua galerita)',\n 'lorikeet',\n 'coucal',\n 'bee eater',\n 'hornbill',\n 'hummingbird',\n 'jacamar',\n 'toucan',\n 'drake (drake duck)',\n 'red-breasted merganser (Mergus serrator)',\n 'goose',\n 'black swan (Cygnus atratus)',\n 'tusker',\n 'echidna (spiny anteater, anteater)',\n 'platypus (duckbill, duckbilled platypus, duck-billed platypus, Ornithorhynchus anatinus)',\n 'wallaby (brush kangaroo)',\n 'koala (koala bear, kangaroo bear, native bear, Phascolarctos cinereus)',\n 'wombat',\n 'jellyfish',\n 'sea anemone (anemone)',\n 'brain coral',\n 'flatworm (platyhelminth)',\n 'nematode (nematode worm, roundworm)',\n 'conch (conch shell)',\n 'snail',\n 'slug',\n 'sea slug (nudibranch)',\n 'chiton (coat-of-mail shell, sea cradle, polyplacophore)',\n 'chambered nautilus (pearly nautilus, nautilus)',\n 'Dungeness crab (Cancer magister)',\n 'rock crab (Cancer irroratus)',\n 'fiddler crab',\n 'king crab (Alaska crab, Alaskan king crab, Alaska king crab, Paralithodes camtschatica)',\n 'American lobster (Northern lobster, Maine lobster, Homarus americanus)',\n 'spiny lobster (langouste, rock lobster, crawfish, crayfish, sea crawfish)',\n 'crayfish (crawfish, crawdad, crawdaddy)',\n 'hermit crab',\n 'isopod',\n 'white stork (Ciconia ciconia)',\n 'black stork (Ciconia nigra)',\n 'spoonbill',\n 'flamingo',\n 'little blue heron (Egretta caerulea)',\n 'American egret (great white heron, Egretta albus)',\n 'bittern',\n 'crane',\n 'limpkin (Aramus pictus)',\n 'European gallinule (Porphyrio porphyrio)',\n 'American coot (marsh hen, mud hen, water hen, Fulica americana)',\n 'bustard',\n 'ruddy turnstone (Arenaria interpres)',\n 'red-backed sandpiper (dunlin, Erolia alpina)',\n 'redshank (Tringa totanus)',\n 'dowitcher',\n 'oystercatcher (oyster catcher)',\n 'pelican',\n 'king penguin (Aptenodytes patagonica)',\n 'albatross (mollymawk)',\n 'grey whale (gray whale, devilfish, Eschrichtius gibbosus, Eschrichtius robustus)',\n 'killer whale (killer, orca, grampus, sea wolf, Orcinus orca)',\n 'dugong (Dugong dugon)',\n 'sea lion',\n 'Chihuahua',\n 'Japanese spaniel',\n 'Maltese dog (Maltese terrier, Maltese)',\n 'Pekinese (Pekingese, Peke)',\n 'Shih-Tzu',\n 'Blenheim spaniel',\n 'papillon',\n 'toy terrier',\n 'Rhodesian ridgeback',\n 'Afghan hound (Afghan)',\n 'basset (basset hound)',\n 'beagle',\n 'bloodhound (sleuthhound)',\n 'bluetick',\n 'black-and-tan coonhound',\n 'Walker hound (Walker foxhound)',\n 'English foxhound',\n 'redbone (redbone dog)',\n 'borzoi (Russian wolfhound)',\n 'Irish wolfhound',\n 'Italian greyhound',\n 'whippet',\n 'Ibizan hound (Ibizan Podenco)',\n 'Norwegian elkhound (elkhound)',\n 'otterhound (otter hound)',\n 'Saluki (gazelle hound)',\n 'Scottish deerhound (deerhound)',\n 'Weimaraner',\n 'Staffordshire bullterrier (Staffordshire bull terrier)',\n 'American Staffordshire terrier (Staffordshire terrier, American pit bull terrier, pit bull terrier)',\n 'Bedlington terrier',\n 'Border terrier',\n 'Kerry blue terrier',\n 'Irish terrier',\n 'Norfolk terrier',\n 'Norwich terrier',\n 'Yorkshire terrier',\n 'wire-haired fox terrier',\n 'Lakeland terrier',\n 'Sealyham terrier (Sealyham)',\n 'Airedale (Airedale terrier)',\n 'cairn (cairn terrier)',\n 'Australian terrier',\n 'Dandie Dinmont (Dandie Dinmont terrier)',\n 'Boston bull (Boston terrier)',\n 'miniature schnauzer',\n 'giant schnauzer',\n 'standard schnauzer',\n 'Scotch terrier (Scottish terrier, Scottie)',\n 'Tibetan terrier (chrysanthemum dog)',\n 'silky terrier (Sydney silky)',\n 'soft-coated wheaten terrier',\n 'West Highland white terrier',\n 'Lhasa (Lhasa apso)',\n 'flat-coated retriever',\n 'curly-coated retriever',\n 'golden retriever',\n 'Labrador retriever',\n 'Chesapeake Bay retriever',\n 'German short-haired pointer',\n 'vizsla (Hungarian pointer)',\n 'English setter',\n 'Irish setter (red setter)',\n 'Gordon setter',\n 'Brittany spaniel',\n 'clumber (clumber spaniel)',\n 'English springer (English springer spaniel)',\n 'Welsh springer spaniel',\n 'cocker spaniel (English cocker spaniel, cocker)',\n 'Sussex spaniel',\n 'Irish water spaniel',\n 'kuvasz',\n 'schipperke',\n 'groenendael',\n 'malinois',\n 'briard',\n 'kelpie',\n 'komondor',\n 'Old English sheepdog (bobtail)',\n 'Shetland sheepdog (Shetland sheep dog, Shetland)',\n 'collie',\n 'Border collie',\n 'Bouvier des Flandres (Bouviers des Flandres)',\n 'Rottweiler',\n 'German shepherd (German shepherd dog, German police dog, alsatian)',\n 'Doberman (Doberman pinscher)',\n 'miniature pinscher',\n 'Greater Swiss Mountain dog',\n 'Bernese mountain dog',\n 'Appenzeller',\n 'EntleBucher',\n 'boxer',\n 'bull mastiff',\n 'Tibetan mastiff',\n 'French bulldog',\n 'Great Dane',\n 'Saint Bernard (St Bernard)',\n 'Eskimo dog (husky)',\n 'malamute (malemute, Alaskan malamute)',\n 'Siberian husky',\n 'dalmatian (coach dog, carriage dog)',\n 'affenpinscher (monkey pinscher, monkey dog)',\n 'basenji',\n 'pug (pug-dog)',\n 'Leonberg',\n 'Newfoundland (Newfoundland dog)',\n 'Great Pyrenees',\n 'Samoyed (Samoyede)',\n 'Pomeranian',\n 'chow (chow chow)',\n 'keeshond',\n 'Brabancon griffon',\n 'Pembroke (Pembroke Welsh corgi)',\n 'Cardigan (Cardigan Welsh corgi)',\n 'toy poodle',\n 'miniature poodle',\n 'standard poodle',\n 'Mexican hairless',\n 'timber wolf (grey wolf, gray wolf, Canis lupus)',\n 'white wolf (Arctic wolf, Canis lupus tundrarum)',\n 'red wolf (maned wolf, Canis rufus, Canis niger)',\n 'coyote (prairie wolf, brush wolf, Canis latrans)',\n 'dingo (warrigal, warragal, Canis dingo)',\n 'dhole (Cuon alpinus)',\n 'African hunting dog (hyena dog, Cape hunting dog, Lycaon pictus)',\n 'hyena (hyaena)',\n 'red fox (Vulpes vulpes)',\n 'kit fox (Vulpes macrotis)',\n 'Arctic fox (white fox, Alopex lagopus)',\n 'grey fox (gray fox, Urocyon cinereoargenteus)',\n 'tabby (tabby cat)',\n 'tiger cat',\n 'Persian cat',\n 'Siamese cat (Siamese)',\n 'Egyptian cat',\n 'cougar (puma, catamount, mountain lion, painter, panther, Felis concolor)',\n 'lynx (catamount)',\n 'leopard (Panthera pardus)',\n 'snow leopard (ounce, Panthera uncia)',\n 'jaguar (panther, Panthera onca, Felis onca)',\n 'lion (king of beasts, Panthera leo)',\n 'tiger (Panthera tigris)',\n 'cheetah (chetah, Acinonyx jubatus)',\n 'brown bear (bruin, Ursus arctos)',\n 'American black bear (black bear, Ursus americanus, Euarctos americanus)',\n 'ice bear (polar bear, Ursus Maritimus, Thalarctos maritimus)',\n 'sloth bear (Melursus ursinus, Ursus ursinus)',\n 'mongoose',\n 'meerkat (mierkat)',\n 'tiger beetle',\n 'ladybug (ladybeetle, lady beetle, ladybird, ladybird beetle)',\n 'ground beetle (carabid beetle)',\n 'long-horned beetle (longicorn, longicorn beetle)',\n 'leaf beetle (chrysomelid)',\n 'dung beetle',\n 'rhinoceros beetle',\n 'weevil',\n 'fly',\n 'bee',\n 'ant (emmet, pismire)',\n 'grasshopper (hopper)',\n 'cricket (cricket bug)',\n 'walking stick (walkingstick, stick insect)',\n 'cockroach (roach)',\n 'mantis (mantid)',\n 'cicada (cicala)',\n 'leafhopper',\n 'lacewing (lacewing fly)',\n \"dragonfly (darning needle, devil's darning needle, sewing needle, snake feeder, snake doctor, mosquito hawk, skeeter hawk)\",\n 'damselfly',\n 'admiral (admiral butterfly)',\n 'ringlet (ringlet butterfly)',\n 'monarch (monarch butterfly, milkweed butterfly, Danaus plexippus)',\n 'cabbage butterfly',\n 'sulphur butterfly (sulfur butterfly)',\n 'lycaenid (lycaenid butterfly)',\n 'starfish (sea star)',\n 'sea urchin',\n 'sea cucumber (holothurian)',\n 'wood rabbit (cottontail, cottontail rabbit)',\n 'hare',\n 'Angora (Angora rabbit)',\n 'hamster',\n 'porcupine (hedgehog)',\n 'fox squirrel (eastern fox squirrel, Sciurus niger)',\n 'marmot',\n 'beaver',\n 'guinea pig (Cavia cobaya)',\n 'sorrel',\n 'zebra',\n 'hog (pig, grunter, squealer, Sus scrofa)',\n 'wild boar (boar, Sus scrofa)',\n 'warthog',\n 'hippopotamus (hippo, river horse, Hippopotamus amphibius)',\n 'ox',\n 'water buffalo (water ox, Asiatic buffalo, Bubalus bubalis)',\n 'bison',\n 'ram (tup)',\n 'bighorn (bighorn sheep, cimarron, Rocky Mountain bighorn, Rocky Mountain sheep, Ovis canadensis)',\n 'ibex (Capra ibex)',\n 'hartebeest',\n 'impala (Aepyceros melampus)',\n 'gazelle',\n 'Arabian camel (dromedary, Camelus dromedarius)',\n 'llama',\n 'weasel',\n 'mink',\n 'polecat (fitch, foulmart, foumart, Mustela putorius)',\n 'black-footed ferret (ferret, Mustela nigripes)',\n 'otter',\n 'skunk (polecat, wood pussy)',\n 'badger',\n 'armadillo',\n 'three-toed sloth (ai, Bradypus tridactylus)',\n 'orangutan (orang, orangutang, Pongo pygmaeus)',\n 'gorilla (Gorilla gorilla)',\n 'chimpanzee (chimp, Pan troglodytes)',\n 'gibbon (Hylobates lar)',\n 'siamang (Hylobates syndactylus, Symphalangus syndactylus)',\n 'guenon (guenon monkey)',\n 'patas (hussar monkey, Erythrocebus patas)',\n 'baboon',\n 'macaque',\n 'langur',\n 'colobus (colobus monkey)',\n 'proboscis monkey (Nasalis larvatus)',\n 'marmoset',\n 'capuchin (ringtail, Cebus capucinus)',\n 'howler monkey (howler)',\n 'titi (titi monkey)',\n 'spider monkey (Ateles geoffroyi)',\n 'squirrel monkey (Saimiri sciureus)',\n 'Madagascar cat (ring-tailed lemur, Lemur catta)',\n 'indri (indris, Indri indri, Indri brevicaudatus)',\n 'Indian elephant (Elephas maximus)',\n 'African elephant (Loxodonta africana)',\n 'lesser panda (red panda, panda, bear cat, cat bear, Ailurus fulgens)',\n 'giant panda (panda, panda bear, coon bear, Ailuropoda melanoleuca)',\n 'barracouta (snoek)',\n 'eel',\n 'coho (coho salmon fishing, cohoe, coho salmon, blue jack, silver salmon, Oncorhynchus kisutch)',\n 'rock beauty (Holocanthus tricolor)',\n 'anemone fish',\n 'sturgeon',\n 'gar (gar fish, garfish, garpike, billfish, Lepisosteus osseus)',\n 'lionfish',\n 'puffer (pufferfish, blowfish, globefish)',\n 'abacus',\n 'abaya',\n \"academic gown (academic robe, judge's robe)\",\n 'accordion (piano accordion, squeeze box)',\n 'acoustic guitar',\n 'aircraft carrier (carrier, flattop, attack aircraft carrier)',\n 'airliner',\n 'airship (dirigible)',\n 'altar',\n 'ambulance',\n 'amphibian (amphibious vehicle)',\n 'analog clock',\n 'apiary (bee house)',\n 'apron',\n 'ashcan (trash can, garbage can, wastebin, ash bin, ash-bin, ashbin, dustbin, trash barrel, trash bin)',\n 'assault rifle (assault gun)',\n 'backpack (back pack, knapsack, packsack, rucksack, haversack)',\n 'bakery (bakeshop, bakehouse)',\n 'balance beam (beam)',\n 'balloon',\n 'ballpoint (ballpoint pen, ballpen, Biro)',\n 'Band Aid',\n 'banjo',\n 'bannister (banister, balustrade, balusters, handrail)',\n 'barbell',\n 'barber chair',\n 'barbershop',\n 'barn',\n 'barometer',\n 'barrel (cask)',\n 'barrow (garden cart, lawn cart, wheelbarrow)',\n 'baseball',\n 'basketball',\n 'bassinet',\n 'bassoon',\n 'bathing cap (swimming cap)',\n 'bath towel',\n 'bathtub (bathing tub, bath, tub)',\n 'beach wagon (station wagon, wagon, estate car, beach waggon, station waggon, waggon)',\n 'beacon (lighthouse, beacon light, pharos)',\n 'beaker',\n 'bearskin (busby, shako)',\n 'beer bottle',\n 'beer glass',\n 'bell cote (bell cot)',\n 'bib',\n 'bicycle-built-for-two (tandem bicycle, tandem)',\n 'bikini (two-piece)',\n 'binder (ring-binder)',\n 'binoculars (field glasses, opera glasses)',\n 'birdhouse',\n 'boathouse',\n 'bobsled (bobsleigh, bob)',\n 'bolo tie (bolo, bola tie, bola)',\n 'bonnet (poke bonnet)',\n 'bookcase',\n 'bookshop (bookstore, bookstall)',\n 'bottlecap',\n 'bow (bow weapon)',\n 'bow tie (bow-tie, bowtie)',\n 'brass (memorial tablet, plaque)',\n 'brassiere (bra, bandeau)',\n 'breakwater (groin, groyne, mole, bulwark, seawall, jetty)',\n 'breastplate (aegis, egis)',\n 'broom',\n 'bucket (pail)',\n 'buckle',\n 'bulletproof vest',\n 'bullet train (bullet)',\n 'butcher shop (meat market)',\n 'cab (hack, taxi, taxicab)',\n 'caldron (cauldron)',\n 'candle (taper, wax light)',\n 'cannon',\n 'canoe',\n 'can opener (tin opener)',\n 'cardigan',\n 'car mirror',\n 'carousel (carrousel, merry-go-round, roundabout, whirligig)',\n \"carpenter's kit (tool kit)\",\n 'carton',\n 'car wheel',\n 'cash machine (atm machine, cash dispenser, automated teller machine, automatic teller machine, automated teller, automatic teller, ATM)',\n 'cassette',\n 'cassette player',\n 'castle',\n 'catamaran',\n 'CD player',\n 'cello (violoncello)',\n 'cellular telephone (cellular phone, cellphone, cell, mobile phone)',\n 'chain',\n 'chainlink fence',\n 'chain mail (ring mail, mail, chain armor, chain armour, ring armor, ring armour)',\n 'chain saw (chainsaw)',\n 'chest',\n 'chiffonier (commode)',\n 'chime (bell, gong)',\n 'china cabinet (china closet)',\n 'Christmas stocking',\n 'church (church building)',\n 'cinema (movie theater, movie theatre, movie house, picture palace)',\n 'cleaver (meat cleaver, chopper)',\n 'cliff dwelling',\n 'cloak',\n 'clog (geta, patten, sabot)',\n 'cocktail shaker',\n 'coffee mug',\n 'coffeepot',\n 'coil (spiral, volute, whorl, helix)',\n 'combination lock',\n 'computer keyboard (keypad)',\n 'confectionery (confectionary, candy store)',\n 'container ship (containership, container vessel)',\n 'convertible',\n 'corkscrew (bottle screw)',\n 'cornet (horn, trumpet, trump)',\n 'cowboy boot',\n 'cowboy hat (ten-gallon hat)',\n 'cradle',\n 'crane',\n 'crash helmet',\n 'crate',\n 'crib (cot)',\n 'Crock Pot',\n 'croquet ball',\n 'crutch',\n 'cuirass',\n 'dam (dike, dyke)',\n 'desk',\n 'desktop computer',\n 'dial telephone (dial phone)',\n 'diaper (nappy, napkin)',\n 'digital clock',\n 'digital watch',\n 'dining table (board)',\n 'dishrag (dishcloth)',\n 'dishwasher (dish washer, dishwashing machine)',\n 'disk brake (disc brake)',\n 'dock (dockage, docking facility)',\n 'dogsled (dog sled, dog sleigh)',\n 'dome',\n 'doormat (welcome mat)',\n 'drilling platform (offshore rig)',\n 'drum (membranophone, tympan)',\n 'drumstick (drum stick)',\n 'dumbbell',\n 'Dutch oven',\n 'electric fan (blower)',\n 'electric guitar',\n 'electric locomotive',\n 'entertainment center',\n 'envelope',\n 'espresso maker',\n 'face powder',\n 'feather boa (boa)',\n 'file (file cabinet, filing cabinet)',\n 'fireboat',\n 'fire engine (fire truck)',\n 'fire screen (fireguard)',\n 'flagpole (flagstaff)',\n 'flute (transverse flute)',\n 'folding chair',\n 'football helmet',\n 'forklift',\n 'fountain',\n 'fountain pen',\n 'four-poster',\n 'freight car',\n 'French horn (horn)',\n 'frying pan (frypan, skillet)',\n 'fur coat',\n 'garbage truck (dustcart)',\n 'gasmask (respirator, gas helmet)',\n 'gas pump (gasoline pump, petrol pump, island dispenser)',\n 'goblet',\n 'go-kart',\n 'golf ball',\n 'golfcart (golf cart)',\n 'gondola',\n 'gong (tam-tam)',\n 'gown',\n 'grand piano (grand)',\n 'greenhouse (nursery, glasshouse)',\n 'grille (car grill, radiator grille)',\n 'grocery store (grocery, food market, market)',\n 'guillotine',\n 'hair slide',\n 'hair spray',\n 'half track',\n 'hammer',\n 'hamper',\n 'hand blower (blow dryer, blow drier, hair dryer, hair drier)',\n 'hand-held computer (hand-held microcomputer)',\n 'handkerchief (hankie, hanky, hankey)',\n 'hard disc (hard disk, fixed disk)',\n 'harmonica (mouth organ, harp, mouth harp)',\n 'harp',\n 'harvester (reaper)',\n 'hatchet',\n 'holster',\n 'home theater (home theatre)',\n 'honeycomb',\n 'hook (claw)',\n 'hoopskirt (crinoline)',\n 'horizontal bar (gymnast horizontal bar, high bar)',\n 'horse cart (horse-cart)',\n 'hourglass',\n 'iPod',\n 'iron (smoothing iron)',\n \"jack-o'-lantern\",\n 'jean (blue jean, denim)',\n 'jeep (landrover)',\n 'jersey (T-shirt, tee shirt)',\n 'jigsaw puzzle',\n 'jinrikisha (ricksha, rickshaw)',\n 'joystick',\n 'kimono',\n 'knee pad',\n 'knot',\n 'lab coat (laboratory coat)',\n 'ladle',\n 'lampshade (lamp shade)',\n 'laptop (laptop computer)',\n 'lawn mower (mower)',\n 'lens cap (lens cover)',\n 'letter opener (paper knife, paperknife)',\n 'library',\n 'lifeboat',\n 'lighter (light, igniter, ignitor)',\n 'limousine (limo)',\n 'liner (ocean liner)',\n 'lipstick (lip rouge)',\n 'Loafer',\n 'lotion',\n 'loudspeaker (speaker, speaker unit, loudspeaker system, speaker system)',\n \"loupe (jeweler's loupe)\",\n 'lumbermill (sawmill)',\n 'magnetic compass',\n 'mailbag (postbag)',\n 'mailbox (letter box)',\n 'maillot',\n 'maillot (tank suit)',\n 'manhole cover',\n 'maraca',\n 'marimba (xylophone)',\n 'mask',\n 'matchstick',\n 'maypole',\n 'maze (labyrinth)',\n 'measuring cup',\n 'medicine chest (medicine cabinet)',\n 'megalith (megalithic structure)',\n 'microphone (mike)',\n 'microwave (microwave oven)',\n 'military uniform',\n 'milk can',\n 'minibus',\n 'miniskirt (mini)',\n 'minivan',\n 'missile',\n 'mitten',\n 'mixing bowl',\n 'mobile home (manufactured home)',\n 'Model T',\n 'modem',\n 'monastery',\n 'monitor',\n 'moped',\n 'mortar',\n 'mortarboard',\n 'mosque',\n 'mosquito net',\n 'motor scooter (scooter)',\n 'mountain bike (all-terrain bike, off-roader)',\n 'mountain tent',\n 'mouse (computer mouse)',\n 'mousetrap',\n 'moving van',\n 'muzzle',\n 'nail (galvanized nail)',\n 'neck brace',\n 'necklace',\n 'nipple',\n 'notebook (notebook computer)',\n 'obelisk',\n 'oboe (hautboy, hautbois)',\n 'ocarina (sweet potato)',\n 'odometer (hodometer, mileometer, milometer)',\n 'oil filter',\n 'organ (pipe organ)',\n 'oscilloscope (scope, cathode-ray oscilloscope, CRO)',\n 'overskirt',\n 'oxcart (ox cart)',\n 'oxygen mask',\n 'packet',\n 'paddle (boat paddle)',\n 'paddlewheel (paddle wheel)',\n 'padlock',\n 'paintbrush',\n \"pajama (pyjama, pj's, jammies)\",\n 'palace',\n 'panpipe (pandean pipe, syrinx)',\n 'paper towel',\n 'parachute (chute)',\n 'parallel bars (bars)',\n 'park bench',\n 'parking meter',\n 'passenger car (coach, carriage)',\n 'patio (terrace)',\n 'pay-phone (pay-station)',\n 'pedestal (plinth, footstall)',\n 'pencil box (pencil case)',\n 'pencil sharpener',\n 'perfume (essence)',\n 'Petri dish',\n 'photocopier (office scanner printer)',\n 'pick (plectrum, plectron)',\n 'pickelhaube',\n 'picket fence (paling)',\n 'pickup (pickup truck)',\n 'pier',\n 'piggy bank (penny bank)',\n 'pill bottle',\n 'pillow',\n 'ping-pong ball',\n 'pinwheel',\n 'pirate (pirate ship)',\n 'pitcher (ewer)',\n \"plane (carpenter's plane, woodworking plane)\",\n 'planetarium',\n 'plastic bag',\n 'plate rack',\n 'plow (plough)',\n \"plunger (plumber's helper)\",\n 'Polaroid camera (Polaroid Land camera)',\n 'pole',\n 'police van (police wagon, paddy wagon, patrol wagon, wagon, black Maria)',\n 'poncho',\n 'pool table (billiard table, snooker table)',\n 'pop bottle (glass soda pop bottle, soda bottle)',\n 'pot (flowerpot)',\n \"potter's wheel\",\n 'power drill',\n 'prayer rug (prayer mat)',\n 'printer',\n 'prison (prison house)',\n 'projectile (missile)',\n 'projector',\n 'puck (hockey puck)',\n 'punching bag (punch bag, punching ball, punchball)',\n 'purse',\n 'quill (quill pen)',\n 'quilt (comforter, comfort, puff)',\n 'racer (race car, racing car)',\n 'racket (racquet)',\n 'radiator',\n 'radio (wireless)',\n 'radio telescope (radio reflector)',\n 'rain barrel',\n 'recreational vehicle (RV, R.V.)',\n 'reel',\n 'reflex camera',\n 'refrigerator (icebox)',\n 'remote control (remote)',\n 'restaurant (eating house, eating place, eatery)',\n 'revolver (six-gun, six-shooter)',\n 'rifle',\n 'rocking chair (rocker)',\n 'rotisserie',\n 'rubber eraser (rubber, pencil eraser)',\n 'rugby ball',\n 'rule (ruler)',\n 'running shoe',\n 'safe',\n 'safety pin',\n 'saltshaker (salt shaker)',\n 'sandal',\n 'sarong',\n 'sax (saxophone)',\n 'scabbard',\n 'scale (weighing machine)',\n 'school bus',\n 'schooner',\n 'scoreboard',\n 'screen (CRT screen)',\n 'screw',\n 'screwdriver',\n 'seat belt (seatbelt)',\n 'sewing machine',\n 'shield (buckler)',\n 'shoe shop (shoe-shop, shoe store)',\n 'shoji',\n 'shopping basket',\n 'shopping cart',\n 'shovel',\n 'shower cap',\n 'shower curtain',\n 'ski',\n 'ski mask',\n 'sleeping bag',\n 'slide rule (slipstick)',\n 'sliding door',\n 'slot (one-armed bandit)',\n 'snorkel',\n 'snowmobile',\n 'snowplow (snowplough)',\n 'soap dispenser',\n 'soccer ball',\n 'sock',\n 'solar dish (solar collector, solar furnace)',\n 'sombrero',\n 'soup bowl',\n 'space bar (spacebar keyboard)',\n 'space heater',\n 'space shuttle',\n 'spatula',\n 'speedboat',\n \"spider web (spider's web)\",\n 'spindle',\n 'sports car (sport car)',\n 'spotlight (spot)',\n 'stage',\n 'steam locomotive',\n 'steel arch bridge',\n 'steel drum',\n 'stethoscope',\n 'stole',\n 'stone wall',\n 'stopwatch (stop watch)',\n 'stove',\n 'strainer',\n 'streetcar (tram, tramcar, trolley, trolley car)',\n 'stretcher (emergency stretcher)',\n 'studio couch (day bed)',\n 'stupa (tope)',\n 'submarine (pigboat, sub, U-boat)',\n 'suit (suit of clothes)',\n 'sundial',\n 'sunglass',\n 'sunglasses (dark glasses, shades)',\n 'sunscreen (sunblock, sun blocker)',\n 'suspension bridge',\n 'swab (swob, mop)',\n 'sweatshirt',\n 'swimming trunks (bathing trunks)',\n 'swing',\n 'switch (electric switch, electrical switch)',\n 'syringe',\n 'table lamp',\n 'tank (army tank, armored combat vehicle, armoured combat vehicle)',\n 'tape player',\n 'teapot',\n 'teddy (teddy bear)',\n 'television (television system)',\n 'tennis ball',\n 'thatch (thatched roof)',\n 'theater curtain (theatre curtain)',\n 'thimble',\n 'thresher (thrasher, threshing machine)',\n 'throne',\n 'tile roof',\n 'toaster',\n 'tobacco shop (tobacconist shop, tobacconist)',\n 'toilet seat',\n 'torch',\n 'totem pole',\n 'tow truck (tow car, wrecker)',\n 'toyshop (toy store)',\n 'tractor',\n 'trailer truck (semi truck, tractor trailer, trucking rig, rig, articulated lorry, semi)',\n 'tray',\n 'trench coat',\n 'tricycle (trike, velocipede)',\n 'trimaran',\n 'tripod',\n 'triumphal arch',\n 'trolleybus (trolley coach, trackless trolley)',\n 'trombone',\n 'tub (vat)',\n 'turnstile',\n 'typewriter keyboard',\n 'umbrella',\n 'unicycle (monocycle)',\n 'upright (upright piano)',\n 'vacuum (vacuum cleaner)',\n 'vase',\n 'vault',\n 'velvet',\n 'vending machine',\n 'vestment',\n 'viaduct',\n 'violin (fiddle)',\n 'volleyball',\n 'waffle iron',\n 'wall clock',\n 'wallet (billfold, notecase, pocketbook)',\n 'wardrobe (closet, press)',\n 'warplane (military plane)',\n 'washbasin (handbasin, washbowl, lavabo, wash-hand basin)',\n 'washer (automatic washer, washing machine)',\n 'water bottle',\n 'water jug',\n 'water tower',\n 'whiskey jug',\n 'whistle',\n 'wig',\n 'window screen',\n 'window shade',\n 'Windsor tie',\n 'wine bottle',\n 'wing (jet wing)',\n 'wok',\n 'wooden spoon',\n 'wool (woolen, woollen)',\n 'worm fence (snake fence, snake-rail fence, Virginia fence)',\n 'wreck',\n 'yawl',\n 'yurt',\n 'web site (website, internet site, site)',\n 'comic book',\n 'crossword puzzle (crossword)',\n 'street sign',\n 'traffic light (traffic signal, stoplight)',\n 'book jacket (dust cover, dust jacket, dust wrapper)',\n 'menu',\n 'plate',\n 'guacamole',\n 'consomme',\n 'hot pot (hotpot)',\n 'trifle',\n 'ice cream (icecream)',\n 'ice lolly (lolly, lollipop, popsicle)',\n 'French loaf',\n 'bagel (beigel)',\n 'pretzel',\n 'cheeseburger',\n 'hotdog (hot dog, red hot)',\n 'mashed potato',\n 'head cabbage',\n 'broccoli',\n 'cauliflower',\n 'zucchini (courgette)',\n 'spaghetti squash',\n 'acorn squash',\n 'butternut squash',\n 'cucumber (cuke)',\n 'artichoke (globe artichoke)',\n 'bell pepper',\n 'cardoon',\n 'mushroom',\n 'Granny Smith',\n 'strawberry',\n 'orange',\n 'lemon',\n 'fig',\n 'pineapple (ananas)',\n 'banana',\n 'jackfruit (jak, jack)',\n 'custard apple',\n 'pomegranate',\n 'hay',\n 'carbonara',\n 'chocolate sauce (chocolate syrup)',\n 'dough',\n 'meat loaf (meatloaf)',\n 'pizza (pizza pie)',\n 'potpie',\n 'burrito',\n 'red wine',\n 'espresso',\n 'cup',\n 'eggnog',\n 'alp',\n 'bubble',\n 'cliff (drop, drop-off)',\n 'coral reef',\n 'geyser',\n 'lakeside (lakeshore)',\n 'promontory (headland, head, foreland)',\n 'sandbar (sand bar)',\n 'seashore (coast, seacoast, sea-coast)',\n 'valley (vale)',\n 'volcano',\n 'ballplayer (baseball player)',\n 'groom (bridegroom)',\n 'scuba diver',\n 'rapeseed',\n 'daisy',\n \"yellow lady's slipper (yellow lady-slipper, Cypripedium calceolus, Cypripedium parviflorum)\",\n 'corn',\n 'acorn',\n 'hip (rose hip, rosehip)',\n 'buckeye (horse chestnut, conker)',\n 'coral fungus',\n 'agaric',\n 'gyromitra',\n 'stinkhorn (carrion fungus)',\n 'earthstar',\n 'hen-of-the-woods (hen of the woods, Polyporus frondosus, Grifola frondosa)',\n 'bolete',\n 'ear (corn cob, spike, capitulum)',\n 'toilet tissue (toilet paper, bathroom tissue)']"
     },
     "execution_count": 32,
     "metadata": {},
     "output_type": "execute_result"
    }
   ],
   "source": [
    "imagenet_label_suggestions"
   ],
   "metadata": {
    "collapsed": false,
    "pycharm": {
     "name": "#%%\n"
    }
   }
  },
  {
   "cell_type": "code",
   "execution_count": 33,
   "outputs": [
    {
     "name": "stdout",
     "output_type": "stream",
     "text": [
      "yellow lady's slipper\n",
      "yellow lady's slipper, yellow lady-slipper, Cypripedium calceolus, Cypripedium parviflorum\n"
     ]
    }
   ],
   "source": [
    "print(original_labels[986])\n",
    "print(long_labels[986])"
   ],
   "metadata": {
    "collapsed": false,
    "pycharm": {
     "name": "#%%\n"
    }
   }
  },
  {
   "cell_type": "markdown",
   "source": [
    "error in long label processing on yellow lady's slipper^\n",
    "\n",
    "also spider's web/spider web, woodworker's plane, maybe three-toed sloth?\n",
    "\n",
    "loupe, pajama, plane,"
   ],
   "metadata": {
    "collapsed": false,
    "pycharm": {
     "name": "#%% md\n"
    }
   }
  },
  {
   "cell_type": "code",
   "execution_count": 25,
   "outputs": [
    {
     "name": "stdout",
     "output_type": "stream",
     "text": [
      "LONG 319: s darning needle, sewing needle, snake feeder, snake doctor, mosquito hawk, skeeter hawk\",\n",
      "\n",
      "LONG 400: s robe\",\n",
      "\n",
      "477: carpenter's kit\n",
      "s kit, tool kit\",\n",
      "\n",
      "LONG 477: s kit, tool kit\",\n",
      "\n",
      "607: jack-o'-lantern\n",
      "-lantern\",\n",
      "\n",
      "LONG 607: -lantern\",\n",
      "\n",
      "LONG 633: s loupe\",\n",
      "\n",
      "LONG 697: s, jammies\",\n",
      "\n",
      "LONG 726: s plane, woodworking plane\",\n",
      "\n",
      "LONG 731: s helper\",\n",
      "\n",
      "739: potter's wheel\n",
      "s wheel\",\n",
      "\n",
      "LONG 739: s wheel\",\n",
      "\n",
      "LONG 815: s web\",\n",
      "\n",
      "986: yellow lady's slipper\n",
      "s slipper, yellow lady-slipper, Cypripedium calceolus, Cypripedium parviflorum\",\n",
      "\n",
      "LONG 986: s slipper, yellow lady-slipper, Cypripedium calceolus, Cypripedium parviflorum\",\n",
      "\n"
     ]
    }
   ],
   "source": [
    "for i, l in enumerate(original_labels):\n",
    "    if l[0:2] == \"s \" or \"'\" in l:\n",
    "        print(f\"{i}: {l}\")\n",
    "        print(long_labels[i])\n",
    "    if \"\\n\" in long_labels[i]:\n",
    "        print(f\"LONG {i}: {long_labels[i]}\")"
   ],
   "metadata": {
    "collapsed": false,
    "pycharm": {
     "name": "#%%\n"
    }
   }
  },
  {
   "cell_type": "code",
   "execution_count": 27,
   "outputs": [
    {
     "data": {
      "text/plain": "['lacewing (lacewing fly)',\n 'dragonfly (s darning needle, sewing needle, snake feeder, snake doctor, mosquito hawk, skeeter hawk\",\\n)',\n 'damselfly']"
     },
     "execution_count": 27,
     "metadata": {},
     "output_type": "execute_result"
    }
   ],
   "source": [
    "imagenet_label_suggestions[318:321]"
   ],
   "metadata": {
    "collapsed": false,
    "pycharm": {
     "name": "#%%\n"
    }
   }
  },
  {
   "cell_type": "code",
   "execution_count": 34,
   "outputs": [
    {
     "data": {
      "text/plain": "['lacewing (lacewing fly)',\n \"dragonfly (darning needle, devil's darning needle, sewing needle, snake feeder, snake doctor, mosquito hawk, skeeter hawk)\",\n 'damselfly']"
     },
     "execution_count": 34,
     "metadata": {},
     "output_type": "execute_result"
    }
   ],
   "source": [
    "imagenet_label_suggestions[318:321]"
   ],
   "metadata": {
    "collapsed": false,
    "pycharm": {
     "name": "#%%  post updates\n"
    }
   }
  },
  {
   "cell_type": "code",
   "execution_count": null,
   "outputs": [],
   "source": [
    "import urllib.request\n",
    "YREVAR_IMAGENET_GIST_URL = \"https://gist.githubusercontent.com/yrevar/942d3a0ac09ec9e5eb3a/raw/\" \\\n",
    "                           \"238f720ff059c1f82f368259d1ca4ffa5dd8f9f5/imagenet1000_clsidx_to_labels.txt\"\n",
    "file = urllib.request.urlopen(YREVAR_IMAGENET_GIST_URL)\n",
    "yrevar_labels = []\n",
    "for line in file:\n",
    "    decoded_line = line.decode(\"utf-8\")\n",
    "    print(decoded_line)\n",
    "    if '\"' in decoded_line:\n",
    "        yrevar_labels.append(decoded_line.split('\"')[1])\n",
    "    else:\n",
    "        yrevar_labels.append(decoded_line.split(\"'\")[1])"
   ],
   "metadata": {
    "collapsed": false,
    "pycharm": {
     "name": "#%%\n"
    }
   }
  },
  {
   "cell_type": "markdown",
   "source": [
    "this is highlighting that splitting on single quote was naive"
   ],
   "metadata": {
    "collapsed": false,
    "pycharm": {
     "name": "#%% md\n"
    }
   }
  },
  {
   "cell_type": "code",
   "execution_count": 30,
   "outputs": [
    {
     "data": {
      "text/plain": "\"dragonfly, darning needle, devil's darning needle, sewing needle, snake feeder, snake doctor, mosquito hawk, skeeter hawk\""
     },
     "execution_count": 30,
     "metadata": {},
     "output_type": "execute_result"
    }
   ],
   "source": [
    "yrevar_labels[319]"
   ],
   "metadata": {
    "collapsed": false,
    "pycharm": {
     "name": "#%%\n"
    }
   }
  },
  {
   "cell_type": "markdown",
   "source": [
    "update lon"
   ],
   "metadata": {
    "collapsed": false,
    "pycharm": {
     "name": "#%% md\n"
    }
   }
  },
  {
   "cell_type": "code",
   "execution_count": 36,
   "outputs": [],
   "source": [
    "import json\n",
    "import pickle\n",
    "# with open(\"../data/imagenet_class_index.json\", \"w\") as f:\n",
    "#     json.dump(imagenet_class_index, f)\n",
    "with open(\"../api/data/imagenet_class_index.p\", \"wb\") as f:\n",
    "    pickle.dump(imagenet_class_index, f)\n",
    "\n",
    "with open(\"../api/data/imagenet_class_labels.p\", \"wb\") as f:\n",
    "    pickle.dump(imagenet_label_suggestions, f)\n",
    "\n",
    "with open(\"../../src/imagenetClasses.json\", \"w\") as f:\n",
    "    json.dump(imagenet_label_suggestions, f)"
   ],
   "metadata": {
    "collapsed": false,
    "pycharm": {
     "name": "#%%\n"
    }
   }
  }
 ],
 "metadata": {
  "kernelspec": {
   "display_name": "Python 3",
   "language": "python",
   "name": "python3"
  },
  "language_info": {
   "codemirror_mode": {
    "name": "ipython",
    "version": 2
   },
   "file_extension": ".py",
   "mimetype": "text/x-python",
   "name": "python",
   "nbconvert_exporter": "python",
   "pygments_lexer": "ipython2",
   "version": "2.7.6"
  }
 },
 "nbformat": 4,
 "nbformat_minor": 0
}