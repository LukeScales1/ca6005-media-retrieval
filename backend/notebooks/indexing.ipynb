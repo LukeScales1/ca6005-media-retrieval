{
 "cells": [
  {
   "cell_type": "code",
   "execution_count": 2,
   "metadata": {
    "collapsed": true
   },
   "outputs": [],
   "source": [
    "from classifier import Classifier\n",
    "from webscraper import get_yrevar_imagenet_labels"
   ]
  },
  {
   "cell_type": "code",
   "execution_count": 3,
   "outputs": [],
   "source": [
    "classifer = Classifier()\n",
    "original_labels = classifer.fetch_labels()\n",
    "modified_labels = classifer.labels\n",
    "long_labels = get_yrevar_imagenet_labels()"
   ],
   "metadata": {
    "collapsed": false,
    "pycharm": {
     "name": "#%%\n"
    }
   }
  },
  {
   "cell_type": "code",
   "execution_count": 8,
   "outputs": [
    {
     "name": "stdout",
     "output_type": "stream",
     "text": [
      "great white shark, white shark, man-eater, man-eating shark, Carcharodon carcharias\n",
      "('great white shark', 'white shark', 'man-eater', 'man-eating shark', 'Carcharodon carcharias')\n",
      "('great white shark', 'white shark', 'man-eater', 'Carcharodon carcharias', 'man-eating shark')\n",
      "('great white shark', 'white shark', 'man-eating shark', 'man-eater', 'Carcharodon carcharias')\n",
      "('great white shark', 'white shark', 'man-eating shark', 'Carcharodon carcharias', 'man-eater')\n",
      "('great white shark', 'white shark', 'Carcharodon carcharias', 'man-eater', 'man-eating shark')\n",
      "('great white shark', 'white shark', 'Carcharodon carcharias', 'man-eating shark', 'man-eater')\n",
      "('great white shark', 'man-eater', 'white shark', 'man-eating shark', 'Carcharodon carcharias')\n",
      "('great white shark', 'man-eater', 'white shark', 'Carcharodon carcharias', 'man-eating shark')\n",
      "('great white shark', 'man-eater', 'man-eating shark', 'white shark', 'Carcharodon carcharias')\n",
      "('great white shark', 'man-eater', 'man-eating shark', 'Carcharodon carcharias', 'white shark')\n",
      "('great white shark', 'man-eater', 'Carcharodon carcharias', 'white shark', 'man-eating shark')\n",
      "('great white shark', 'man-eater', 'Carcharodon carcharias', 'man-eating shark', 'white shark')\n",
      "('great white shark', 'man-eating shark', 'white shark', 'man-eater', 'Carcharodon carcharias')\n",
      "('great white shark', 'man-eating shark', 'white shark', 'Carcharodon carcharias', 'man-eater')\n",
      "('great white shark', 'man-eating shark', 'man-eater', 'white shark', 'Carcharodon carcharias')\n",
      "('great white shark', 'man-eating shark', 'man-eater', 'Carcharodon carcharias', 'white shark')\n",
      "('great white shark', 'man-eating shark', 'Carcharodon carcharias', 'white shark', 'man-eater')\n",
      "('great white shark', 'man-eating shark', 'Carcharodon carcharias', 'man-eater', 'white shark')\n",
      "('great white shark', 'Carcharodon carcharias', 'white shark', 'man-eater', 'man-eating shark')\n",
      "('great white shark', 'Carcharodon carcharias', 'white shark', 'man-eating shark', 'man-eater')\n",
      "('great white shark', 'Carcharodon carcharias', 'man-eater', 'white shark', 'man-eating shark')\n",
      "('great white shark', 'Carcharodon carcharias', 'man-eater', 'man-eating shark', 'white shark')\n",
      "('great white shark', 'Carcharodon carcharias', 'man-eating shark', 'white shark', 'man-eater')\n",
      "('great white shark', 'Carcharodon carcharias', 'man-eating shark', 'man-eater', 'white shark')\n",
      "('white shark', 'great white shark', 'man-eater', 'man-eating shark', 'Carcharodon carcharias')\n",
      "('white shark', 'great white shark', 'man-eater', 'Carcharodon carcharias', 'man-eating shark')\n",
      "('white shark', 'great white shark', 'man-eating shark', 'man-eater', 'Carcharodon carcharias')\n",
      "('white shark', 'great white shark', 'man-eating shark', 'Carcharodon carcharias', 'man-eater')\n",
      "('white shark', 'great white shark', 'Carcharodon carcharias', 'man-eater', 'man-eating shark')\n",
      "('white shark', 'great white shark', 'Carcharodon carcharias', 'man-eating shark', 'man-eater')\n",
      "('white shark', 'man-eater', 'great white shark', 'man-eating shark', 'Carcharodon carcharias')\n",
      "('white shark', 'man-eater', 'great white shark', 'Carcharodon carcharias', 'man-eating shark')\n",
      "('white shark', 'man-eater', 'man-eating shark', 'great white shark', 'Carcharodon carcharias')\n",
      "('white shark', 'man-eater', 'man-eating shark', 'Carcharodon carcharias', 'great white shark')\n",
      "('white shark', 'man-eater', 'Carcharodon carcharias', 'great white shark', 'man-eating shark')\n",
      "('white shark', 'man-eater', 'Carcharodon carcharias', 'man-eating shark', 'great white shark')\n",
      "('white shark', 'man-eating shark', 'great white shark', 'man-eater', 'Carcharodon carcharias')\n",
      "('white shark', 'man-eating shark', 'great white shark', 'Carcharodon carcharias', 'man-eater')\n",
      "('white shark', 'man-eating shark', 'man-eater', 'great white shark', 'Carcharodon carcharias')\n",
      "('white shark', 'man-eating shark', 'man-eater', 'Carcharodon carcharias', 'great white shark')\n",
      "('white shark', 'man-eating shark', 'Carcharodon carcharias', 'great white shark', 'man-eater')\n",
      "('white shark', 'man-eating shark', 'Carcharodon carcharias', 'man-eater', 'great white shark')\n",
      "('white shark', 'Carcharodon carcharias', 'great white shark', 'man-eater', 'man-eating shark')\n",
      "('white shark', 'Carcharodon carcharias', 'great white shark', 'man-eating shark', 'man-eater')\n",
      "('white shark', 'Carcharodon carcharias', 'man-eater', 'great white shark', 'man-eating shark')\n",
      "('white shark', 'Carcharodon carcharias', 'man-eater', 'man-eating shark', 'great white shark')\n",
      "('white shark', 'Carcharodon carcharias', 'man-eating shark', 'great white shark', 'man-eater')\n",
      "('white shark', 'Carcharodon carcharias', 'man-eating shark', 'man-eater', 'great white shark')\n",
      "('man-eater', 'great white shark', 'white shark', 'man-eating shark', 'Carcharodon carcharias')\n",
      "('man-eater', 'great white shark', 'white shark', 'Carcharodon carcharias', 'man-eating shark')\n",
      "('man-eater', 'great white shark', 'man-eating shark', 'white shark', 'Carcharodon carcharias')\n",
      "('man-eater', 'great white shark', 'man-eating shark', 'Carcharodon carcharias', 'white shark')\n",
      "('man-eater', 'great white shark', 'Carcharodon carcharias', 'white shark', 'man-eating shark')\n",
      "('man-eater', 'great white shark', 'Carcharodon carcharias', 'man-eating shark', 'white shark')\n",
      "('man-eater', 'white shark', 'great white shark', 'man-eating shark', 'Carcharodon carcharias')\n",
      "('man-eater', 'white shark', 'great white shark', 'Carcharodon carcharias', 'man-eating shark')\n",
      "('man-eater', 'white shark', 'man-eating shark', 'great white shark', 'Carcharodon carcharias')\n",
      "('man-eater', 'white shark', 'man-eating shark', 'Carcharodon carcharias', 'great white shark')\n",
      "('man-eater', 'white shark', 'Carcharodon carcharias', 'great white shark', 'man-eating shark')\n",
      "('man-eater', 'white shark', 'Carcharodon carcharias', 'man-eating shark', 'great white shark')\n",
      "('man-eater', 'man-eating shark', 'great white shark', 'white shark', 'Carcharodon carcharias')\n",
      "('man-eater', 'man-eating shark', 'great white shark', 'Carcharodon carcharias', 'white shark')\n",
      "('man-eater', 'man-eating shark', 'white shark', 'great white shark', 'Carcharodon carcharias')\n",
      "('man-eater', 'man-eating shark', 'white shark', 'Carcharodon carcharias', 'great white shark')\n",
      "('man-eater', 'man-eating shark', 'Carcharodon carcharias', 'great white shark', 'white shark')\n",
      "('man-eater', 'man-eating shark', 'Carcharodon carcharias', 'white shark', 'great white shark')\n",
      "('man-eater', 'Carcharodon carcharias', 'great white shark', 'white shark', 'man-eating shark')\n",
      "('man-eater', 'Carcharodon carcharias', 'great white shark', 'man-eating shark', 'white shark')\n",
      "('man-eater', 'Carcharodon carcharias', 'white shark', 'great white shark', 'man-eating shark')\n",
      "('man-eater', 'Carcharodon carcharias', 'white shark', 'man-eating shark', 'great white shark')\n",
      "('man-eater', 'Carcharodon carcharias', 'man-eating shark', 'great white shark', 'white shark')\n",
      "('man-eater', 'Carcharodon carcharias', 'man-eating shark', 'white shark', 'great white shark')\n",
      "('man-eating shark', 'great white shark', 'white shark', 'man-eater', 'Carcharodon carcharias')\n",
      "('man-eating shark', 'great white shark', 'white shark', 'Carcharodon carcharias', 'man-eater')\n",
      "('man-eating shark', 'great white shark', 'man-eater', 'white shark', 'Carcharodon carcharias')\n",
      "('man-eating shark', 'great white shark', 'man-eater', 'Carcharodon carcharias', 'white shark')\n",
      "('man-eating shark', 'great white shark', 'Carcharodon carcharias', 'white shark', 'man-eater')\n",
      "('man-eating shark', 'great white shark', 'Carcharodon carcharias', 'man-eater', 'white shark')\n",
      "('man-eating shark', 'white shark', 'great white shark', 'man-eater', 'Carcharodon carcharias')\n",
      "('man-eating shark', 'white shark', 'great white shark', 'Carcharodon carcharias', 'man-eater')\n",
      "('man-eating shark', 'white shark', 'man-eater', 'great white shark', 'Carcharodon carcharias')\n",
      "('man-eating shark', 'white shark', 'man-eater', 'Carcharodon carcharias', 'great white shark')\n",
      "('man-eating shark', 'white shark', 'Carcharodon carcharias', 'great white shark', 'man-eater')\n",
      "('man-eating shark', 'white shark', 'Carcharodon carcharias', 'man-eater', 'great white shark')\n",
      "('man-eating shark', 'man-eater', 'great white shark', 'white shark', 'Carcharodon carcharias')\n",
      "('man-eating shark', 'man-eater', 'great white shark', 'Carcharodon carcharias', 'white shark')\n",
      "('man-eating shark', 'man-eater', 'white shark', 'great white shark', 'Carcharodon carcharias')\n",
      "('man-eating shark', 'man-eater', 'white shark', 'Carcharodon carcharias', 'great white shark')\n",
      "('man-eating shark', 'man-eater', 'Carcharodon carcharias', 'great white shark', 'white shark')\n",
      "('man-eating shark', 'man-eater', 'Carcharodon carcharias', 'white shark', 'great white shark')\n",
      "('man-eating shark', 'Carcharodon carcharias', 'great white shark', 'white shark', 'man-eater')\n",
      "('man-eating shark', 'Carcharodon carcharias', 'great white shark', 'man-eater', 'white shark')\n",
      "('man-eating shark', 'Carcharodon carcharias', 'white shark', 'great white shark', 'man-eater')\n",
      "('man-eating shark', 'Carcharodon carcharias', 'white shark', 'man-eater', 'great white shark')\n",
      "('man-eating shark', 'Carcharodon carcharias', 'man-eater', 'great white shark', 'white shark')\n",
      "('man-eating shark', 'Carcharodon carcharias', 'man-eater', 'white shark', 'great white shark')\n",
      "('Carcharodon carcharias', 'great white shark', 'white shark', 'man-eater', 'man-eating shark')\n",
      "('Carcharodon carcharias', 'great white shark', 'white shark', 'man-eating shark', 'man-eater')\n",
      "('Carcharodon carcharias', 'great white shark', 'man-eater', 'white shark', 'man-eating shark')\n",
      "('Carcharodon carcharias', 'great white shark', 'man-eater', 'man-eating shark', 'white shark')\n",
      "('Carcharodon carcharias', 'great white shark', 'man-eating shark', 'white shark', 'man-eater')\n",
      "('Carcharodon carcharias', 'great white shark', 'man-eating shark', 'man-eater', 'white shark')\n",
      "('Carcharodon carcharias', 'white shark', 'great white shark', 'man-eater', 'man-eating shark')\n",
      "('Carcharodon carcharias', 'white shark', 'great white shark', 'man-eating shark', 'man-eater')\n",
      "('Carcharodon carcharias', 'white shark', 'man-eater', 'great white shark', 'man-eating shark')\n",
      "('Carcharodon carcharias', 'white shark', 'man-eater', 'man-eating shark', 'great white shark')\n",
      "('Carcharodon carcharias', 'white shark', 'man-eating shark', 'great white shark', 'man-eater')\n",
      "('Carcharodon carcharias', 'white shark', 'man-eating shark', 'man-eater', 'great white shark')\n",
      "('Carcharodon carcharias', 'man-eater', 'great white shark', 'white shark', 'man-eating shark')\n",
      "('Carcharodon carcharias', 'man-eater', 'great white shark', 'man-eating shark', 'white shark')\n",
      "('Carcharodon carcharias', 'man-eater', 'white shark', 'great white shark', 'man-eating shark')\n",
      "('Carcharodon carcharias', 'man-eater', 'white shark', 'man-eating shark', 'great white shark')\n",
      "('Carcharodon carcharias', 'man-eater', 'man-eating shark', 'great white shark', 'white shark')\n",
      "('Carcharodon carcharias', 'man-eater', 'man-eating shark', 'white shark', 'great white shark')\n",
      "('Carcharodon carcharias', 'man-eating shark', 'great white shark', 'white shark', 'man-eater')\n",
      "('Carcharodon carcharias', 'man-eating shark', 'great white shark', 'man-eater', 'white shark')\n",
      "('Carcharodon carcharias', 'man-eating shark', 'white shark', 'great white shark', 'man-eater')\n",
      "('Carcharodon carcharias', 'man-eating shark', 'white shark', 'man-eater', 'great white shark')\n",
      "('Carcharodon carcharias', 'man-eating shark', 'man-eater', 'great white shark', 'white shark')\n",
      "('Carcharodon carcharias', 'man-eating shark', 'man-eater', 'white shark', 'great white shark')\n"
     ]
    }
   ],
   "source": [
    "import itertools\n",
    "print(long_labels[2])\n",
    "permutations = itertools.permutations(long_labels[2].split(', '))\n",
    "for p in permutations:\n",
    "    print(p)"
   ],
   "metadata": {
    "collapsed": false,
    "pycharm": {
     "name": "#%%\n"
    }
   }
  },
  {
   "cell_type": "code",
   "execution_count": 9,
   "outputs": [
    {
     "data": {
      "text/plain": "{'tench': 0,\n 'tench, Tinca tinca': 0,\n 'Tinca tinca': 0,\n 'goldfish': 1,\n 'goldfish, Carassius auratus': 1,\n 'Carassius auratus': 1,\n 'great white shark': 2,\n 'great white shark, white shark, man-eater, man-eating shark, Carcharodon carcharias': 2,\n 'white shark': 2,\n 'man-eater': 2,\n 'man-eating shark': 2,\n 'Carcharodon carcharias': 2,\n 'tiger shark': 3,\n 'tiger shark, Galeocerdo cuvieri': 3,\n 'Galeocerdo cuvieri': 3,\n 'hammerhead': 4,\n 'hammerhead, hammerhead shark': 4,\n 'hammerhead shark': 4,\n 'electric ray': 5,\n 'electric ray, crampfish, numbfish, torpedo': 5,\n 'crampfish': 5,\n 'numbfish': 5,\n 'torpedo': 5,\n 'stingray': 6,\n 'cock': 7,\n 'cockerel': 7,\n 'hen': 8,\n 'ostrich': 9,\n 'ostrich, Struthio camelus': 9,\n 'Struthio camelus': 9,\n 'brambling': 10,\n 'brambling, Fringilla montifringilla': 10,\n 'Fringilla montifringilla': 10,\n 'goldfinch': 11,\n 'goldfinch, Carduelis carduelis': 11,\n 'Carduelis carduelis': 11,\n 'house finch': 12,\n 'house finch, linnet, Carpodacus mexicanus': 12,\n 'linnet': 12,\n 'Carpodacus mexicanus': 12,\n 'junco': 13,\n 'junco, snowbird': 13,\n 'snowbird': 13,\n 'indigo bunting': 14,\n 'indigo bunting, indigo finch, indigo bird, Passerina cyanea': 14,\n 'indigo finch': 14,\n 'indigo bird': 14,\n 'Passerina cyanea': 14,\n 'robin': 15,\n 'robin, American robin, Turdus migratorius': 15,\n 'American robin': 15,\n 'Turdus migratorius': 15,\n 'bulbul': 16,\n 'jay': 17,\n 'magpie': 18,\n 'chickadee': 19,\n 'water ouzel': 20,\n 'water ouzel, dipper': 20,\n 'dipper': 20,\n 'kite': 21,\n 'bald eagle': 22,\n 'bald eagle, American eagle, Haliaeetus leucocephalus': 22,\n 'American eagle': 22,\n 'Haliaeetus leucocephalus': 22,\n 'vulture': 23,\n 'great grey owl': 24,\n 'great grey owl, great gray owl, Strix nebulosa': 24,\n 'great gray owl': 24,\n 'Strix nebulosa': 24,\n 'European fire salamander': 25,\n 'European fire salamander, Salamandra salamandra': 25,\n 'Salamandra salamandra': 25,\n 'common newt': 26,\n 'common newt, Triturus vulgaris': 26,\n 'Triturus vulgaris': 26,\n 'eft': 27,\n 'spotted salamander': 28,\n 'spotted salamander, Ambystoma maculatum': 28,\n 'Ambystoma maculatum': 28,\n 'axolotl': 29,\n 'axolotl, mud puppy, Ambystoma mexicanum': 29,\n 'mud puppy': 29,\n 'Ambystoma mexicanum': 29,\n 'bullfrog': 30,\n 'bullfrog, Rana catesbeiana': 30,\n 'Rana catesbeiana': 30,\n 'tree frog': 31,\n 'tree frog, tree-frog': 31,\n 'tree-frog': 31,\n 'tailed frog': 32,\n 'tailed frog, bell toad, ribbed toad, tailed toad, Ascaphus trui': 32,\n 'bell toad': 32,\n 'ribbed toad': 32,\n 'tailed toad': 32,\n 'Ascaphus trui': 32,\n 'loggerhead': 33,\n 'loggerhead, loggerhead turtle, Caretta caretta': 33,\n 'loggerhead turtle': 33,\n 'Caretta caretta': 33,\n 'leatherback turtle': 34,\n 'leatherback turtle, leatherback, leathery turtle, Dermochelys coriacea': 34,\n 'leatherback': 34,\n 'leathery turtle': 34,\n 'Dermochelys coriacea': 34,\n 'mud turtle': 35,\n 'terrapin': 36,\n 'box turtle': 37,\n 'box turtle, box tortoise': 37,\n 'box tortoise': 37,\n 'banded gecko': 38,\n 'common iguana': 39,\n 'common iguana, iguana, Iguana iguana': 39,\n 'iguana': 39,\n 'Iguana iguana': 39,\n 'American chameleon': 40,\n 'American chameleon, anole, Anolis carolinensis': 40,\n 'anole': 40,\n 'Anolis carolinensis': 40,\n 'whiptail': 41,\n 'whiptail, whiptail lizard': 41,\n 'whiptail lizard': 41,\n 'agama': 42,\n 'frilled lizard': 43,\n 'frilled lizard, Chlamydosaurus kingi': 43,\n 'Chlamydosaurus kingi': 43,\n 'alligator lizard': 44,\n 'Gila monster': 45,\n 'Gila monster, Heloderma suspectum': 45,\n 'Heloderma suspectum': 45,\n 'green lizard': 46,\n 'green lizard, Lacerta viridis': 46,\n 'Lacerta viridis': 46,\n 'African chameleon': 47,\n 'African chameleon, Chamaeleo chamaeleon': 47,\n 'Chamaeleo chamaeleon': 47,\n 'Komodo dragon': 48,\n 'Komodo dragon, Komodo lizard, dragon lizard, giant lizard, Varanus komodoensis': 48,\n 'Komodo lizard': 48,\n 'dragon lizard': 48,\n 'giant lizard': 48,\n 'Varanus komodoensis': 48,\n 'African crocodile': 49,\n 'African crocodile, Nile crocodile, Crocodylus niloticus': 49,\n 'Nile crocodile': 49,\n 'Crocodylus niloticus': 49,\n 'American alligator': 50,\n 'American alligator, Alligator mississipiensis': 50,\n 'Alligator mississipiensis': 50,\n 'triceratops': 51,\n 'thunder snake': 52,\n 'thunder snake, worm snake, Carphophis amoenus': 52,\n 'worm snake': 52,\n 'Carphophis amoenus': 52,\n 'ringneck snake': 53,\n 'ringneck snake, ring-necked snake, ring snake': 53,\n 'ring-necked snake': 53,\n 'ring snake': 53,\n 'hognose snake': 54,\n 'hognose snake, puff adder, sand viper': 54,\n 'puff adder': 54,\n 'sand viper': 66,\n 'green snake': 55,\n 'green snake, grass snake': 55,\n 'grass snake': 57,\n 'king snake': 56,\n 'king snake, kingsnake': 56,\n 'kingsnake': 56,\n 'garter snake': 57,\n 'garter snake, grass snake': 57,\n 'water snake': 58,\n 'vine snake': 59,\n 'night snake': 60,\n 'night snake, Hypsiglena torquata': 60,\n 'Hypsiglena torquata': 60,\n 'boa constrictor': 61,\n 'boa constrictor, Constrictor constrictor': 61,\n 'Constrictor constrictor': 61,\n 'rock python': 62,\n 'rock python, rock snake, Python sebae': 62,\n 'rock snake': 62,\n 'Python sebae': 62,\n 'Indian cobra': 63,\n 'Indian cobra, Naja naja': 63,\n 'Naja naja': 63,\n 'green mamba': 64,\n 'sea snake': 65,\n 'horned viper': 66,\n 'horned viper, cerastes, sand viper, horned asp, Cerastes cornutus': 66,\n 'cerastes': 66,\n 'horned asp': 66,\n 'Cerastes cornutus': 66,\n 'diamondback': 67,\n 'diamondback, diamondback rattlesnake, Crotalus adamanteus': 67,\n 'diamondback rattlesnake': 67,\n 'Crotalus adamanteus': 67,\n 'sidewinder': 68,\n 'sidewinder, horned rattlesnake, Crotalus cerastes': 68,\n 'horned rattlesnake': 68,\n 'Crotalus cerastes': 68,\n 'trilobite': 69,\n 'harvestman': 70,\n 'harvestman, daddy longlegs, Phalangium opilio': 70,\n 'daddy longlegs': 70,\n 'Phalangium opilio': 70,\n 'scorpion': 71,\n 'black and gold garden spider': 72,\n 'black and gold garden spider, Argiope aurantia': 72,\n 'Argiope aurantia': 72,\n 'barn spider': 73,\n 'barn spider, Araneus cavaticus': 73,\n 'Araneus cavaticus': 73,\n 'garden spider': 74,\n 'garden spider, Aranea diademata': 74,\n 'Aranea diademata': 74,\n 'black widow': 75,\n 'black widow, Latrodectus mactans': 75,\n 'Latrodectus mactans': 75,\n 'tarantula': 76,\n 'wolf spider': 77,\n 'wolf spider, hunting spider': 77,\n 'hunting spider': 77,\n 'tick': 78,\n 'centipede': 79,\n 'black grouse': 80,\n 'ptarmigan': 81,\n 'ruffed grouse': 82,\n 'ruffed grouse, partridge, Bonasa umbellus': 82,\n 'partridge': 86,\n 'Bonasa umbellus': 82,\n 'prairie chicken': 83,\n 'prairie chicken, prairie grouse, prairie fowl': 83,\n 'prairie grouse': 83,\n 'prairie fowl': 83,\n 'peacock': 84,\n 'quail': 85,\n 'African grey': 87,\n 'African grey, African gray, Psittacus erithacus': 87,\n 'African gray': 87,\n 'Psittacus erithacus': 87,\n 'macaw': 88,\n 'sulphur-crested cockatoo': 89,\n 'sulphur-crested cockatoo, Kakatoe galerita, Cacatua galerita': 89,\n 'Kakatoe galerita': 89,\n 'Cacatua galerita': 89,\n 'lorikeet': 90,\n 'coucal': 91,\n 'bee eater': 92,\n 'hornbill': 93,\n 'hummingbird': 94,\n 'jacamar': 95,\n 'toucan': 96,\n 'drake': 97,\n 'drake duck': 97,\n 'red-breasted merganser': 98,\n 'red-breasted merganser, Mergus serrator': 98,\n 'Mergus serrator': 98,\n 'goose': 99,\n 'black swan': 100,\n 'black swan, Cygnus atratus': 100,\n 'Cygnus atratus': 100,\n 'tusker': 101,\n 'echidna': 102,\n 'echidna, spiny anteater, anteater': 102,\n 'spiny anteater': 102,\n 'anteater': 102,\n 'platypus': 103,\n 'platypus, duckbill, duckbilled platypus, duck-billed platypus, Ornithorhynchus anatinus': 103,\n 'duckbill': 103,\n 'duckbilled platypus': 103,\n 'duck-billed platypus': 103,\n 'Ornithorhynchus anatinus': 103,\n 'wallaby': 104,\n 'wallaby, brush kangaroo': 104,\n 'brush kangaroo': 104,\n 'koala': 105,\n 'koala, koala bear, kangaroo bear, native bear, Phascolarctos cinereus': 105,\n 'koala bear': 105,\n 'kangaroo bear': 105,\n 'native bear': 105,\n 'Phascolarctos cinereus': 105,\n 'wombat': 106,\n 'jellyfish': 107,\n 'sea anemone': 108,\n 'sea anemone, anemone': 108,\n 'anemone': 108,\n 'brain coral': 109,\n 'flatworm': 110,\n 'flatworm, platyhelminth': 110,\n 'platyhelminth': 110,\n 'nematode': 111,\n 'nematode, nematode worm, roundworm': 111,\n 'nematode worm': 111,\n 'roundworm': 111,\n 'conch': 112,\n 'snail': 113,\n 'slug': 114,\n 'sea slug': 115,\n 'sea slug, nudibranch': 115,\n 'nudibranch': 115,\n 'chiton': 116,\n 'chiton, coat-of-mail shell, sea cradle, polyplacophore': 116,\n 'coat-of-mail shell': 116,\n 'sea cradle': 116,\n 'polyplacophore': 116,\n 'chambered nautilus': 117,\n 'chambered nautilus, pearly nautilus, nautilus': 117,\n 'pearly nautilus': 117,\n 'nautilus': 117,\n 'Dungeness crab': 118,\n 'Dungeness crab, Cancer magister': 118,\n 'Cancer magister': 118,\n 'rock crab': 119,\n 'rock crab, Cancer irroratus': 119,\n 'Cancer irroratus': 119,\n 'fiddler crab': 120,\n 'king crab': 121,\n 'king crab, Alaska crab, Alaskan king crab, Alaska king crab, Paralithodes camtschatica': 121,\n 'Alaska crab': 121,\n 'Alaskan king crab': 121,\n 'Alaska king crab': 121,\n 'Paralithodes camtschatica': 121,\n 'American lobster': 122,\n 'American lobster, Northern lobster, Maine lobster, Homarus americanus': 122,\n 'Northern lobster': 122,\n 'Maine lobster': 122,\n 'Homarus americanus': 122,\n 'spiny lobster': 123,\n 'spiny lobster, langouste, rock lobster, crawfish, crayfish, sea crawfish': 123,\n 'langouste': 123,\n 'rock lobster': 123,\n 'crawfish': 124,\n 'crayfish': 124,\n 'sea crawfish': 123,\n 'crayfish, crawfish, crawdad, crawdaddy': 124,\n 'crawdad': 124,\n 'crawdaddy': 124,\n 'hermit crab': 125,\n 'isopod': 126,\n 'white stork': 127,\n 'white stork, Ciconia ciconia': 127,\n 'Ciconia ciconia': 127,\n 'black stork': 128,\n 'black stork, Ciconia nigra': 128,\n 'Ciconia nigra': 128,\n 'spoonbill': 129,\n 'flamingo': 130,\n 'little blue heron': 131,\n 'little blue heron, Egretta caerulea': 131,\n 'Egretta caerulea': 131,\n 'American egret': 132,\n 'American egret, great white heron, Egretta albus': 132,\n 'great white heron': 132,\n 'Egretta albus': 132,\n 'bittern': 133,\n 'crane': 517,\n 'limpkin': 135,\n 'limpkin, Aramus pictus': 135,\n 'Aramus pictus': 135,\n 'European gallinule': 136,\n 'European gallinule, Porphyrio porphyrio': 136,\n 'Porphyrio porphyrio': 136,\n 'American coot': 137,\n 'American coot, marsh hen, mud hen, water hen, Fulica americana': 137,\n 'marsh hen': 137,\n 'mud hen': 137,\n 'water hen': 137,\n 'Fulica americana': 137,\n 'bustard': 138,\n 'ruddy turnstone': 139,\n 'ruddy turnstone, Arenaria interpres': 139,\n 'Arenaria interpres': 139,\n 'red-backed sandpiper': 140,\n 'red-backed sandpiper, dunlin, Erolia alpina': 140,\n 'dunlin': 140,\n 'Erolia alpina': 140,\n 'redshank': 141,\n 'redshank, Tringa totanus': 141,\n 'Tringa totanus': 141,\n 'dowitcher': 142,\n 'oystercatcher': 143,\n 'oystercatcher, oyster catcher': 143,\n 'oyster catcher': 143,\n 'pelican': 144,\n 'king penguin': 145,\n 'king penguin, Aptenodytes patagonica': 145,\n 'Aptenodytes patagonica': 145,\n 'albatross': 146,\n 'albatross, mollymawk': 146,\n 'mollymawk': 146,\n 'grey whale': 147,\n 'grey whale, gray whale, devilfish, Eschrichtius gibbosus, Eschrichtius robustus': 147,\n 'gray whale': 147,\n 'devilfish': 147,\n 'Eschrichtius gibbosus': 147,\n 'Eschrichtius robustus': 147,\n 'killer whale': 148,\n 'killer whale, killer, orca, grampus, sea wolf, Orcinus orca': 148,\n 'killer': 148,\n 'orca': 148,\n 'grampus': 148,\n 'sea wolf': 148,\n 'Orcinus orca': 148,\n 'dugong': 149,\n 'dugong, Dugong dugon': 149,\n 'Dugong dugon': 149,\n 'sea lion': 150,\n 'Chihuahua': 151,\n 'Japanese spaniel': 152,\n 'Maltese dog': 153,\n 'Maltese dog, Maltese terrier, Maltese': 153,\n 'Maltese terrier': 153,\n 'Maltese': 153,\n 'Pekinese': 154,\n 'Pekinese, Pekingese, Peke': 154,\n 'Pekingese': 154,\n 'Peke': 154,\n 'Shih-Tzu': 155,\n 'Blenheim spaniel': 156,\n 'papillon': 157,\n 'toy terrier': 158,\n 'Rhodesian ridgeback': 159,\n 'Afghan hound': 160,\n 'Afghan hound, Afghan': 160,\n 'Afghan': 160,\n 'basset': 161,\n 'basset, basset hound': 161,\n 'basset hound': 161,\n 'beagle': 162,\n 'bloodhound': 163,\n 'bloodhound, sleuthhound': 163,\n 'sleuthhound': 163,\n 'bluetick': 164,\n 'black-and-tan coonhound': 165,\n 'Walker hound': 166,\n 'Walker hound, Walker foxhound': 166,\n 'Walker foxhound': 166,\n 'English foxhound': 167,\n 'redbone': 168,\n 'borzoi': 169,\n 'borzoi, Russian wolfhound': 169,\n 'Russian wolfhound': 169,\n 'Irish wolfhound': 170,\n 'Italian greyhound': 171,\n 'whippet': 172,\n 'Ibizan hound': 173,\n 'Ibizan hound, Ibizan Podenco': 173,\n 'Ibizan Podenco': 173,\n 'Norwegian elkhound': 174,\n 'Norwegian elkhound, elkhound': 174,\n 'elkhound': 174,\n 'otterhound': 175,\n 'otterhound, otter hound': 175,\n 'otter hound': 175,\n 'Saluki': 176,\n 'Saluki, gazelle hound': 176,\n 'gazelle hound': 176,\n 'Scottish deerhound': 177,\n 'Scottish deerhound, deerhound': 177,\n 'deerhound': 177,\n 'Weimaraner': 178,\n 'Staffordshire bullterrier': 179,\n 'Staffordshire bullterrier, Staffordshire bull terrier': 179,\n 'Staffordshire bull terrier': 179,\n 'American Staffordshire terrier': 180,\n 'American Staffordshire terrier, Staffordshire terrier, American pit bull terrier, pit bull terrier': 180,\n 'Staffordshire terrier': 180,\n 'American pit bull terrier': 180,\n 'pit bull terrier': 180,\n 'Bedlington terrier': 181,\n 'Border terrier': 182,\n 'Kerry blue terrier': 183,\n 'Irish terrier': 184,\n 'Norfolk terrier': 185,\n 'Norwich terrier': 186,\n 'Yorkshire terrier': 187,\n 'wire-haired fox terrier': 188,\n 'Lakeland terrier': 189,\n 'Sealyham terrier': 190,\n 'Sealyham terrier, Sealyham': 190,\n 'Sealyham': 190,\n 'Airedale': 191,\n 'Airedale, Airedale terrier': 191,\n 'Airedale terrier': 191,\n 'cairn': 192,\n 'cairn, cairn terrier': 192,\n 'cairn terrier': 192,\n 'Australian terrier': 193,\n 'Dandie Dinmont': 194,\n 'Dandie Dinmont, Dandie Dinmont terrier': 194,\n 'Dandie Dinmont terrier': 194,\n 'Boston bull': 195,\n 'Boston bull, Boston terrier': 195,\n 'Boston terrier': 195,\n 'miniature schnauzer': 196,\n 'giant schnauzer': 197,\n 'standard schnauzer': 198,\n 'Scotch terrier': 199,\n 'Scotch terrier, Scottish terrier, Scottie': 199,\n 'Scottish terrier': 199,\n 'Scottie': 199,\n 'Tibetan terrier': 200,\n 'Tibetan terrier, chrysanthemum dog': 200,\n 'chrysanthemum dog': 200,\n 'silky terrier': 201,\n 'silky terrier, Sydney silky': 201,\n 'Sydney silky': 201,\n 'soft-coated wheaten terrier': 202,\n 'West Highland white terrier': 203,\n 'Lhasa': 204,\n 'Lhasa, Lhasa apso': 204,\n 'Lhasa apso': 204,\n 'flat-coated retriever': 205,\n 'curly-coated retriever': 206,\n 'golden retriever': 207,\n 'Labrador retriever': 208,\n 'Chesapeake Bay retriever': 209,\n 'German short-haired pointer': 210,\n 'vizsla': 211,\n 'vizsla, Hungarian pointer': 211,\n 'Hungarian pointer': 211,\n 'English setter': 212,\n 'Irish setter': 213,\n 'Irish setter, red setter': 213,\n 'red setter': 213,\n 'Gordon setter': 214,\n 'Brittany spaniel': 215,\n 'clumber': 216,\n 'clumber, clumber spaniel': 216,\n 'clumber spaniel': 216,\n 'English springer': 217,\n 'English springer, English springer spaniel': 217,\n 'English springer spaniel': 217,\n 'Welsh springer spaniel': 218,\n 'cocker spaniel': 219,\n 'cocker spaniel, English cocker spaniel, cocker': 219,\n 'English cocker spaniel': 219,\n 'cocker': 219,\n 'Sussex spaniel': 220,\n 'Irish water spaniel': 221,\n 'kuvasz': 222,\n 'schipperke': 223,\n 'groenendael': 224,\n 'malinois': 225,\n 'briard': 226,\n 'kelpie': 227,\n 'komondor': 228,\n 'Old English sheepdog': 229,\n 'Old English sheepdog, bobtail': 229,\n 'bobtail': 229,\n 'Shetland sheepdog': 230,\n 'Shetland sheepdog, Shetland sheep dog, Shetland': 230,\n 'Shetland sheep dog': 230,\n 'Shetland': 230,\n 'collie': 231,\n 'Border collie': 232,\n 'Bouvier des Flandres': 233,\n 'Bouvier des Flandres, Bouviers des Flandres': 233,\n 'Bouviers des Flandres': 233,\n 'Rottweiler': 234,\n 'German shepherd': 235,\n 'German shepherd, German shepherd dog, German police dog, alsatian': 235,\n 'German shepherd dog': 235,\n 'German police dog': 235,\n 'alsatian': 235,\n 'Doberman': 236,\n 'Doberman, Doberman pinscher': 236,\n 'Doberman pinscher': 236,\n 'miniature pinscher': 237,\n 'Greater Swiss Mountain dog': 238,\n 'Bernese mountain dog': 239,\n 'Appenzeller': 240,\n 'EntleBucher': 241,\n 'boxer': 242,\n 'bull mastiff': 243,\n 'Tibetan mastiff': 244,\n 'French bulldog': 245,\n 'Great Dane': 246,\n 'Saint Bernard': 247,\n 'Saint Bernard, St Bernard': 247,\n 'St Bernard': 247,\n 'Eskimo dog': 248,\n 'Eskimo dog, husky': 248,\n 'husky': 248,\n 'malamute': 249,\n 'malamute, malemute, Alaskan malamute': 249,\n 'malemute': 249,\n 'Alaskan malamute': 249,\n 'Siberian husky': 250,\n 'dalmatian': 251,\n 'dalmatian, coach dog, carriage dog': 251,\n 'coach dog': 251,\n 'carriage dog': 251,\n 'affenpinscher': 252,\n 'affenpinscher, monkey pinscher, monkey dog': 252,\n 'monkey pinscher': 252,\n 'monkey dog': 252,\n 'basenji': 253,\n 'pug': 254,\n 'pug, pug-dog': 254,\n 'pug-dog': 254,\n 'Leonberg': 255,\n 'Newfoundland': 256,\n 'Newfoundland, Newfoundland dog': 256,\n 'Newfoundland dog': 256,\n 'Great Pyrenees': 257,\n 'Samoyed': 258,\n 'Samoyed, Samoyede': 258,\n 'Samoyede': 258,\n 'Pomeranian': 259,\n 'chow': 260,\n 'chow, chow chow': 260,\n 'chow chow': 260,\n 'keeshond': 261,\n 'Brabancon griffon': 262,\n 'Pembroke': 263,\n 'Pembroke, Pembroke Welsh corgi': 263,\n 'Pembroke Welsh corgi': 263,\n 'Cardigan': 264,\n 'Cardigan, Cardigan Welsh corgi': 264,\n 'Cardigan Welsh corgi': 264,\n 'toy poodle': 265,\n 'miniature poodle': 266,\n 'standard poodle': 267,\n 'Mexican hairless': 268,\n 'timber wolf': 269,\n 'timber wolf, grey wolf, gray wolf, Canis lupus': 269,\n 'grey wolf': 269,\n 'gray wolf': 269,\n 'Canis lupus': 269,\n 'white wolf': 270,\n 'white wolf, Arctic wolf, Canis lupus tundrarum': 270,\n 'Arctic wolf': 270,\n 'Canis lupus tundrarum': 270,\n 'red wolf': 271,\n 'red wolf, maned wolf, Canis rufus, Canis niger': 271,\n 'maned wolf': 271,\n 'Canis rufus': 271,\n 'Canis niger': 271,\n 'coyote': 272,\n 'coyote, prairie wolf, brush wolf, Canis latrans': 272,\n 'prairie wolf': 272,\n 'brush wolf': 272,\n 'Canis latrans': 272,\n 'dingo': 273,\n 'dingo, warrigal, warragal, Canis dingo': 273,\n 'warrigal': 273,\n 'warragal': 273,\n 'Canis dingo': 273,\n 'dhole': 274,\n 'dhole, Cuon alpinus': 274,\n 'Cuon alpinus': 274,\n 'African hunting dog': 275,\n 'African hunting dog, hyena dog, Cape hunting dog, Lycaon pictus': 275,\n 'hyena dog': 275,\n 'Cape hunting dog': 275,\n 'Lycaon pictus': 275,\n 'hyena': 276,\n 'hyena, hyaena': 276,\n 'hyaena': 276,\n 'red fox': 277,\n 'red fox, Vulpes vulpes': 277,\n 'Vulpes vulpes': 277,\n 'kit fox': 278,\n 'kit fox, Vulpes macrotis': 278,\n 'Vulpes macrotis': 278,\n 'Arctic fox': 279,\n 'Arctic fox, white fox, Alopex lagopus': 279,\n 'white fox': 279,\n 'Alopex lagopus': 279,\n 'grey fox': 280,\n 'grey fox, gray fox, Urocyon cinereoargenteus': 280,\n 'gray fox': 280,\n 'Urocyon cinereoargenteus': 280,\n 'tabby': 281,\n 'tabby, tabby cat': 281,\n 'tabby cat': 281,\n 'tiger cat': 282,\n 'Persian cat': 283,\n 'Siamese cat': 284,\n 'Siamese cat, Siamese': 284,\n 'Siamese': 284,\n 'Egyptian cat': 285,\n 'cougar': 286,\n 'cougar, puma, catamount, mountain lion, painter, panther, Felis concolor': 286,\n 'puma': 286,\n 'catamount': 287,\n 'mountain lion': 286,\n 'painter': 286,\n 'panther': 290,\n 'Felis concolor': 286,\n 'lynx': 287,\n 'lynx, catamount': 287,\n 'leopard': 288,\n 'leopard, Panthera pardus': 288,\n 'Panthera pardus': 288,\n 'snow leopard': 289,\n 'snow leopard, ounce, Panthera uncia': 289,\n 'ounce': 289,\n 'Panthera uncia': 289,\n 'jaguar': 290,\n 'jaguar, panther, Panthera onca, Felis onca': 290,\n 'Panthera onca': 290,\n 'Felis onca': 290,\n 'lion': 291,\n 'lion, king of beasts, Panthera leo': 291,\n 'king of beasts': 291,\n 'Panthera leo': 291,\n 'tiger': 292,\n 'tiger, Panthera tigris': 292,\n 'Panthera tigris': 292,\n 'cheetah': 293,\n 'cheetah, chetah, Acinonyx jubatus': 293,\n 'chetah': 293,\n 'Acinonyx jubatus': 293,\n 'brown bear': 294,\n 'brown bear, bruin, Ursus arctos': 294,\n 'bruin': 294,\n 'Ursus arctos': 294,\n 'American black bear': 295,\n 'American black bear, black bear, Ursus americanus, Euarctos americanus': 295,\n 'black bear': 295,\n 'Ursus americanus': 295,\n 'Euarctos americanus': 295,\n 'ice bear': 296,\n 'ice bear, polar bear, Ursus Maritimus, Thalarctos maritimus': 296,\n 'polar bear': 296,\n 'Ursus Maritimus': 296,\n 'Thalarctos maritimus': 296,\n 'sloth bear': 297,\n 'sloth bear, Melursus ursinus, Ursus ursinus': 297,\n 'Melursus ursinus': 297,\n 'Ursus ursinus': 297,\n 'mongoose': 298,\n 'meerkat': 299,\n 'meerkat, mierkat': 299,\n 'mierkat': 299,\n 'tiger beetle': 300,\n 'ladybug': 301,\n 'ladybug, ladybeetle, lady beetle, ladybird, ladybird beetle': 301,\n 'ladybeetle': 301,\n 'lady beetle': 301,\n 'ladybird': 301,\n 'ladybird beetle': 301,\n 'ground beetle': 302,\n 'ground beetle, carabid beetle': 302,\n 'carabid beetle': 302,\n 'long-horned beetle': 303,\n 'long-horned beetle, longicorn, longicorn beetle': 303,\n 'longicorn': 303,\n 'longicorn beetle': 303,\n 'leaf beetle': 304,\n 'leaf beetle, chrysomelid': 304,\n 'chrysomelid': 304,\n 'dung beetle': 305,\n 'rhinoceros beetle': 306,\n 'weevil': 307,\n 'fly': 308,\n 'bee': 309,\n 'ant': 310,\n 'ant, emmet, pismire': 310,\n 'emmet': 310,\n 'pismire': 310,\n 'grasshopper': 311,\n 'grasshopper, hopper': 311,\n 'hopper': 311,\n 'cricket': 312,\n 'walking stick': 313,\n 'walking stick, walkingstick, stick insect': 313,\n 'walkingstick': 313,\n 'stick insect': 313,\n 'cockroach': 314,\n 'cockroach, roach': 314,\n 'roach': 314,\n 'mantis': 315,\n 'mantis, mantid': 315,\n 'mantid': 315,\n 'cicada': 316,\n 'cicada, cicala': 316,\n 'cicala': 316,\n 'leafhopper': 317,\n 'lacewing': 318,\n 'lacewing, lacewing fly': 318,\n 'lacewing fly': 318,\n 'dragonfly': 319,\n 's darning needle, sewing needle, snake feeder, snake doctor, mosquito hawk, skeeter hawk\",\\n': 319,\n 's darning needle': 319,\n 'sewing needle': 319,\n 'snake feeder': 319,\n 'snake doctor': 319,\n 'mosquito hawk': 319,\n 'skeeter hawk\",\\n': 319,\n 'damselfly': 320,\n 'admiral': 321,\n 'ringlet': 322,\n 'ringlet, ringlet butterfly': 322,\n 'ringlet butterfly': 322,\n 'monarch': 323,\n 'monarch, monarch butterfly, milkweed butterfly, Danaus plexippus': 323,\n 'monarch butterfly': 323,\n 'milkweed butterfly': 323,\n 'Danaus plexippus': 323,\n 'cabbage butterfly': 324,\n 'sulphur butterfly': 325,\n 'sulphur butterfly, sulfur butterfly': 325,\n 'sulfur butterfly': 325,\n 'lycaenid': 326,\n 'lycaenid, lycaenid butterfly': 326,\n 'lycaenid butterfly': 326,\n 'starfish': 327,\n 'starfish, sea star': 327,\n 'sea star': 327,\n 'sea urchin': 328,\n 'sea cucumber': 329,\n 'sea cucumber, holothurian': 329,\n 'holothurian': 329,\n 'wood rabbit': 330,\n 'wood rabbit, cottontail, cottontail rabbit': 330,\n 'cottontail': 330,\n 'cottontail rabbit': 330,\n 'hare': 331,\n 'Angora': 332,\n 'Angora, Angora rabbit': 332,\n 'Angora rabbit': 332,\n 'hamster': 333,\n 'porcupine': 334,\n 'porcupine, hedgehog': 334,\n 'hedgehog': 334,\n 'fox squirrel': 335,\n 'fox squirrel, eastern fox squirrel, Sciurus niger': 335,\n 'eastern fox squirrel': 335,\n 'Sciurus niger': 335,\n 'marmot': 336,\n 'beaver': 337,\n 'guinea pig': 338,\n 'guinea pig, Cavia cobaya': 338,\n 'Cavia cobaya': 338,\n 'sorrel': 339,\n 'zebra': 340,\n 'hog': 341,\n 'hog, pig, grunter, squealer, Sus scrofa': 341,\n 'pig': 341,\n 'grunter': 341,\n 'squealer': 341,\n 'Sus scrofa': 342,\n 'wild boar': 342,\n 'wild boar, boar, Sus scrofa': 342,\n 'boar': 342,\n 'warthog': 343,\n 'hippopotamus': 344,\n 'hippopotamus, hippo, river horse, Hippopotamus amphibius': 344,\n 'hippo': 344,\n 'river horse': 344,\n 'Hippopotamus amphibius': 344,\n 'ox': 345,\n 'water buffalo': 346,\n 'water buffalo, water ox, Asiatic buffalo, Bubalus bubalis': 346,\n 'water ox': 346,\n 'Asiatic buffalo': 346,\n 'Bubalus bubalis': 346,\n 'bison': 347,\n 'ram': 348,\n 'ram, tup': 348,\n 'tup': 348,\n 'bighorn': 349,\n 'bighorn, bighorn sheep, cimarron, Rocky Mountain bighorn, Rocky Mountain sheep, Ovis canadensis': 349,\n 'bighorn sheep': 349,\n 'cimarron': 349,\n 'Rocky Mountain bighorn': 349,\n 'Rocky Mountain sheep': 349,\n 'Ovis canadensis': 349,\n 'ibex': 350,\n 'ibex, Capra ibex': 350,\n 'Capra ibex': 350,\n 'hartebeest': 351,\n 'impala': 352,\n 'impala, Aepyceros melampus': 352,\n 'Aepyceros melampus': 352,\n 'gazelle': 353,\n 'Arabian camel': 354,\n 'Arabian camel, dromedary, Camelus dromedarius': 354,\n 'dromedary': 354,\n 'Camelus dromedarius': 354,\n 'llama': 355,\n 'weasel': 356,\n 'mink': 357,\n 'polecat': 361,\n 'polecat, fitch, foulmart, foumart, Mustela putorius': 358,\n 'fitch': 358,\n 'foulmart': 358,\n 'foumart': 358,\n 'Mustela putorius': 358,\n 'black-footed ferret': 359,\n 'black-footed ferret, ferret, Mustela nigripes': 359,\n 'ferret': 359,\n 'Mustela nigripes': 359,\n 'otter': 360,\n 'skunk': 361,\n 'skunk, polecat, wood pussy': 361,\n 'wood pussy': 361,\n 'badger': 362,\n 'armadillo': 363,\n 'three-toed sloth': 364,\n 'three-toed sloth, ai, Bradypus tridactylus': 364,\n 'ai': 364,\n 'Bradypus tridactylus': 364,\n 'orangutan': 365,\n 'orangutan, orang, orangutang, Pongo pygmaeus': 365,\n 'orang': 365,\n 'orangutang': 365,\n 'Pongo pygmaeus': 365,\n 'gorilla': 366,\n 'gorilla, Gorilla gorilla': 366,\n 'Gorilla gorilla': 366,\n 'chimpanzee': 367,\n 'chimpanzee, chimp, Pan troglodytes': 367,\n 'chimp': 367,\n 'Pan troglodytes': 367,\n 'gibbon': 368,\n 'gibbon, Hylobates lar': 368,\n 'Hylobates lar': 368,\n 'siamang': 369,\n 'siamang, Hylobates syndactylus, Symphalangus syndactylus': 369,\n 'Hylobates syndactylus': 369,\n 'Symphalangus syndactylus': 369,\n 'guenon': 370,\n 'guenon, guenon monkey': 370,\n 'guenon monkey': 370,\n 'patas': 371,\n 'patas, hussar monkey, Erythrocebus patas': 371,\n 'hussar monkey': 371,\n 'Erythrocebus patas': 371,\n 'baboon': 372,\n 'macaque': 373,\n 'langur': 374,\n 'colobus': 375,\n 'colobus, colobus monkey': 375,\n 'colobus monkey': 375,\n 'proboscis monkey': 376,\n 'proboscis monkey, Nasalis larvatus': 376,\n 'Nasalis larvatus': 376,\n 'marmoset': 377,\n 'capuchin': 378,\n 'capuchin, ringtail, Cebus capucinus': 378,\n 'ringtail': 378,\n 'Cebus capucinus': 378,\n 'howler monkey': 379,\n 'howler monkey, howler': 379,\n 'howler': 379,\n 'titi': 380,\n 'titi, titi monkey': 380,\n 'titi monkey': 380,\n 'spider monkey': 381,\n 'spider monkey, Ateles geoffroyi': 381,\n 'Ateles geoffroyi': 381,\n 'squirrel monkey': 382,\n 'squirrel monkey, Saimiri sciureus': 382,\n 'Saimiri sciureus': 382,\n 'Madagascar cat': 383,\n 'Madagascar cat, ring-tailed lemur, Lemur catta': 383,\n 'ring-tailed lemur': 383,\n 'Lemur catta': 383,\n 'indri': 384,\n 'indri, indris, Indri indri, Indri brevicaudatus': 384,\n 'indris': 384,\n 'Indri indri': 384,\n 'Indri brevicaudatus': 384,\n 'Indian elephant': 385,\n 'Indian elephant, Elephas maximus': 385,\n 'Elephas maximus': 385,\n 'African elephant': 386,\n 'African elephant, Loxodonta africana': 386,\n 'Loxodonta africana': 386,\n 'lesser panda': 387,\n 'lesser panda, red panda, panda, bear cat, cat bear, Ailurus fulgens': 387,\n 'red panda': 387,\n 'panda': 388,\n 'bear cat': 387,\n 'cat bear': 387,\n 'Ailurus fulgens': 387,\n 'giant panda': 388,\n 'giant panda, panda, panda bear, coon bear, Ailuropoda melanoleuca': 388,\n 'panda bear': 388,\n 'coon bear': 388,\n 'Ailuropoda melanoleuca': 388,\n 'barracouta': 389,\n 'barracouta, snoek': 389,\n 'snoek': 389,\n 'eel': 390,\n 'coho': 391,\n 'coho, cohoe, coho salmon, blue jack, silver salmon, Oncorhynchus kisutch': 391,\n 'cohoe': 391,\n 'coho salmon': 391,\n 'blue jack': 391,\n 'silver salmon': 391,\n 'Oncorhynchus kisutch': 391,\n 'rock beauty': 392,\n 'rock beauty, Holocanthus tricolor': 392,\n 'Holocanthus tricolor': 392,\n 'anemone fish': 393,\n 'sturgeon': 394,\n ...}"
     },
     "execution_count": 9,
     "metadata": {},
     "output_type": "execute_result"
    }
   ],
   "source": [
    "imagenet_class_index = {}\n",
    "for i, label in enumerate(original_labels):\n",
    "    imagenet_class_index[label] = i\n",
    "    if modified_labels[i] != label:\n",
    "        imagenet_class_index[modified_labels[i]] = i\n",
    "    if long_labels[i] != label:\n",
    "        imagenet_class_index[long_labels[i]] = i\n",
    "        if ',' in long_labels[i]:\n",
    "            label_split = long_labels[i].split(', ')\n",
    "            for elem in label_split:\n",
    "                if elem != label:\n",
    "                    imagenet_class_index[elem] = i\n",
    "imagenet_class_index\n"
   ],
   "metadata": {
    "collapsed": false,
    "pycharm": {
     "name": "#%%\n"
    }
   }
  },
  {
   "cell_type": "code",
   "execution_count": 10,
   "outputs": [],
   "source": [
    "import json\n",
    "\n",
    "with open(\"../data/imagenet_class_index.json\", \"w\") as f:\n",
    "    json.dump(imagenet_class_index, f)"
   ],
   "metadata": {
    "collapsed": false,
    "pycharm": {
     "name": "#%%\n"
    }
   }
  }
 ],
 "metadata": {
  "kernelspec": {
   "display_name": "Python 3",
   "language": "python",
   "name": "python3"
  },
  "language_info": {
   "codemirror_mode": {
    "name": "ipython",
    "version": 2
   },
   "file_extension": ".py",
   "mimetype": "text/x-python",
   "name": "python",
   "nbconvert_exporter": "python",
   "pygments_lexer": "ipython2",
   "version": "2.7.6"
  }
 },
 "nbformat": 4,
 "nbformat_minor": 0
}