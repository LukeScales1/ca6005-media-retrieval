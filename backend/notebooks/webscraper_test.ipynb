{
 "cells": [
  {
   "cell_type": "code",
   "execution_count": 2,
   "metadata": {
    "collapsed": true
   },
   "outputs": [],
   "source": [
    "import webscraper\n",
    "from classifier import Classifier"
   ]
  },
  {
   "cell_type": "code",
   "execution_count": 3,
   "outputs": [
    {
     "data": {
      "text/plain": "'tench'"
     },
     "execution_count": 3,
     "metadata": {},
     "output_type": "execute_result"
    }
   ],
   "source": [
    "image_classifier = Classifier()\n",
    "labels = image_classifier.labels\n",
    "long_labels = webscraper.get_yrevar_imagenet_labels()\n",
    "test_label = labels[0]\n",
    "test_label"
   ],
   "metadata": {
    "collapsed": false,
    "pycharm": {
     "name": "#%%\n"
    }
   }
  },
  {
   "cell_type": "code",
   "execution_count": 4,
   "outputs": [
    {
     "name": "stdout",
     "output_type": "stream",
     "text": [
      "Downloading data from https://i.pinimg.com/236x/8e/cb/b6/8ecbb68466cd4ff7d1d1b6f95efd45c8.jpg\n",
      "32768/29331 [=================================] - 0s 0us/step\b\b\b\b\b\b\b\b\b\b\b\b\b\b\b\b\b\b\b\b\b\b\b\b\b\b\b\b\b\b\b\b\b\b\b\b\b\b\b\b\b\b\b\b\b\b\b\n",
      "Downloading data from https://i.pinimg.com/236x/6b/20/22/6b202248cf8afe80e6675f09dffed183.jpg\n",
      "32768/26308 [=====================================] - 0s 0us/step\b\b\b\b\b\b\b\b\b\b\b\b\b\b\b\b\b\b\b\b\b\b\b\b\b\b\b\b\b\b\b\b\b\b\b\b\b\b\b\b\b\b\b\n",
      "Downloading data from https://i.pinimg.com/236x/a5/28/bd/a528bdfe2fa6cf8cc06a9d34eea98187.jpg\n",
      "24576/19896 [=====================================] - 0s 0us/step\b\b\b\b\b\b\b\b\b\b\b\b\b\b\b\b\b\b\b\b\b\b\b\b\b\b\b\b\b\b\b\b\b\b\b\b\b\b\b\b\b\b\b\n",
      "Downloading data from https://i.pinimg.com/236x/60/07/91/6007910ebf26bc28fc44eea84ae1d9d7.jpg\n",
      "16384/14649 [=================================] - 0s 1us/step\b\b\b\b\b\b\b\b\b\b\b\b\b\b\b\b\b\b\b\b\b\b\b\b\b\b\b\b\b\b\b\b\b\b\b\b\b\b\b\b\b\b\b\b\b\b\b\n",
      "Downloading data from https://i.pinimg.com/236x/94/f9/8f/94f98f26ddfa526b59f3c30db1e91c40.jpg\n",
      "24576/17118 [===========================================] - 0s 0us/step\b\b\b\b\b\b\b\b\b\b\b\b\b\b\b\b\b\b\b\b\b\b\b\b\b\b\b\b\b\b\b\b\b\b\b\b\b\n",
      "Downloading data from https://i.pinimg.com/236x/c0/21/e4/c021e4c2eb3f75ef03c6a785af1d3c32.jpg\n",
      "16384/15272 [================================] - 0s 0us/step\b\b\b\b\b\b\b\b\b\b\b\b\b\b\b\b\b\b\b\b\b\b\b\b\b\b\b\b\b\b\b\b\b\b\b\b\b\b\b\b\b\b\b\b\b\b\b\b\n",
      "Downloading data from https://i.pinimg.com/236x/65/c6/4f/65c64fdb4abf5692a6bd874e727503c1.jpg\n",
      "24576/16935 [===========================================] - 0s 0us/step\b\b\b\b\b\b\b\b\b\b\b\b\b\b\b\b\b\b\b\b\b\b\b\b\b\b\b\b\b\b\b\b\b\b\b\b\b\n",
      "Downloading data from https://i.pinimg.com/236x/ad/6b/18/ad6b18de2f7dbeffdf6d4ff6f463c4b0.jpg\n",
      "16384/16173 [==============================] - 0s 0us/step\b\b\b\b\b\b\b\b\b\b\b\b\b\b\b\b\b\b\b\b\b\b\b\b\b\b\b\b\b\b\b\b\b\b\b\b\b\b\b\b\b\b\b\b\b\b\b\b\b\b\n",
      "Downloading data from https://i.pinimg.com/236x/2f/b7/38/2fb738fd8a268a94c88a5359341c9aef--style-outfits-fashion-outfits.jpg\n",
      "16384/13138 [=====================================] - 0s 0us/step\b\b\b\b\b\b\b\b\b\b\b\b\b\b\b\b\b\b\b\b\b\b\b\b\b\b\b\b\b\b\b\b\b\b\b\b\b\b\b\b\b\b\b\n",
      "Downloading data from https://i.pinimg.com/236x/97/6a/06/976a06be0d58b837944ac711abd186f4.jpg\n",
      "24576/18919 [======================================] - 0s 0us/step\b\b\b\b\b\b\b\b\b\b\b\b\b\b\b\b\b\b\b\b\b\b\b\b\b\b\b\b\b\b\b\b\b\b\b\b\b\b\b\b\b\b\n",
      "Downloading data from https://i.pinimg.com/236x/6e/7e/ce/6e7ece90f67c9cfcd8dbff02002e18af.jpg\n",
      "24576/22159 [=================================] - 0s 0us/step\b\b\b\b\b\b\b\b\b\b\b\b\b\b\b\b\b\b\b\b\b\b\b\b\b\b\b\b\b\b\b\b\b\b\b\b\b\b\b\b\b\b\b\b\b\b\b\n",
      "Downloading data from https://i.pinimg.com/236x/63/92/e1/6392e10806e404bdb39c8db4f97388af.jpg\n",
      "16384/16379 [==============================] - 0s 0us/step\b\b\b\b\b\b\b\b\b\b\b\b\b\b\b\b\b\b\b\b\b\b\b\b\b\b\b\b\b\b\b\b\b\b\b\b\b\b\b\b\b\b\b\b\b\b\b\b\b\b\n",
      "Downloading data from https://i.pinimg.com/236x/67/e6/31/67e631cef213281a174ba752a2247535.jpg\n",
      "16384/9315 [====================================================] - 0s 0us/step\b\b\b\b\b\b\b\b\b\b\b\b\b\b\b\b\b\b\b\b\b\b\b\b\b\n",
      "Downloading data from https://i.pinimg.com/236x/be/22/82/be228207d6683c699de8f9903b39fae9.jpg\n",
      "24576/18544 [=======================================] - 0s 0us/step\b\b\b\b\b\b\b\b\b\b\b\b\b\b\b\b\b\b\b\b\b\b\b\b\b\b\b\b\b\b\b\b\b\b\b\b\b\b\b\b\b\n",
      "Downloading data from https://i.pinimg.com/236x/3e/dc/ba/3edcba4b8b6673e0fc8a75fdf48ab744.jpg\n",
      "8192/6549 [=====================================] - 0s 0us/step\n",
      "Downloading data from https://i.pinimg.com/236x/c3/32/ee/c332ee3fa4039b4403f316bea17a25e6.jpg\n",
      "16384/15506 [===============================] - 0s 0us/step\b\b\b\b\b\b\b\b\b\b\b\b\b\b\b\b\b\b\b\b\b\b\b\b\b\b\b\b\b\b\b\b\b\b\b\b\b\b\b\b\b\b\b\b\b\b\b\b\b\n"
     ]
    },
    {
     "data": {
      "text/plain": "{'class': 'tench',\n 'long_label': 'tench, Tinca tinca',\n 'images': [{'href': '/pin/6192518224136448/',\n   'src': 'https://i.pinimg.com/236x/8e/cb/b6/8ecbb68466cd4ff7d1d1b6f95efd45c8.jpg',\n   'alt': 'Casual Curves: Casual Style for Hourglass Figures - Album on Imgur',\n   'relevance': 10},\n  {'href': '/pin/3025924739665121/',\n   'src': 'https://i.pinimg.com/236x/6b/20/22/6b202248cf8afe80e6675f09dffed183.jpg',\n   'alt': ' ',\n   'relevance': 10},\n  {'href': '/pin/45599014967171928/',\n   'src': 'https://i.pinimg.com/236x/a5/28/bd/a528bdfe2fa6cf8cc06a9d34eea98187.jpg',\n   'alt': '@mimiarr discovered by mara. on We Heart It',\n   'relevance': 10},\n  {'href': '/pin/56646907803594804/',\n   'src': 'https://i.pinimg.com/236x/60/07/91/6007910ebf26bc28fc44eea84ae1d9d7.jpg',\n   'alt': ' ',\n   'relevance': 10},\n  {'href': '/pin/6403624460020225/',\n   'src': 'https://i.pinimg.com/236x/94/f9/8f/94f98f26ddfa526b59f3c30db1e91c40.jpg',\n   'alt': ' ',\n   'relevance': 10},\n  {'href': '/pin/4292562132583802/',\n   'src': 'https://i.pinimg.com/236x/c0/21/e4/c021e4c2eb3f75ef03c6a785af1d3c32.jpg',\n   'alt': 'Awkward misunderstanding before leaving',\n   'relevance': 10},\n  {'href': '/pin/68740560511/',\n   'src': 'https://i.pinimg.com/236x/65/c6/4f/65c64fdb4abf5692a6bd874e727503c1.jpg',\n   'alt': 'Have You Seen My Dragon?',\n   'relevance': 10},\n  {'href': '/pin/21392166968489350/',\n   'src': 'https://i.pinimg.com/236x/ad/6b/18/ad6b18de2f7dbeffdf6d4ff6f463c4b0.jpg',\n   'alt': 'Lemon Blueberry Cake- this moist and fluffy lemon blueberry cake recipe is both vegan and gluten free, and full of lemon flavor bursting with blueberries throughout!',\n   'relevance': 10},\n  {'href': '/pin/235594624241072575/',\n   'src': 'https://i.pinimg.com/236x/2f/b7/38/2fb738fd8a268a94c88a5359341c9aef--style-outfits-fashion-outfits.jpg',\n   'alt': ' ',\n   'relevance': 10},\n  {'href': '/pin/13018286413613503/',\n   'src': 'https://i.pinimg.com/236x/97/6a/06/976a06be0d58b837944ac711abd186f4.jpg',\n   'alt': ' ',\n   'relevance': 10},\n  {'href': '/pin/121104677470716397/',\n   'src': 'https://i.pinimg.com/236x/6e/7e/ce/6e7ece90f67c9cfcd8dbff02002e18af.jpg',\n   'alt': ' ',\n   'relevance': 10},\n  {'href': '/pin/37647346874288654/',\n   'src': 'https://i.pinimg.com/236x/63/92/e1/6392e10806e404bdb39c8db4f97388af.jpg',\n   'alt': ' ',\n   'relevance': 10},\n  {'href': '/pin/80853755800136339/',\n   'src': 'https://i.pinimg.com/236x/67/e6/31/67e631cef213281a174ba752a2247535.jpg',\n   'alt': ' ',\n   'relevance': 10},\n  {'href': '/pin/24206916738993849/',\n   'src': 'https://i.pinimg.com/236x/be/22/82/be228207d6683c699de8f9903b39fae9.jpg',\n   'alt': ' ',\n   'relevance': 10},\n  {'href': '/pin/10485011622176660/',\n   'src': 'https://i.pinimg.com/236x/3e/dc/ba/3edcba4b8b6673e0fc8a75fdf48ab744.jpg',\n   'alt': ' ',\n   'relevance': 10},\n  {'href': '/pin/657314508114595138/',\n   'src': 'https://i.pinimg.com/236x/c3/32/ee/c332ee3fa4039b4403f316bea17a25e6.jpg',\n   'alt': ' ',\n   'relevance': 10}]}"
     },
     "execution_count": 4,
     "metadata": {},
     "output_type": "execute_result"
    }
   ],
   "source": [
    "def get_images_and_relevance(label_index):\n",
    "    class_name = image_classifier.labels[label_index]\n",
    "    long_label = long_labels[label_index]\n",
    "    search_results = webscraper.get_pinterest_search_results(class_name)\n",
    "    return webscraper.get_img_data(class_name, long_label, search_results)\n",
    "\n",
    "test_results = get_images_and_relevance(0)\n",
    "test_results"
   ],
   "metadata": {
    "collapsed": false,
    "pycharm": {
     "name": "#%%\n"
    }
   }
  },
  {
   "cell_type": "markdown",
   "source": [
    "all images are irrelevant - manual check shows a lot of fashion images. Test search based on long label:"
   ],
   "metadata": {
    "collapsed": false
   }
  },
  {
   "cell_type": "code",
   "execution_count": 5,
   "outputs": [
    {
     "data": {
      "text/plain": "{'class': 'tench', 'long_label': 'tench, Tinca tinca', 'images': []}"
     },
     "execution_count": 5,
     "metadata": {},
     "output_type": "execute_result"
    }
   ],
   "source": [
    "def get_images_and_relevance(label_index, use_long_label=False):\n",
    "    class_name = image_classifier.labels[label_index]\n",
    "    long_label = long_labels[label_index]\n",
    "    search_term = long_label if use_long_label else class_name\n",
    "    search_results = webscraper.get_pinterest_search_results(search_term)\n",
    "    return webscraper.get_img_data(class_name, long_label, search_results)\n",
    "long_label_results = get_images_and_relevance(0, use_long_label=True)\n",
    "long_label_results"
   ],
   "metadata": {
    "collapsed": false,
    "pycharm": {
     "name": "#%%\n"
    }
   }
  },
  {
   "cell_type": "code",
   "execution_count": 6,
   "outputs": [],
   "source": [
    "import urllib.parse\n",
    "from selenium import webdriver\n",
    "from bs4 import BeautifulSoup\n",
    "\n",
    "search = long_labels[0]\n",
    "driver = webdriver.Chrome()\n",
    "driver.get(f\"https://www.pinterest.ca/search/pins/?q={urllib.parse.quote(search)}&rs=sitelinks_searchbox\")"
   ],
   "metadata": {
    "collapsed": false,
    "pycharm": {
     "name": "#%%\n"
    }
   }
  },
  {
   "cell_type": "code",
   "execution_count": 7,
   "outputs": [],
   "source": [
    "page = BeautifulSoup(driver.page_source, \"html.parser\")"
   ],
   "metadata": {
    "collapsed": false,
    "pycharm": {
     "name": "#%%\n"
    }
   }
  },
  {
   "cell_type": "code",
   "execution_count": 8,
   "outputs": [
    {
     "name": "stdout",
     "output_type": "stream",
     "text": [
      "Downloading data from https://i.pinimg.com/236x/8e/cb/b6/8ecbb68466cd4ff7d1d1b6f95efd45c8.jpg\n",
      "32768/29331 [=================================] - 0s 0us/step\b\b\b\b\b\b\b\b\b\b\b\b\b\b\b\b\b\b\b\b\b\b\b\b\b\b\b\b\b\b\b\b\b\b\b\b\b\b\b\b\b\b\b\b\b\b\b\n",
      "Downloading data from https://i.pinimg.com/236x/6b/20/22/6b202248cf8afe80e6675f09dffed183.jpg\n",
      "32768/26308 [=====================================] - 0s 0us/step\b\b\b\b\b\b\b\b\b\b\b\b\b\b\b\b\b\b\b\b\b\b\b\b\b\b\b\b\b\b\b\b\b\b\b\b\b\b\b\b\b\b\b\n",
      "Downloading data from https://i.pinimg.com/236x/a5/28/bd/a528bdfe2fa6cf8cc06a9d34eea98187.jpg\n",
      "24576/19896 [=====================================] - 0s 0us/step\b\b\b\b\b\b\b\b\b\b\b\b\b\b\b\b\b\b\b\b\b\b\b\b\b\b\b\b\b\b\b\b\b\b\b\b\b\b\b\b\b\b\b\n",
      "Downloading data from https://i.pinimg.com/236x/60/07/91/6007910ebf26bc28fc44eea84ae1d9d7.jpg\n",
      "16384/14649 [=================================] - 0s 0us/step\b\b\b\b\b\b\b\b\b\b\b\b\b\b\b\b\b\b\b\b\b\b\b\b\b\b\b\b\b\b\b\b\b\b\b\b\b\b\b\b\b\b\b\b\b\b\b\n",
      "Downloading data from https://i.pinimg.com/236x/c0/21/e4/c021e4c2eb3f75ef03c6a785af1d3c32.jpg\n",
      "16384/15272 [================================] - 0s 0us/step\b\b\b\b\b\b\b\b\b\b\b\b\b\b\b\b\b\b\b\b\b\b\b\b\b\b\b\b\b\b\b\b\b\b\b\b\b\b\b\b\b\b\b\b\b\b\b\b\n",
      "Downloading data from https://i.pinimg.com/236x/6e/7e/ce/6e7ece90f67c9cfcd8dbff02002e18af.jpg\n",
      "24576/22159 [=================================] - 0s 1us/step\b\b\b\b\b\b\b\b\b\b\b\b\b\b\b\b\b\b\b\b\b\b\b\b\b\b\b\b\b\b\b\b\b\b\b\b\b\b\b\b\b\b\b\b\b\b\b\n",
      "Downloading data from https://i.pinimg.com/236x/2a/07/ab/2a07ab4aac2c99d12576b0af12e0e2a1.jpg\n",
      "8192/5446 [=============================================] - 0s 0us/step\n",
      "Downloading data from https://i.pinimg.com/236x/9b/f7/5d/9bf75dabfea3442e492353554714733f.jpg\n",
      "24576/23319 [===============================] - 0s 0us/step\b\b\b\b\b\b\b\b\b\b\b\b\b\b\b\b\b\b\b\b\b\b\b\b\b\b\b\b\b\b\b\b\b\b\b\b\b\b\b\b\b\b\b\b\b\b\b\b\b\n",
      "Downloading data from https://i.pinimg.com/236x/63/92/e1/6392e10806e404bdb39c8db4f97388af.jpg\n",
      "16384/16379 [==============================] - 0s 0us/step\b\b\b\b\b\b\b\b\b\b\b\b\b\b\b\b\b\b\b\b\b\b\b\b\b\b\b\b\b\b\b\b\b\b\b\b\b\b\b\b\b\b\b\b\b\b\b\b\b\b\n",
      "Downloading data from https://i.pinimg.com/236x/67/e6/31/67e631cef213281a174ba752a2247535.jpg\n",
      "16384/9315 [====================================================] - 0s 0us/step\b\b\b\b\b\b\b\b\b\b\b\b\b\b\b\b\b\b\b\b\b\b\b\b\b\n",
      "Downloading data from https://i.pinimg.com/236x/c4/92/8c/c4928c34a230cfc8f449602346bd092e--corsair-lek.jpg\n",
      "16384/13353 [====================================] - 0s 0us/step\b\b\b\b\b\b\b\b\b\b\b\b\b\b\b\b\b\b\b\b\b\b\b\b\b\b\b\b\b\b\b\b\b\b\b\b\b\b\b\b\b\b\b\b\n",
      "Downloading data from https://i.pinimg.com/236x/d1/2c/ee/d12ceed889585823ee828454adcc5aab--merlin-dreamworks.jpg\n",
      "24576/17401 [==========================================] - 0s 0us/step\b\b\b\b\b\b\b\b\b\b\b\b\b\b\b\b\b\b\b\b\b\b\b\b\b\b\b\b\b\b\b\b\b\b\b\b\b\b\n",
      "Downloading data from https://i.pinimg.com/236x/6d/8e/94/6d8e949b0ea3e6b75be66184f07697c6.jpg\n",
      "24576/19652 [=====================================] - 0s 0us/step\b\b\b\b\b\b\b\b\b\b\b\b\b\b\b\b\b\b\b\b\b\b\b\b\b\b\b\b\b\b\b\b\b\b\b\b\b\b\b\b\b\b\b\n",
      "Downloading data from https://i.pinimg.com/236x/32/63/b8/3263b8f6732d3e07093b4f548422d1d0--nests-aliens.jpg\n",
      "16384/12754 [======================================] - 0s 0us/step\b\b\b\b\b\b\b\b\b\b\b\b\b\b\b\b\b\b\b\b\b\b\b\b\b\b\b\b\b\b\b\b\b\b\b\b\b\b\b\b\b\b\n",
      "Downloading data from https://i.pinimg.com/236x/d7/4c/20/d74c2016c9a8d3e34bb27c5e9c40cec9.jpg\n",
      "16384/12685 [======================================] - 0s 0us/step\b\b\b\b\b\b\b\b\b\b\b\b\b\b\b\b\b\b\b\b\b\b\b\b\b\b\b\b\b\b\b\b\b\b\b\b\b\b\b\b\b\b\n",
      "Downloading data from https://i.pinimg.com/236x/63/9c/78/639c78b6e3c7b47547b9ad844189719d.jpg\n",
      "16384/8404 [==========================================================] - 0s 0us/step\b\b\b\b\b\b\b\b\b\b\b\b\b\b\b\b\b\b\b\n",
      "Downloading data from https://i.pinimg.com/236x/c9/7e/2e/c97e2e41fd48796284d9b61ce5fd8099.jpg\n",
      "24576/16721 [============================================] - 0s 0us/step\b\b\b\b\b\b\b\b\b\b\b\b\b\b\b\b\b\b\b\b\b\b\b\b\b\b\b\b\b\b\b\b\b\b\b\b\n",
      "Downloading data from https://i.pinimg.com/236x/a8/d2/07/a8d2070c729e870581728bb8fe4e5da3--the-doom-merlin.jpg\n",
      "32768/27817 [===================================] - 0s 0us/step\b\b\b\b\b\b\b\b\b\b\b\b\b\b\b\b\b\b\b\b\b\b\b\b\b\b\b\b\b\b\b\b\b\b\b\b\b\b\b\b\b\b\b\b\b\n",
      "Downloading data from https://i.pinimg.com/236x/42/f1/50/42f15065fbad5b9a42acebe4a0048fb6.jpg\n",
      "24576/16551 [============================================] - 0s 0us/step\b\b\b\b\b\b\b\b\b\b\b\b\b\b\b\b\b\b\b\b\b\b\b\b\b\b\b\b\b\b\b\b\b\b\b\b\n",
      "Downloading data from https://i.pinimg.com/236x/60/d7/bd/60d7bd22690071428ce0a7df7dd60ce0.jpg\n",
      "24576/17689 [=========================================] - 0s 0us/step\b\b\b\b\b\b\b\b\b\b\b\b\b\b\b\b\b\b\b\b\b\b\b\b\b\b\b\b\b\b\b\b\b\b\b\b\b\b\b\n",
      "Downloading data from https://i.pinimg.com/236x/87/fc/db/87fcdbeff05c4eaca30afb355783484b--ninja--cool-sketches.jpg\n",
      "16384/9508 [===================================================] - 0s 0us/step\b\b\b\b\b\b\b\b\b\b\b\b\b\b\b\b\b\b\b\b\b\b\b\b\b\b\n",
      "Downloading data from https://i.pinimg.com/236x/77/ea/aa/77eaaa26c7959f84569220146d9c2552.jpg\n",
      "16384/13096 [=====================================] - 0s 0us/step\b\b\b\b\b\b\b\b\b\b\b\b\b\b\b\b\b\b\b\b\b\b\b\b\b\b\b\b\b\b\b\b\b\b\b\b\b\b\b\b\b\b\b\n",
      "Downloading data from https://i.pinimg.com/236x/8e/bb/ff/8ebbff587676c7908963eddc6ac275ec.jpg\n",
      "16384/15129 [================================] - 0s 0us/step\b\b\b\b\b\b\b\b\b\b\b\b\b\b\b\b\b\b\b\b\b\b\b\b\b\b\b\b\b\b\b\b\b\b\b\b\b\b\b\b\b\b\b\b\b\b\b\b\n",
      "Downloading data from https://i.pinimg.com/236x/8e/a5/d3/8ea5d3442f1a8a6a5ff44057e9e4e300--carp-aquariums.jpg\n",
      "16384/10625 [==============================================] - 0s 0us/step\b\b\b\b\b\b\b\b\b\b\b\b\b\b\b\b\b\b\b\b\b\b\b\b\b\b\b\b\b\b\b\b\b\b\n",
      "Downloading data from https://i.pinimg.com/236x/5e/75/44/5e75448d227dfd753d6c2c6fb221251b.jpg\n",
      "24576/23856 [==============================] - 0s 0us/step\b\b\b\b\b\b\b\b\b\b\b\b\b\b\b\b\b\b\b\b\b\b\b\b\b\b\b\b\b\b\b\b\b\b\b\b\b\b\b\b\b\b\b\b\b\b\b\b\b\b\n",
      "Downloading data from https://i.pinimg.com/236x/78/06/b8/7806b8a1f21b6fe7188859c0595285d1.jpg\n",
      "16384/8721 [========================================================] - 0s 0us/step\b\b\b\b\b\b\b\b\b\b\b\b\b\b\b\b\b\b\b\b\b\n",
      "Downloading data from https://i.pinimg.com/236x/7e/36/8a/7e368a3a1e5493daea3b9b18cd798a5c.jpg\n",
      "16384/10611 [==============================================] - 0s 0us/step\b\b\b\b\b\b\b\b\b\b\b\b\b\b\b\b\b\b\b\b\b\b\b\b\b\b\b\b\b\b\b\b\b\b\n",
      "Downloading data from https://i.pinimg.com/236x/df/34/7c/df347c6bf3c900bf857f7d964ce53694.jpg\n",
      "16384/8242 [===========================================================] - 0s 0us/step\b\b\b\b\b\b\b\b\b\b\b\b\b\b\b\b\b\b\n",
      "Downloading data from https://i.pinimg.com/236x/de/40/31/de40311b68b449e5880af5107e8e8c58.jpg\n",
      "8192/7811 [===============================] - 0s 0us/step\n",
      "Downloading data from https://i.pinimg.com/236x/57/f5/0e/57f50eec2a258d743887ed4a32aeab73.jpg\n",
      "16384/12575 [=======================================] - 0s 0us/step\b\b\b\b\b\b\b\b\b\b\b\b\b\b\b\b\b\b\b\b\b\b\b\b\b\b\b\b\b\b\b\b\b\b\b\b\b\b\b\b\b\n",
      "Downloading data from https://i.pinimg.com/236x/d2/15/1a/d2151a6d25840f55515faf77c4ab64b5.jpg\n",
      "16384/9269 [=====================================================] - 0s 0us/step\b\b\b\b\b\b\b\b\b\b\b\b\b\b\b\b\b\b\b\b\b\b\b\b\n",
      "Downloading data from https://i.pinimg.com/236x/1a/be/58/1abe5848831561b8e7db330a229ac346--fishing-lures-pictures.jpg\n",
      "16384/9664 [==================================================] - 0s 0us/step\b\b\b\b\b\b\b\b\b\b\b\b\b\b\b\b\b\b\b\b\b\b\b\b\b\b\b\n",
      "Downloading data from https://i.pinimg.com/236x/1c/e6/d3/1ce6d3929e98e64cb30e0d8ffca061e3.jpg\n",
      "8192/6422 [======================================] - 0s 0us/step\n",
      "Downloading data from https://i.pinimg.com/236x/75/4c/d9/754cd937b5a48429ae34d598e21e361d.jpg\n",
      "8192/4058 [============================================================] - 0s 0us/step\n",
      "Downloading data from https://i.pinimg.com/236x/83/bb/dd/83bbdd5ea4fc6596b1e398327fb6efd7--crossover-labyrinth.jpg\n",
      "16384/9599 [===================================================] - 0s 0us/step\b\b\b\b\b\b\b\b\b\b\b\b\b\b\b\b\b\b\b\b\b\b\b\b\b\b\n",
      "Downloading data from https://i.pinimg.com/236x/1b/57/56/1b57568b5a8638115abff87d3ac2c874.jpg\n",
      "16384/12511 [=======================================] - 0s 0us/step\b\b\b\b\b\b\b\b\b\b\b\b\b\b\b\b\b\b\b\b\b\b\b\b\b\b\b\b\b\b\b\b\b\b\b\b\b\b\b\b\b\n",
      "Downloading data from https://i.pinimg.com/236x/a5/a4/1d/a5a41da2805b6e02f63d07696fbed0ab--bullet-journal-ocean-sea-graphic.jpg\n",
      "40960/34924 [===================================] - 0s 0us/step\b\b\b\b\b\b\b\b\b\b\b\b\b\b\b\b\b\b\b\b\b\b\b\b\b\b\b\b\b\b\b\b\b\b\b\b\b\b\b\b\b\b\b\b\b\n",
      "Downloading data from https://i.pinimg.com/236x/19/38/cd/1938cdd77f356e5fa614b00f58a1f247.jpg\n",
      "16384/9615 [===================================================] - 0s 0us/step\b\b\b\b\b\b\b\b\b\b\b\b\b\b\b\b\b\b\b\b\b\b\b\b\b\b\n",
      "Downloading data from https://i.pinimg.com/236x/25/ec/c5/25ecc5fc6f5ec8cc76e9272c1f288413--orc-woman-female-orc.jpg\n",
      "16384/11274 [===========================================] - 0s 0us/step\b\b\b\b\b\b\b\b\b\b\b\b\b\b\b\b\b\b\b\b\b\b\b\b\b\b\b\b\b\b\b\b\b\b\b\b\b\n",
      "Downloading data from https://i.pinimg.com/236x/be/65/5b/be655b2f5e8a7b76d607333a4071f360.jpg\n",
      "24576/23798 [==============================] - 0s 1us/step\b\b\b\b\b\b\b\b\b\b\b\b\b\b\b\b\b\b\b\b\b\b\b\b\b\b\b\b\b\b\b\b\b\b\b\b\b\b\b\b\b\b\b\b\b\b\b\b\b\b\n",
      "Downloading data from https://i.pinimg.com/236x/1d/b0/11/1db01180a1a42e8a7679d6b22f5b057c.jpg\n",
      "16384/10107 [================================================] - 0s 0us/step\b\b\b\b\b\b\b\b\b\b\b\b\b\b\b\b\b\b\b\b\b\b\b\b\b\b\b\b\b\b\b\b\n",
      "Downloading data from https://i.pinimg.com/236x/52/2d/34/522d3420873e5ac171d8b3cb26f6b157--comic-style-bounty-hunter.jpg\n",
      "16384/12909 [======================================] - 0s 0us/step\b\b\b\b\b\b\b\b\b\b\b\b\b\b\b\b\b\b\b\b\b\b\b\b\b\b\b\b\b\b\b\b\b\b\b\b\b\b\b\b\b\b\n",
      "Downloading data from https://i.pinimg.com/236x/67/f2/0b/67f20bb51c76823dc8b2052d94beed1b.jpg\n",
      "24576/18199 [========================================] - 0s 0us/step\b\b\b\b\b\b\b\b\b\b\b\b\b\b\b\b\b\b\b\b\b\b\b\b\b\b\b\b\b\b\b\b\b\b\b\b\b\b\b\b\n",
      "Downloading data from https://i.pinimg.com/236x/79/79/ea/7979ea11aa77c47f3b9f3068defaa6a8.jpg\n",
      "24576/19676 [=====================================] - 0s 0us/step\b\b\b\b\b\b\b\b\b\b\b\b\b\b\b\b\b\b\b\b\b\b\b\b\b\b\b\b\b\b\b\b\b\b\b\b\b\b\b\b\b\b\b\n",
      "Downloading data from https://i.pinimg.com/236x/55/0e/38/550e38e5b785f66cd550b169c08e6105.jpg\n",
      "32768/29911 [================================] - 0s 1us/step\b\b\b\b\b\b\b\b\b\b\b\b\b\b\b\b\b\b\b\b\b\b\b\b\b\b\b\b\b\b\b\b\b\b\b\b\b\b\b\b\b\b\b\b\b\b\b\b\n",
      "Downloading data from https://i.pinimg.com/236x/e8/90/dd/e890dd6b6bcb5ebc01c631375e718fc1.jpg\n",
      "8192/4507 [======================================================] - 0s 0us/step\n",
      "Downloading data from https://i.pinimg.com/236x/f9/16/5d/f9165d09b12a8df6aadab35398ace09b.jpg\n",
      "16384/15631 [===============================] - 0s 0us/step\b\b\b\b\b\b\b\b\b\b\b\b\b\b\b\b\b\b\b\b\b\b\b\b\b\b\b\b\b\b\b\b\b\b\b\b\b\b\b\b\b\b\b\b\b\b\b\b\b\n",
      "Downloading data from https://i.pinimg.com/236x/d0/bd/d2/d0bdd24afd438019815f5bde5e307f65.jpg\n",
      "32768/25798 [======================================] - 0s 0us/step\b\b\b\b\b\b\b\b\b\b\b\b\b\b\b\b\b\b\b\b\b\b\b\b\b\b\b\b\b\b\b\b\b\b\b\b\b\b\b\b\b\b\n",
      "Downloading data from https://i.pinimg.com/236x/42/d1/e7/42d1e7756bb45fb4f9f852b3ca999355.jpg\n",
      "16384/14713 [=================================] - 0s 0us/step\b\b\b\b\b\b\b\b\b\b\b\b\b\b\b\b\b\b\b\b\b\b\b\b\b\b\b\b\b\b\b\b\b\b\b\b\b\b\b\b\b\b\b\b\b\b\b\n",
      "Downloading data from https://i.pinimg.com/236x/5f/8a/b1/5f8ab1cda2bc67197956e1b7cf75559d--paludarium-vivarium.jpg\n",
      "16384/15881 [==============================] - 0s 0us/step\b\b\b\b\b\b\b\b\b\b\b\b\b\b\b\b\b\b\b\b\b\b\b\b\b\b\b\b\b\b\b\b\b\b\b\b\b\b\b\b\b\b\b\b\b\b\b\b\b\b\n",
      "Downloading data from https://i.pinimg.com/236x/28/b1/ba/28b1bae37363a07c4a75dfd766d99f2b.jpg\n",
      "16384/8513 [=========================================================] - 0s 0us/step\b\b\b\b\b\b\b\b\b\b\b\b\b\b\b\b\b\b\b\b\n",
      "Downloading data from https://i.pinimg.com/236x/80/e8/79/80e879d00c1dc6a45d71d68eaa187988.jpg\n",
      "16384/11076 [============================================] - 0s 0us/step\b\b\b\b\b\b\b\b\b\b\b\b\b\b\b\b\b\b\b\b\b\b\b\b\b\b\b\b\b\b\b\b\b\b\b\b\n",
      "Downloading data from https://i.pinimg.com/236x/7b/95/e0/7b95e0314a5caa5283e963f2a130946c.jpg\n",
      "16384/8666 [========================================================] - 0s 0us/step\b\b\b\b\b\b\b\b\b\b\b\b\b\b\b\b\b\b\b\b\b\n",
      "Downloading data from https://i.pinimg.com/236x/eb/ff/7c/ebff7ca5ca22710fa95560419ac0c05f.jpg\n",
      "16384/13744 [===================================] - 0s 0us/step\b\b\b\b\b\b\b\b\b\b\b\b\b\b\b\b\b\b\b\b\b\b\b\b\b\b\b\b\b\b\b\b\b\b\b\b\b\b\b\b\b\b\b\b\b\n",
      "Downloading data from https://i.pinimg.com/236x/13/70/20/137020e2a703c7e1680fc2db38157690--drama-korea-k-drama.jpg\n",
      "24576/19742 [=====================================] - 0s 0us/step\b\b\b\b\b\b\b\b\b\b\b\b\b\b\b\b\b\b\b\b\b\b\b\b\b\b\b\b\b\b\b\b\b\b\b\b\b\b\b\b\b\b\b\n",
      "Downloading data from https://i.pinimg.com/236x/21/5d/cf/215dcf86f05809f44b7b40389adf3aef.jpg\n",
      "8192/5640 [===========================================] - 0s 0us/step\n",
      "Downloading data from https://i.pinimg.com/236x/6f/76/c4/6f76c48662710a37611403d4f06c52a0.jpg\n",
      "16384/13224 [=====================================] - 0s 0us/step\b\b\b\b\b\b\b\b\b\b\b\b\b\b\b\b\b\b\b\b\b\b\b\b\b\b\b\b\b\b\b\b\b\b\b\b\b\b\b\b\b\b\b\n",
      "Downloading data from https://i.pinimg.com/236x/7a/0b/27/7a0b27fef6507de2af39b73be7cfbc7f.jpg\n",
      "24576/22400 [================================] - 0s 0us/step\b\b\b\b\b\b\b\b\b\b\b\b\b\b\b\b\b\b\b\b\b\b\b\b\b\b\b\b\b\b\b\b\b\b\b\b\b\b\b\b\b\b\b\b\b\b\b\b\n",
      "Downloading data from https://i.pinimg.com/236x/2a/1f/ee/2a1fee17239d93891ff8192728185789.jpg\n",
      "24576/17138 [===========================================] - 0s 0us/step\b\b\b\b\b\b\b\b\b\b\b\b\b\b\b\b\b\b\b\b\b\b\b\b\b\b\b\b\b\b\b\b\b\b\b\b\b\n",
      "Downloading data from https://i.pinimg.com/236x/43/dc/44/43dc44dda900afc52d784a97100fbbed.jpg\n",
      "16384/15188 [================================] - 0s 0us/step\b\b\b\b\b\b\b\b\b\b\b\b\b\b\b\b\b\b\b\b\b\b\b\b\b\b\b\b\b\b\b\b\b\b\b\b\b\b\b\b\b\b\b\b\b\b\b\b\n",
      "Downloading data from https://i.pinimg.com/236x/d0/16/51/d0165118106945c3e0ec6bad7b8a3961--transformers-jetfire-transformers-prime.jpg\n",
      "24576/22395 [================================] - 0s 0us/step\b\b\b\b\b\b\b\b\b\b\b\b\b\b\b\b\b\b\b\b\b\b\b\b\b\b\b\b\b\b\b\b\b\b\b\b\b\b\b\b\b\b\b\b\b\b\b\b\n",
      "Downloading data from https://i.pinimg.com/236x/07/d7/57/07d75748399057b99b645e74fa93f209.jpg\n",
      "16384/14468 [=================================] - 0s 0us/step\b\b\b\b\b\b\b\b\b\b\b\b\b\b\b\b\b\b\b\b\b\b\b\b\b\b\b\b\b\b\b\b\b\b\b\b\b\b\b\b\b\b\b\b\b\b\b\n",
      "Downloading data from https://i.pinimg.com/236x/ff/5c/a1/ff5ca19424a67125e3f77fbcfb0f0237.jpg\n",
      "8192/7641 [================================] - 0s 0us/step\n",
      "Downloading data from https://i.pinimg.com/236x/dc/bb/4b/dcbb4b74a3963a380f449a70ea669bca.jpg\n",
      "8192/6253 [=======================================] - 0s 0us/step\n",
      "Downloading data from https://i.pinimg.com/236x/ff/f0/af/fff0af48aaa9dd7ba665aaeae54baa16.jpg\n",
      "16384/14492 [=================================] - 0s 0us/step\b\b\b\b\b\b\b\b\b\b\b\b\b\b\b\b\b\b\b\b\b\b\b\b\b\b\b\b\b\b\b\b\b\b\b\b\b\b\b\b\b\b\b\b\b\b\b\n",
      "Downloading data from https://i.pinimg.com/236x/59/f9/95/59f9953e4bc363c9d19981ac25fb0789--storm-shadow--cartoons.jpg\n",
      "24576/23366 [===============================] - 0s 0us/step\b\b\b\b\b\b\b\b\b\b\b\b\b\b\b\b\b\b\b\b\b\b\b\b\b\b\b\b\b\b\b\b\b\b\b\b\b\b\b\b\b\b\b\b\b\b\b\b\b\n"
     ]
    },
    {
     "data": {
      "text/plain": "{'class': 'tench',\n 'long_label': 'tench, Tinca tinca',\n 'images': [{'href': '/pin/6192518224136448/',\n   'src': 'https://i.pinimg.com/236x/8e/cb/b6/8ecbb68466cd4ff7d1d1b6f95efd45c8.jpg',\n   'alt': 'Casual Curves: Casual Style for Hourglass Figures - Album on Imgur',\n   'relevance': 10},\n  {'href': '/pin/3025924739665121/',\n   'src': 'https://i.pinimg.com/236x/6b/20/22/6b202248cf8afe80e6675f09dffed183.jpg',\n   'alt': ' ',\n   'relevance': 10},\n  {'href': '/pin/45599014967171928/',\n   'src': 'https://i.pinimg.com/236x/a5/28/bd/a528bdfe2fa6cf8cc06a9d34eea98187.jpg',\n   'alt': '@mimiarr discovered by mara. on We Heart It',\n   'relevance': 10},\n  {'href': '/pin/56646907803594804/',\n   'src': 'https://i.pinimg.com/236x/60/07/91/6007910ebf26bc28fc44eea84ae1d9d7.jpg',\n   'alt': ' ',\n   'relevance': 10},\n  {'href': '/pin/4292562132583802/',\n   'src': 'https://i.pinimg.com/236x/c0/21/e4/c021e4c2eb3f75ef03c6a785af1d3c32.jpg',\n   'alt': 'Awkward misunderstanding before leaving',\n   'relevance': 10},\n  {'href': '/pin/121104677470716397/',\n   'src': 'https://i.pinimg.com/236x/6e/7e/ce/6e7ece90f67c9cfcd8dbff02002e18af.jpg',\n   'alt': ' ',\n   'relevance': 10},\n  {'href': '/pin/864198615999441524/',\n   'src': 'https://i.pinimg.com/236x/2a/07/ab/2a07ab4aac2c99d12576b0af12e0e2a1.jpg',\n   'alt': 'sandmarg: The Tinca Tinca Fish ...or you can call me Doctor',\n   'relevance': 1},\n  {'href': '/pin/26458716552024805/',\n   'src': 'https://i.pinimg.com/236x/9b/f7/5d/9bf75dabfea3442e492353554714733f.jpg',\n   'alt': ' ',\n   'relevance': 10},\n  {'href': '/pin/37647346874288654/',\n   'src': 'https://i.pinimg.com/236x/63/92/e1/6392e10806e404bdb39c8db4f97388af.jpg',\n   'alt': ' ',\n   'relevance': 10},\n  {'href': '/pin/80853755800136339/',\n   'src': 'https://i.pinimg.com/236x/67/e6/31/67e631cef213281a174ba752a2247535.jpg',\n   'alt': ' ',\n   'relevance': 10},\n  {'href': '/pin/122652789841210645/',\n   'src': 'https://i.pinimg.com/236x/c4/92/8c/c4928c34a230cfc8f449602346bd092e--corsair-lek.jpg',\n   'alt': ' ',\n   'relevance': 10},\n  {'href': '/pin/230668812472032171/',\n   'src': 'https://i.pinimg.com/236x/d1/2c/ee/d12ceed889585823ee828454adcc5aab--merlin-dreamworks.jpg',\n   'alt': ' ',\n   'relevance': 10},\n  {'href': '/pin/38843615588516389/',\n   'src': 'https://i.pinimg.com/236x/6d/8e/94/6d8e949b0ea3e6b75be66184f07697c6.jpg',\n   'alt': \"An A1 poster sized print, approx 23c33 inches (594x841 mm). Fish scales of cod, gudgeon, tench, eel and perch.. Fish scales: cod, Gadus morhua 1, gudgeon, Gobio gobio 2, tench, Tinca tinca 3, eel, Anguilla anguilla 4 and perch, Perca fluviatilis 5. Handcolored copperplate engraving from Friedrich Bertuch's Bilderbuch fur Kinder (Picture Book for Children), Weimar, 1798. anguillaanguilla, bilderbuchfurkinder, cod, copperplate, eel, fishscales, friedrichbertuch, gadusmorhua, gobiogobio…\",\n   'relevance': 10},\n  {'href': '/pin/476044623117045872/',\n   'src': 'https://i.pinimg.com/236x/32/63/b8/3263b8f6732d3e07093b4f548422d1d0--nests-aliens.jpg',\n   'alt': 'SW - story of old times by tench',\n   'relevance': 10},\n  {'href': '/pin/78883430959842639/',\n   'src': 'https://i.pinimg.com/236x/d7/4c/20/d74c2016c9a8d3e34bb27c5e9c40cec9.jpg',\n   'alt': 'Mercenary 6 by Max-Dunbar',\n   'relevance': 10},\n  {'href': '/pin/38843615587340519/',\n   'src': 'https://i.pinimg.com/236x/63/9c/78/639c78b6e3c7b47547b9ad844189719d.jpg',\n   'alt': '22x18 inch (580x480 mm) ready to hang frame with high quality RA4 print and mount individually cut to size. Tinca tinca, or Tench. Date: 1879. . Image supplied by Mary Evans Prints Online. Product ID:14229645_80874_760',\n   'relevance': 1},\n  {'href': '/pin/323625923226495085/',\n   'src': 'https://i.pinimg.com/236x/c9/7e/2e/c97e2e41fd48796284d9b61ce5fd8099.jpg',\n   'alt': ' ',\n   'relevance': 10},\n  {'href': '/pin/323625923228425347/',\n   'src': 'https://i.pinimg.com/236x/a8/d2/07/a8d2070c729e870581728bb8fe4e5da3--the-doom-merlin.jpg',\n   'alt': '+TH+ For the doom of Gunmar by Tench.deviantart.com on @DeviantArt',\n   'relevance': 10},\n  {'href': '/pin/34691859620235915/',\n   'src': 'https://i.pinimg.com/236x/42/f1/50/42f15065fbad5b9a42acebe4a0048fb6.jpg',\n   'alt': ' ',\n   'relevance': 10},\n  {'href': '/pin/15270086230000544/',\n   'src': 'https://i.pinimg.com/236x/60/d7/bd/60d7bd22690071428ce0a7df7dd60ce0.jpg',\n   'alt': ' ',\n   'relevance': 10},\n  {'href': '/pin/12033123991514653/',\n   'src': 'https://i.pinimg.com/236x/87/fc/db/87fcdbeff05c4eaca30afb355783484b--ninja--cool-sketches.jpg',\n   'alt': \"in the last sketch of him, he was dubbed tiny ninja on twitter (by me for some reason) Hence the belt symbol. Hopefully it doesn't accidentally mean anything.\",\n   'relevance': 10},\n  {'href': '/pin/376543218843889025/',\n   'src': 'https://i.pinimg.com/236x/77/ea/aa/77eaaa26c7959f84569220146d9c2552.jpg',\n   'alt': 'Mighty Morphin Power Rangers [1350x2048]',\n   'relevance': 10},\n  {'href': '/pin/323625923221295529/',\n   'src': 'https://i.pinimg.com/236x/8e/bb/ff/8ebbff587676c7908963eddc6ac275ec.jpg',\n   'alt': 'Fish nest — Just trollhunter finally doing his job! I’m sorry,...',\n   'relevance': 10},\n  {'href': '/pin/274227064781359053/',\n   'src': 'https://i.pinimg.com/236x/8e/a5/d3/8ea5d3442f1a8a6a5ff44057e9e4e300--carp-aquariums.jpg',\n   'alt': 'SuperStock - Tench (Tinca tinca) swimming underwater, Europe',\n   'relevance': 1},\n  {'href': '/pin/329818372717091712/',\n   'src': 'https://i.pinimg.com/236x/5e/75/44/5e75448d227dfd753d6c2c6fb221251b.jpg',\n   'alt': ' ',\n   'relevance': 10},\n  {'href': '/pin/38843615577167637/',\n   'src': 'https://i.pinimg.com/236x/78/06/b8/7806b8a1f21b6fe7188859c0595285d1.jpg',\n   'alt': '14x12 inch (363x312 mm) ready to hang frame with high quality print. Tench (Tinca tinca) on the surface of a turbid marsh pond, with Rudd (Scardinius erythrophthalmus) above, Fribourg, Switzerland, 2004. pond, sunlight, switzerland, elevated view, backlit, water surface, marsh, medium group of animals, lens flare, miispecies, catalogue5, carp, fribourg, closeups, rudd, tench, tinca tinca, scardinius erythropthalmus. Image supplied by Nature Picture Library',\n   'relevance': 10},\n  {'href': '/pin/403916660329840548/',\n   'src': 'https://i.pinimg.com/236x/7e/36/8a/7e368a3a1e5493daea3b9b18cd798a5c.jpg',\n   'alt': \"yeah it's me — tench: This desperate moment Would last...\",\n   'relevance': 10},\n  {'href': '/pin/479492691619658817/',\n   'src': 'https://i.pinimg.com/236x/df/34/7c/df347c6bf3c900bf857f7d964ce53694.jpg',\n   'alt': 'An A1 poster sized print, approx 23\"x33\" (594x841mm). Tinca tinca, or Tench. Date: 1879. . Image supplied by Mary Evans Prints Online. Product ID:14229645_80446_0',\n   'relevance': 1},\n  {'href': '/pin/38843615577167655/',\n   'src': 'https://i.pinimg.com/236x/de/40/31/de40311b68b449e5880af5107e8e8c58.jpg',\n   'alt': '1000 Piece Jigsaw Puzzle. Tench (Tinca tinca) on the surface of a turbid marsh pond, with Rudd (Scardinius erythrophthalmus) above, Fribourg, Switzerland, 2004. pond, sunlight, switzerland, elevated view, backlit, water surface, marsh, medium group of animals, lens flare, miispecies, catalogue5, carp, fribourg, closeups, rudd, tench, tinca tinca, scardinius erythropthalmus. Image supplied by Nature Picture Library',\n   'relevance': 10},\n  {'href': '/pin/38843615577167614/',\n   'src': 'https://i.pinimg.com/236x/57/f5/0e/57f50eec2a258d743887ed4a32aeab73.jpg',\n   'alt': 'Photo Greeting Card. Tench (Tinca tinca) on the surface of a turbid marsh pond, with Rudd (Scardinius erythrophthalmus) above, Fribourg, Switzerland, 2004. pond, sunlight, switzerland, elevated view, backlit, water surface, marsh, medium group of animals, lens flare, miispecies, catalogue5, carp, fribourg, closeups, rudd, tench, tinca tinca, scardinius erythropthalmus. Image supplied by Nature Picture Library',\n   'relevance': 10},\n  {'href': '/pin/38843615577167672/',\n   'src': 'https://i.pinimg.com/236x/d2/15/1a/d2151a6d25840f55515faf77c4ab64b5.jpg',\n   'alt': '20x16 inch (50x40cm) ready to hang Box Canvas Print. Tench (Tinca tinca) on the surface of a turbid marsh pond, with Rudd (Scardinius erythrophthalmus) above, Fribourg, Switzerland, 2004. pond, sunlight, switzerland, elevated view, backlit, water surface, marsh, medium group of animals, lens flare, miispecies, catalogue5, carp, fribourg, closeups, rudd, tench, tinca tinca, scardinius erythropthalmus. Image supplied by Nature Picture Library',\n   'relevance': 10},\n  {'href': '/pin/329396160222106412/',\n   'src': 'https://i.pinimg.com/236x/1a/be/58/1abe5848831561b8e7db330a229ac346--fishing-lures-pictures.jpg',\n   'alt': '(ad) Tenca',\n   'relevance': 1},\n  {'href': '/pin/479492691613127407/',\n   'src': 'https://i.pinimg.com/236x/1c/e6/d3/1ce6d3929e98e64cb30e0d8ffca061e3.jpg',\n   'alt': '1000 Piece Jigsaw Puzzle. Tench (Tinca tinca) in peat pond, Fribourg, Switzerland, May 2009. switzerland, ponds, carps, michel roggo, tinca tinca. Image supplied by Nature Picture Library',\n   'relevance': 10},\n  {'href': '/pin/455778424791502300/',\n   'src': 'https://i.pinimg.com/236x/75/4c/d9/754cd937b5a48429ae34d598e21e361d.jpg',\n   'alt': 'Giclee Print: Tench or Doctor Fish (Tinca Tinca), Illutration : 24x16in',\n   'relevance': 1},\n  {'href': '/pin/139541288437963449/',\n   'src': 'https://i.pinimg.com/236x/83/bb/dd/83bbdd5ea4fc6596b1e398327fb6efd7--crossover-labyrinth.jpg',\n   'alt': '+Trollhunters+ As the World falls down by Tench.deviantart.com on @DeviantArt',\n   'relevance': 10},\n  {'href': '/pin/38843615566855248/',\n   'src': 'https://i.pinimg.com/236x/1b/57/56/1b57568b5a8638115abff87d3ac2c874.jpg',\n   'alt': \"10x8 Inch (25x20cm) Print. Tench, Tinca tinca, and carp, Cyprinus carpio.. Handcolored copperplate stipple engraving from Jussieu's Dictionnaire des Sciences Naturelles 1816-1830. Illustration by J.G. Pretre, engraved by Massard, directed by Turpin, and published by F. G. Levrault. Jean Gabriel Pretre (1780-1845) was painter of natural history at Empress Josephine's zoo and later became artist to the Museum of Natural History. stipple, sciences, pretre, carp, hippolyte, jussieu…\",\n   'relevance': 1},\n  {'href': '/pin/280489883029018860/',\n   'src': 'https://i.pinimg.com/236x/a5/a4/1d/a5a41da2805b6e02f63d07696fbed0ab--bullet-journal-ocean-sea-graphic.jpg',\n   'alt': 'Fishes & Sea Life Engravings Set by Graphic Goods on @creativemarket',\n   'relevance': 10},\n  {'href': '/pin/479492691612755810/',\n   'src': 'https://i.pinimg.com/236x/19/38/cd/1938cdd77f356e5fa614b00f58a1f247.jpg',\n   'alt': '51x41cm ready to hang Box Canvas Print. Tench (Tinca tinca) in a backwater of the River Ain. Ain, France. . Image supplied by Auscape Photo Library',\n   'relevance': 10},\n  {'href': '/pin/14214555054887912/',\n   'src': 'https://i.pinimg.com/236x/25/ec/c5/25ecc5fc6f5ec8cc76e9272c1f288413--orc-woman-female-orc.jpg',\n   'alt': '+Warcraft+ the queen of shattered hands by Tench on DeviantArt',\n   'relevance': 10},\n  {'href': '/pin/113012271890145453/',\n   'src': 'https://i.pinimg.com/236x/be/65/5b/be655b2f5e8a7b76d607333a4071f360.jpg',\n   'alt': '6 Novembre 2018 - Le blog de Lacrevette',\n   'relevance': 10},\n  {'href': '/pin/38843615577882919/',\n   'src': 'https://i.pinimg.com/236x/1d/b0/11/1db01180a1a42e8a7679d6b22f5b057c.jpg',\n   'alt': '20x16 inch (50x40cm) ready to hang Box Canvas Print. Tench (Tinca tinca) immature, in tank, Nottingham, Nottinghamshire, England, February. tank, nottingham, midlands, midland, nottinghamshire, tanks, cyprinid, tench, cyprinids. Image supplied by FLPA Images',\n   'relevance': 4},\n  {'href': '/pin/155655730861273294/',\n   'src': 'https://i.pinimg.com/236x/52/2d/34/522d3420873e5ac171d8b3cb26f6b157--comic-style-bounty-hunter.jpg',\n   'alt': 'Character that I doodled up, definitely heavily inspired by Fedorova from Deus Ex: HR',\n   'relevance': 10},\n  {'href': '/pin/479492691611623582/',\n   'src': 'https://i.pinimg.com/236x/67/f2/0b/67f20bb51c76823dc8b2052d94beed1b.jpg',\n   'alt': \"51x41cm ready to hang Box Canvas Print. Fish scales of cod, gudgeon, tench, eel and perch.. Fish scales: cod, Gadus morhua 1, gudgeon, Gobio gobio 2, tench, Tinca tinca 3, eel, Anguilla anguilla 4 and perch, Perca fluviatilis 5. Handcolored copperplate engraving from Friedrich Bertuch's Bilderbuch fur Kinder (Picture Book for Children), Weimar, 1798. perch, eel, cod, picturebookforchildren, bilderbuchfurkinder, friedrichbertuch, tench, gudgeon, percafluviatilis, anguillaanguilla, tincatinca…\",\n   'relevance': 10},\n  {'href': '/pin/112238215699193515/',\n   'src': 'https://i.pinimg.com/236x/79/79/ea/7979ea11aa77c47f3b9f3068defaa6a8.jpg',\n   'alt': '\"The great Battle of Killahead\" by tench - Deya & Gunmar <<< I wish this was an actual thing. (Part 1)',\n   'relevance': 10},\n  {'href': '/pin/601089881519074453/',\n   'src': 'https://i.pinimg.com/236x/55/0e/38/550e38e5b785f66cd550b169c08e6105.jpg',\n   'alt': ' ',\n   'relevance': 10},\n  {'href': '/pin/38843615588862154/',\n   'src': 'https://i.pinimg.com/236x/e8/90/dd/e890dd6b6bcb5ebc01c631375e718fc1.jpg',\n   'alt': 'An A1 poster sized print, approx 23c33 inches (594x841 mm). Tench (Tinca tinca) in peat pond, Fribourg, Switzerland, May 2009. . Image supplied by Nature Picture Library. Product ID:15366591_73045_0',\n   'relevance': 1},\n  {'href': '/pin/38843615570716451/',\n   'src': 'https://i.pinimg.com/236x/f9/16/5d/f9165d09b12a8df6aadab35398ace09b.jpg',\n   'alt': \"7x5 Inch (18x13cm) Print. Tench, Tinca tinca, and carp, Cyprinus carpio.. Handcolored copperplate stipple engraving from Jussieu's Dictionnaire des Sciences Naturelles 1816-1830. Illustration by J.G. Pretre, engraved by Massard, directed by Turpin, and published by F. G. Levrault. Jean Gabriel Pretre (1780-1845) was painter of natural history at Empress Josephine's zoo and later became artist to the Museum of Natural History. . Image supplied by Mary Evans Prints Online\",\n   'relevance': 1},\n  {'href': '/pin/1266706135337134/',\n   'src': 'https://i.pinimg.com/236x/d0/bd/d2/d0bdd24afd438019815f5bde5e307f65.jpg',\n   'alt': ' ',\n   'relevance': 10},\n  {'href': '/pin/479492691610050990/',\n   'src': 'https://i.pinimg.com/236x/42/d1/e7/42d1e7756bb45fb4f9f852b3ca999355.jpg',\n   'alt': \"1000 Piece Jigsaw Puzzle. Fish scales of cod, gudgeon, tench, eel and perch.. Fish scales: cod, Gadus morhua 1, gudgeon, Gobio gobio 2, tench, Tinca tinca 3, eel, Anguilla anguilla 4 and perch, Perca fluviatilis 5. Handcolored copperplate engraving from Friedrich Bertuch's Bilderbuch fur Kinder (Picture Book for Children), Weimar, 1798. perch, eel, cod, picturebookforchildren, bilderbuchfurkinder, friedrichbertuch, tench, gudgeon, percafluviatilis, anguillaanguilla, tincatinca, gobiogobio…\",\n   'relevance': 10},\n  {'href': '/pin/81487074490163635/',\n   'src': 'https://i.pinimg.com/236x/5f/8a/b1/5f8ab1cda2bc67197956e1b7cf75559d--paludarium-vivarium.jpg',\n   'alt': 'Swedish archipelago terrarium Common rudd (Scardinius erythrophthalmus) Tench (Tinca tinca) Common Viper (Vipera berus)',\n   'relevance': 10},\n  {'href': '/pin/702772716839822370/',\n   'src': 'https://i.pinimg.com/236x/28/b1/ba/28b1bae37363a07c4a75dfd766d99f2b.jpg',\n   'alt': ' ',\n   'relevance': 1},\n  {'href': '/pin/38843615545609944/',\n   'src': 'https://i.pinimg.com/236x/80/e8/79/80e879d00c1dc6a45d71d68eaa187988.jpg',\n   'alt': '12\"x12\" (30x30cm) Fibre filled cushion with a plush soft feel. (other products available) - Illustration of the tench or doctor fish (Tinca tinca) - Image supplied by Fine Art Storehouse - #MediaStorehouse - 12\" square cushion made in the UK',\n   'relevance': 1},\n  {'href': '/pin/479492691612755854/',\n   'src': 'https://i.pinimg.com/236x/7b/95/e0/7b95e0314a5caa5283e963f2a130946c.jpg',\n   'alt': '1000 Piece Jigsaw Puzzle. Tench (Tinca tinca) in a backwater of the River Ain. Ain, France. . Image supplied by Auscape Photo Library',\n   'relevance': 10},\n  {'href': '/pin/770185973764021818/',\n   'src': 'https://i.pinimg.com/236x/eb/ff/7c/ebff7ca5ca22710fa95560419ac0c05f.jpg',\n   'alt': ' ',\n   'relevance': 10},\n  {'href': '/pin/78179743512451955/',\n   'src': 'https://i.pinimg.com/236x/13/70/20/137020e2a703c7e1680fc2db38157690--drama-korea-k-drama.jpg',\n   'alt': 'Goblin Lockscreens',\n   'relevance': 10},\n  {'href': '/pin/758012181024092066/',\n   'src': 'https://i.pinimg.com/236x/21/5d/cf/215dcf86f05809f44b7b40389adf3aef.jpg',\n   'alt': 'Pike (Esox lucius) and Tench (Tinca tinca) encounter / Rencontre Brochet...',\n   'relevance': 2},\n  {'href': '/pin/391883605082481827/',\n   'src': 'https://i.pinimg.com/236x/6f/76/c4/6f76c48662710a37611403d4f06c52a0.jpg',\n   'alt': ' ',\n   'relevance': 10},\n  {'href': '/pin/112238215699193518/',\n   'src': 'https://i.pinimg.com/236x/7a/0b/27/7a0b27fef6507de2af39b73be7cfbc7f.jpg',\n   'alt': '\"The great Battle of Killahead\" by tench - Deya & Gunmar <<< I wish this was an actual thing. (Part 2)',\n   'relevance': 10},\n  {'href': '/pin/38843615562968612/',\n   'src': 'https://i.pinimg.com/236x/2a/1f/ee/2a1fee17239d93891ff8192728185789.jpg',\n   'alt': 'Photo Greeting Card. Illustration of the tench or doctor fish (Tinca tinca). . Image supplied by Fine Art Storehouse',\n   'relevance': 10},\n  {'href': '/pin/38843615563289248/',\n   'src': 'https://i.pinimg.com/236x/43/dc/44/43dc44dda900afc52d784a97100fbbed.jpg',\n   'alt': '20\"x16\" (50x40cm) Box Canvas Print. Illustration of the tench or doctor fish (Tinca tinca). . Image supplied by Fine Art Storehouse',\n   'relevance': 1},\n  {'href': '/pin/381398662178082338/',\n   'src': 'https://i.pinimg.com/236x/d0/16/51/d0165118106945c3e0ec6bad7b8a3961--transformers-jetfire-transformers-prime.jpg',\n   'alt': \"TFP Skyfire (to me, his expression is too cocky for someone as pacifist as Skyfire, but it's still a cool idea) by Tench.\",\n   'relevance': 10},\n  {'href': '/pin/379428337362927417/',\n   'src': 'https://i.pinimg.com/236x/07/d7/57/07d75748399057b99b645e74fa93f209.jpg',\n   'alt': ' ',\n   'relevance': 10},\n  {'href': '/pin/575546027380969870/',\n   'src': 'https://i.pinimg.com/236x/ff/5c/a1/ff5ca19424a67125e3f77fbcfb0f0237.jpg',\n   'alt': ' ',\n   'relevance': 10},\n  {'href': '/pin/73957618871791136/',\n   'src': 'https://i.pinimg.com/236x/dc/bb/4b/dcbb4b74a3963a380f449a70ea669bca.jpg',\n   'alt': ' ',\n   'relevance': 10},\n  {'href': '/pin/821836631988714305/',\n   'src': 'https://i.pinimg.com/236x/ff/f0/af/fff0af48aaa9dd7ba665aaeae54baa16.jpg',\n   'alt': ' ',\n   'relevance': 1},\n  {'href': '/pin/7951736822597830/',\n   'src': 'https://i.pinimg.com/236x/59/f9/95/59f9953e4bc363c9d19981ac25fb0789--storm-shadow--cartoons.jpg',\n   'alt': 'Storm Shadow',\n   'relevance': 10}]}"
     },
     "execution_count": 8,
     "metadata": {},
     "output_type": "execute_result"
    }
   ],
   "source": [
    "l_result = webscraper.get_img_data(\"tench\", search, page)\n",
    "l_result\n"
   ],
   "metadata": {
    "collapsed": false,
    "pycharm": {
     "name": "#%%\n"
    }
   }
  },
  {
   "cell_type": "markdown",
   "source": [
    "why no results initially? did we hit a rate limit due to downloading images for the classifier? did manually scrolling\n",
    "the page produce more results?"
   ],
   "metadata": {
    "collapsed": false
   }
  },
  {
   "cell_type": "code",
   "execution_count": 9,
   "outputs": [
    {
     "name": "stdout",
     "output_type": "stream",
     "text": [
      "Downloading data from https://i.pinimg.com/236x/8e/cb/b6/8ecbb68466cd4ff7d1d1b6f95efd45c8.jpg\n",
      "32768/29331 [=================================] - 0s 0us/step\b\b\b\b\b\b\b\b\b\b\b\b\b\b\b\b\b\b\b\b\b\b\b\b\b\b\b\b\b\b\b\b\b\b\b\b\b\b\b\b\b\b\b\b\b\b\b\n",
      "Downloading data from https://i.pinimg.com/236x/6b/20/22/6b202248cf8afe80e6675f09dffed183.jpg\n",
      "32768/26308 [=====================================] - 0s 0us/step\b\b\b\b\b\b\b\b\b\b\b\b\b\b\b\b\b\b\b\b\b\b\b\b\b\b\b\b\b\b\b\b\b\b\b\b\b\b\b\b\b\b\b\n",
      "Downloading data from https://i.pinimg.com/236x/a5/28/bd/a528bdfe2fa6cf8cc06a9d34eea98187.jpg\n",
      "24576/19896 [=====================================] - 0s 0us/step\b\b\b\b\b\b\b\b\b\b\b\b\b\b\b\b\b\b\b\b\b\b\b\b\b\b\b\b\b\b\b\b\b\b\b\b\b\b\b\b\b\b\b\n",
      "Downloading data from https://i.pinimg.com/236x/60/07/91/6007910ebf26bc28fc44eea84ae1d9d7.jpg\n",
      "16384/14649 [=================================] - 0s 0us/step\b\b\b\b\b\b\b\b\b\b\b\b\b\b\b\b\b\b\b\b\b\b\b\b\b\b\b\b\b\b\b\b\b\b\b\b\b\b\b\b\b\b\b\b\b\b\b\n",
      "Downloading data from https://i.pinimg.com/236x/c0/21/e4/c021e4c2eb3f75ef03c6a785af1d3c32.jpg\n",
      "16384/15272 [================================] - 0s 0us/step\b\b\b\b\b\b\b\b\b\b\b\b\b\b\b\b\b\b\b\b\b\b\b\b\b\b\b\b\b\b\b\b\b\b\b\b\b\b\b\b\b\b\b\b\b\b\b\b\n",
      "Downloading data from https://i.pinimg.com/236x/6e/7e/ce/6e7ece90f67c9cfcd8dbff02002e18af.jpg\n",
      "24576/22159 [=================================] - 0s 0us/step\b\b\b\b\b\b\b\b\b\b\b\b\b\b\b\b\b\b\b\b\b\b\b\b\b\b\b\b\b\b\b\b\b\b\b\b\b\b\b\b\b\b\b\b\b\b\b\n",
      "Downloading data from https://i.pinimg.com/236x/2a/07/ab/2a07ab4aac2c99d12576b0af12e0e2a1.jpg\n",
      "8192/5446 [=============================================] - 0s 0us/step\n",
      "Downloading data from https://i.pinimg.com/236x/9b/f7/5d/9bf75dabfea3442e492353554714733f.jpg\n",
      "24576/23319 [===============================] - 0s 0us/step\b\b\b\b\b\b\b\b\b\b\b\b\b\b\b\b\b\b\b\b\b\b\b\b\b\b\b\b\b\b\b\b\b\b\b\b\b\b\b\b\b\b\b\b\b\b\b\b\b\n",
      "Downloading data from https://i.pinimg.com/236x/63/92/e1/6392e10806e404bdb39c8db4f97388af.jpg\n",
      "16384/16379 [==============================] - 0s 0us/step\b\b\b\b\b\b\b\b\b\b\b\b\b\b\b\b\b\b\b\b\b\b\b\b\b\b\b\b\b\b\b\b\b\b\b\b\b\b\b\b\b\b\b\b\b\b\b\b\b\b\n",
      "Downloading data from https://i.pinimg.com/236x/67/e6/31/67e631cef213281a174ba752a2247535.jpg\n",
      "16384/9315 [====================================================] - 0s 0us/step\b\b\b\b\b\b\b\b\b\b\b\b\b\b\b\b\b\b\b\b\b\b\b\b\b\n",
      "Downloading data from https://i.pinimg.com/236x/c4/92/8c/c4928c34a230cfc8f449602346bd092e--corsair-lek.jpg\n",
      "16384/13353 [====================================] - 0s 0us/step\b\b\b\b\b\b\b\b\b\b\b\b\b\b\b\b\b\b\b\b\b\b\b\b\b\b\b\b\b\b\b\b\b\b\b\b\b\b\b\b\b\b\b\b\n",
      "Downloading data from https://i.pinimg.com/236x/d1/2c/ee/d12ceed889585823ee828454adcc5aab--merlin-dreamworks.jpg\n",
      "24576/17401 [==========================================] - 0s 0us/step\b\b\b\b\b\b\b\b\b\b\b\b\b\b\b\b\b\b\b\b\b\b\b\b\b\b\b\b\b\b\b\b\b\b\b\b\b\b\n",
      "Downloading data from https://i.pinimg.com/236x/6d/8e/94/6d8e949b0ea3e6b75be66184f07697c6.jpg\n",
      "24576/19652 [=====================================] - 0s 0us/step\b\b\b\b\b\b\b\b\b\b\b\b\b\b\b\b\b\b\b\b\b\b\b\b\b\b\b\b\b\b\b\b\b\b\b\b\b\b\b\b\b\b\b\n",
      "Downloading data from https://i.pinimg.com/236x/32/63/b8/3263b8f6732d3e07093b4f548422d1d0--nests-aliens.jpg\n",
      "16384/12754 [======================================] - 0s 0us/step\b\b\b\b\b\b\b\b\b\b\b\b\b\b\b\b\b\b\b\b\b\b\b\b\b\b\b\b\b\b\b\b\b\b\b\b\b\b\b\b\b\b\n",
      "Downloading data from https://i.pinimg.com/236x/d7/4c/20/d74c2016c9a8d3e34bb27c5e9c40cec9.jpg\n",
      "16384/12685 [======================================] - 0s 0us/step\b\b\b\b\b\b\b\b\b\b\b\b\b\b\b\b\b\b\b\b\b\b\b\b\b\b\b\b\b\b\b\b\b\b\b\b\b\b\b\b\b\b\n",
      "Downloading data from https://i.pinimg.com/236x/63/9c/78/639c78b6e3c7b47547b9ad844189719d.jpg\n",
      "16384/8404 [==========================================================] - 0s 0us/step\b\b\b\b\b\b\b\b\b\b\b\b\b\b\b\b\b\b\b\n"
     ]
    },
    {
     "data": {
      "text/plain": "{'class': 'tench',\n 'long_label': 'tench, Tinca tinca',\n 'images': [{'href': '/pin/6192518224136448/',\n   'src': 'https://i.pinimg.com/236x/8e/cb/b6/8ecbb68466cd4ff7d1d1b6f95efd45c8.jpg',\n   'alt': 'Casual Curves: Casual Style for Hourglass Figures - Album on Imgur',\n   'relevance': 10},\n  {'href': '/pin/3025924739665121/',\n   'src': 'https://i.pinimg.com/236x/6b/20/22/6b202248cf8afe80e6675f09dffed183.jpg',\n   'alt': ' ',\n   'relevance': 10},\n  {'href': '/pin/45599014967171928/',\n   'src': 'https://i.pinimg.com/236x/a5/28/bd/a528bdfe2fa6cf8cc06a9d34eea98187.jpg',\n   'alt': '@mimiarr discovered by mara. on We Heart It',\n   'relevance': 10},\n  {'href': '/pin/56646907803594804/',\n   'src': 'https://i.pinimg.com/236x/60/07/91/6007910ebf26bc28fc44eea84ae1d9d7.jpg',\n   'alt': ' ',\n   'relevance': 10},\n  {'href': '/pin/4292562132583802/',\n   'src': 'https://i.pinimg.com/236x/c0/21/e4/c021e4c2eb3f75ef03c6a785af1d3c32.jpg',\n   'alt': 'Awkward misunderstanding before leaving',\n   'relevance': 10},\n  {'href': '/pin/121104677470716397/',\n   'src': 'https://i.pinimg.com/236x/6e/7e/ce/6e7ece90f67c9cfcd8dbff02002e18af.jpg',\n   'alt': ' ',\n   'relevance': 10},\n  {'href': '/pin/864198615999441524/',\n   'src': 'https://i.pinimg.com/236x/2a/07/ab/2a07ab4aac2c99d12576b0af12e0e2a1.jpg',\n   'alt': 'sandmarg: The Tinca Tinca Fish ...or you can call me Doctor',\n   'relevance': 1},\n  {'href': '/pin/26458716552024805/',\n   'src': 'https://i.pinimg.com/236x/9b/f7/5d/9bf75dabfea3442e492353554714733f.jpg',\n   'alt': ' ',\n   'relevance': 10},\n  {'href': '/pin/37647346874288654/',\n   'src': 'https://i.pinimg.com/236x/63/92/e1/6392e10806e404bdb39c8db4f97388af.jpg',\n   'alt': ' ',\n   'relevance': 10},\n  {'href': '/pin/80853755800136339/',\n   'src': 'https://i.pinimg.com/236x/67/e6/31/67e631cef213281a174ba752a2247535.jpg',\n   'alt': ' ',\n   'relevance': 10},\n  {'href': '/pin/122652789841210645/',\n   'src': 'https://i.pinimg.com/236x/c4/92/8c/c4928c34a230cfc8f449602346bd092e--corsair-lek.jpg',\n   'alt': ' ',\n   'relevance': 10},\n  {'href': '/pin/230668812472032171/',\n   'src': 'https://i.pinimg.com/236x/d1/2c/ee/d12ceed889585823ee828454adcc5aab--merlin-dreamworks.jpg',\n   'alt': ' ',\n   'relevance': 10},\n  {'href': '/pin/38843615588516389/',\n   'src': 'https://i.pinimg.com/236x/6d/8e/94/6d8e949b0ea3e6b75be66184f07697c6.jpg',\n   'alt': \"An A1 poster sized print, approx 23c33 inches (594x841 mm). Fish scales of cod, gudgeon, tench, eel and perch.. Fish scales: cod, Gadus morhua 1, gudgeon, Gobio gobio 2, tench, Tinca tinca 3, eel, Anguilla anguilla 4 and perch, Perca fluviatilis 5. Handcolored copperplate engraving from Friedrich Bertuch's Bilderbuch fur Kinder (Picture Book for Children), Weimar, 1798. anguillaanguilla, bilderbuchfurkinder, cod, copperplate, eel, fishscales, friedrichbertuch, gadusmorhua, gobiogobio…\",\n   'relevance': 10},\n  {'href': '/pin/476044623117045872/',\n   'src': 'https://i.pinimg.com/236x/32/63/b8/3263b8f6732d3e07093b4f548422d1d0--nests-aliens.jpg',\n   'alt': 'SW - story of old times by tench',\n   'relevance': 10},\n  {'href': '/pin/78883430959842639/',\n   'src': 'https://i.pinimg.com/236x/d7/4c/20/d74c2016c9a8d3e34bb27c5e9c40cec9.jpg',\n   'alt': 'Mercenary 6 by Max-Dunbar',\n   'relevance': 10},\n  {'href': '/pin/38843615587340519/',\n   'src': 'https://i.pinimg.com/236x/63/9c/78/639c78b6e3c7b47547b9ad844189719d.jpg',\n   'alt': '22x18 inch (580x480 mm) ready to hang frame with high quality RA4 print and mount individually cut to size. Tinca tinca, or Tench. Date: 1879. . Image supplied by Mary Evans Prints Online. Product ID:14229645_80874_760',\n   'relevance': 1}]}"
     },
     "execution_count": 9,
     "metadata": {},
     "output_type": "execute_result"
    }
   ],
   "source": [
    "long_label_results = get_images_and_relevance(0, use_long_label=True)\n",
    "long_label_results"
   ],
   "metadata": {
    "collapsed": false,
    "pycharm": {
     "name": "#%%\n"
    }
   }
  },
  {
   "cell_type": "code",
   "execution_count": 11,
   "outputs": [
    {
     "name": "stdout",
     "output_type": "stream",
     "text": [
      "16\n",
      "16\n",
      "66\n"
     ]
    }
   ],
   "source": [
    "print(len(test_results[\"images\"]))\n",
    "print(len(long_label_results[\"images\"]))\n",
    "print(len(l_result[\"images\"]))  # manually scrolled the webdriver instance"
   ],
   "metadata": {
    "collapsed": false,
    "pycharm": {
     "name": "#%%\n"
    }
   }
  },
  {
   "cell_type": "code",
   "execution_count": 12,
   "outputs": [
    {
     "name": "stdout",
     "output_type": "stream",
     "text": [
      "0\n",
      "2\n",
      "15\n"
     ]
    }
   ],
   "source": [
    "# relevance count\n",
    "def count_relevant_images(results):\n",
    "    image_data = results[\"images\"]\n",
    "    return len([i for i in image_data if i[\"relevance\"] < 10])\n",
    "\n",
    "print(count_relevant_images(test_results))\n",
    "print(count_relevant_images(long_label_results))\n",
    "print(count_relevant_images(l_result))"
   ],
   "metadata": {
    "collapsed": false,
    "pycharm": {
     "name": "#%%\n"
    }
   }
  },
  {
   "cell_type": "markdown",
   "source": [
    "test scrolling to get more results on original imagenet label"
   ],
   "metadata": {
    "collapsed": false
   }
  },
  {
   "cell_type": "code",
   "execution_count": 24,
   "outputs": [
    {
     "name": "stdout",
     "output_type": "stream",
     "text": [
      "Downloading data from https://i.pinimg.com/236x/8e/cb/b6/8ecbb68466cd4ff7d1d1b6f95efd45c8.jpg\n",
      "32768/29331 [=================================] - 0s 0us/step\b\b\b\b\b\b\b\b\b\b\b\b\b\b\b\b\b\b\b\b\b\b\b\b\b\b\b\b\b\b\b\b\b\b\b\b\b\b\b\b\b\b\b\b\b\b\b\n",
      "Downloading data from https://i.pinimg.com/236x/6b/20/22/6b202248cf8afe80e6675f09dffed183.jpg\n",
      "32768/26308 [=====================================] - 0s 0us/step\b\b\b\b\b\b\b\b\b\b\b\b\b\b\b\b\b\b\b\b\b\b\b\b\b\b\b\b\b\b\b\b\b\b\b\b\b\b\b\b\b\b\b\n",
      "Downloading data from https://i.pinimg.com/236x/a5/28/bd/a528bdfe2fa6cf8cc06a9d34eea98187.jpg\n",
      "24576/19896 [=====================================] - 0s 0us/step\b\b\b\b\b\b\b\b\b\b\b\b\b\b\b\b\b\b\b\b\b\b\b\b\b\b\b\b\b\b\b\b\b\b\b\b\b\b\b\b\b\b\b\n",
      "Downloading data from https://i.pinimg.com/236x/60/07/91/6007910ebf26bc28fc44eea84ae1d9d7.jpg\n",
      "16384/14649 [=================================] - 0s 1us/step\b\b\b\b\b\b\b\b\b\b\b\b\b\b\b\b\b\b\b\b\b\b\b\b\b\b\b\b\b\b\b\b\b\b\b\b\b\b\b\b\b\b\b\b\b\b\b\n",
      "Downloading data from https://i.pinimg.com/236x/94/f9/8f/94f98f26ddfa526b59f3c30db1e91c40.jpg\n",
      "24576/17118 [===========================================] - 0s 0us/step\b\b\b\b\b\b\b\b\b\b\b\b\b\b\b\b\b\b\b\b\b\b\b\b\b\b\b\b\b\b\b\b\b\b\b\b\b\n",
      "Downloading data from https://i.pinimg.com/236x/c0/21/e4/c021e4c2eb3f75ef03c6a785af1d3c32.jpg\n",
      "16384/15272 [================================] - 0s 0us/step\b\b\b\b\b\b\b\b\b\b\b\b\b\b\b\b\b\b\b\b\b\b\b\b\b\b\b\b\b\b\b\b\b\b\b\b\b\b\b\b\b\b\b\b\b\b\b\b\n",
      "Downloading data from https://i.pinimg.com/236x/65/c6/4f/65c64fdb4abf5692a6bd874e727503c1.jpg\n",
      "24576/16935 [===========================================] - 0s 0us/step\b\b\b\b\b\b\b\b\b\b\b\b\b\b\b\b\b\b\b\b\b\b\b\b\b\b\b\b\b\b\b\b\b\b\b\b\b\n",
      "Downloading data from https://i.pinimg.com/236x/ad/6b/18/ad6b18de2f7dbeffdf6d4ff6f463c4b0.jpg\n",
      "16384/16173 [==============================] - 0s 0us/step\b\b\b\b\b\b\b\b\b\b\b\b\b\b\b\b\b\b\b\b\b\b\b\b\b\b\b\b\b\b\b\b\b\b\b\b\b\b\b\b\b\b\b\b\b\b\b\b\b\b\n",
      "Downloading data from https://i.pinimg.com/236x/2f/b7/38/2fb738fd8a268a94c88a5359341c9aef--style-outfits-fashion-outfits.jpg\n",
      "16384/13138 [=====================================] - 0s 0us/step\b\b\b\b\b\b\b\b\b\b\b\b\b\b\b\b\b\b\b\b\b\b\b\b\b\b\b\b\b\b\b\b\b\b\b\b\b\b\b\b\b\b\b\n",
      "Downloading data from https://i.pinimg.com/236x/97/6a/06/976a06be0d58b837944ac711abd186f4.jpg\n",
      "24576/18919 [======================================] - 0s 0us/step\b\b\b\b\b\b\b\b\b\b\b\b\b\b\b\b\b\b\b\b\b\b\b\b\b\b\b\b\b\b\b\b\b\b\b\b\b\b\b\b\b\b\n",
      "Downloading data from https://i.pinimg.com/236x/6e/7e/ce/6e7ece90f67c9cfcd8dbff02002e18af.jpg\n",
      "24576/22159 [=================================] - 0s 0us/step\b\b\b\b\b\b\b\b\b\b\b\b\b\b\b\b\b\b\b\b\b\b\b\b\b\b\b\b\b\b\b\b\b\b\b\b\b\b\b\b\b\b\b\b\b\b\b\n",
      "Downloading data from https://i.pinimg.com/236x/63/92/e1/6392e10806e404bdb39c8db4f97388af.jpg\n",
      "16384/16379 [==============================] - 0s 0us/step\b\b\b\b\b\b\b\b\b\b\b\b\b\b\b\b\b\b\b\b\b\b\b\b\b\b\b\b\b\b\b\b\b\b\b\b\b\b\b\b\b\b\b\b\b\b\b\b\b\b\n",
      "Downloading data from https://i.pinimg.com/236x/67/e6/31/67e631cef213281a174ba752a2247535.jpg\n",
      "16384/9315 [====================================================] - 0s 0us/step\b\b\b\b\b\b\b\b\b\b\b\b\b\b\b\b\b\b\b\b\b\b\b\b\b\n",
      "Downloading data from https://i.pinimg.com/236x/be/22/82/be228207d6683c699de8f9903b39fae9.jpg\n",
      "24576/18544 [=======================================] - 0s 0us/step\b\b\b\b\b\b\b\b\b\b\b\b\b\b\b\b\b\b\b\b\b\b\b\b\b\b\b\b\b\b\b\b\b\b\b\b\b\b\b\b\b\n",
      "Downloading data from https://i.pinimg.com/236x/3e/dc/ba/3edcba4b8b6673e0fc8a75fdf48ab744.jpg\n",
      "8192/6549 [=====================================] - 0s 0us/step\n",
      "Downloading data from https://i.pinimg.com/236x/c3/32/ee/c332ee3fa4039b4403f316bea17a25e6.jpg\n",
      "16384/15506 [===============================] - 0s 0us/step\b\b\b\b\b\b\b\b\b\b\b\b\b\b\b\b\b\b\b\b\b\b\b\b\b\b\b\b\b\b\b\b\b\b\b\b\b\b\b\b\b\b\b\b\b\b\b\b\b\n",
      "Downloading data from https://i.pinimg.com/236x/e8/07/ae/e807ae4fdf5811ac498076b6531e6669.jpg\n",
      "32768/24627 [=======================================] - 0s 1us/step\b\b\b\b\b\b\b\b\b\b\b\b\b\b\b\b\b\b\b\b\b\b\b\b\b\b\b\b\b\b\b\b\b\b\b\b\b\b\b\b\b\n",
      "Downloading data from https://i.pinimg.com/236x/7e/9b/6f/7e9b6fd80a2ac3128b0f349d257725cf.jpg\n",
      "16384/11571 [==========================================] - 0s 0us/step\b\b\b\b\b\b\b\b\b\b\b\b\b\b\b\b\b\b\b\b\b\b\b\b\b\b\b\b\b\b\b\b\b\b\b\b\b\b\n",
      "Downloading data from https://i.pinimg.com/236x/dd/f7/59/ddf759f2503c7afc2a8c344bc528b525.jpg\n",
      "24576/18317 [========================================] - 0s 0us/step\b\b\b\b\b\b\b\b\b\b\b\b\b\b\b\b\b\b\b\b\b\b\b\b\b\b\b\b\b\b\b\b\b\b\b\b\b\b\b\b\n",
      "Downloading data from https://i.pinimg.com/236x/c3/b9/5e/c3b95eca1788432d86b38838d2338aaf--summer-skin-spring-summer.jpg\n",
      "24576/19951 [====================================] - 0s 0us/step\b\b\b\b\b\b\b\b\b\b\b\b\b\b\b\b\b\b\b\b\b\b\b\b\b\b\b\b\b\b\b\b\b\b\b\b\b\b\b\b\b\b\b\b\n",
      "Downloading data from https://i.pinimg.com/236x/33/bb/3e/33bb3e5fae813a11804b5fd775436e31.jpg\n",
      "16384/15276 [================================] - 0s 0us/step\b\b\b\b\b\b\b\b\b\b\b\b\b\b\b\b\b\b\b\b\b\b\b\b\b\b\b\b\b\b\b\b\b\b\b\b\b\b\b\b\b\b\b\b\b\b\b\b\n",
      "Downloading data from https://i.pinimg.com/236x/c3/cd/f8/c3cdf8410a6fdd6f486a9f5b6cbfa486--wear-a-scarf-scarf-styles.jpg\n",
      "24576/16709 [============================================] - 0s 0us/step\b\b\b\b\b\b\b\b\b\b\b\b\b\b\b\b\b\b\b\b\b\b\b\b\b\b\b\b\b\b\b\b\b\b\b\b\n",
      "Downloading data from https://i.pinimg.com/236x/7d/c7/81/7dc78172712b3bc459161c4d8860acdb.jpg\n",
      "24576/16463 [============================================] - 0s 0us/step\b\b\b\b\b\b\b\b\b\b\b\b\b\b\b\b\b\b\b\b\b\b\b\b\b\b\b\b\b\b\b\b\b\b\b\b\n",
      "Downloading data from https://i.pinimg.com/236x/a8/97/2d/a8972d639c7da51285c4e83ae88e380d.jpg\n",
      "24576/21736 [=================================] - 0s 0us/step\b\b\b\b\b\b\b\b\b\b\b\b\b\b\b\b\b\b\b\b\b\b\b\b\b\b\b\b\b\b\b\b\b\b\b\b\b\b\b\b\b\b\b\b\b\b\b\n",
      "Downloading data from https://i.pinimg.com/236x/44/ed/98/44ed9888e709831c466d99a2c85e5b14.jpg\n",
      "16384/12957 [=====================================] - 0s 0us/step\b\b\b\b\b\b\b\b\b\b\b\b\b\b\b\b\b\b\b\b\b\b\b\b\b\b\b\b\b\b\b\b\b\b\b\b\b\b\b\b\b\b\b\n",
      "Downloading data from https://i.pinimg.com/originals/8a/d2/1d/8ad21d465787bd96f7a4c4111c51eef5.gif\n",
      "1695744/1693937 [==============================] - 0s 0us/step\b\b\b\b\b\b\b\b\b\b\b\b\b\b\b\b\b\b\b\b\b\b\b\b\b\b\b\b\b\b\b\b\b\b\b\b\b\b\b\b\b\b\b\b\b\b\b\b\b\b\b\b\b\b\b\b\b\b\b\b\b\b\b\b\b\b\b\b\b\b\b\b\b\b\b\b\b\b\b\b\b\b\b\b\b\b\b\b\b\b\b\b\b\b\b\b\b\b\b\b\b\b\b\b\b\b\b\b\b\b\b\b\n",
      "Downloading data from https://i.pinimg.com/236x/60/9a/1f/609a1ff26bb34d9ef6a811b52aae2aa6.jpg\n",
      "24576/17169 [==========================================] - 0s 0us/step\b\b\b\b\b\b\b\b\b\b\b\b\b\b\b\b\b\b\b\b\b\b\b\b\b\b\b\b\b\b\b\b\b\b\b\b\b\b\n",
      "Downloading data from https://i.pinimg.com/236x/7a/e5/8e/7ae58e0391ea2849c3ceed319cd972ab--liv-tyler-style-liv-tyler-s.jpg\n",
      "16384/12558 [=======================================] - 0s 1us/step\b\b\b\b\b\b\b\b\b\b\b\b\b\b\b\b\b\b\b\b\b\b\b\b\b\b\b\b\b\b\b\b\b\b\b\b\b\b\b\b\b\n",
      "Downloading data from https://i.pinimg.com/236x/9f/7d/a8/9f7da877752728fdcf6931ec66cc1d1b--stylish-outfits-fall-outfits.jpg\n",
      "16384/9558 [===================================================] - 0s 0us/step\b\b\b\b\b\b\b\b\b\b\b\b\b\b\b\b\b\b\b\b\b\b\b\b\b\b\n",
      "Downloading data from https://i.pinimg.com/236x/60/60/91/606091390fc8f7a6fe4909773dfbcbdb.jpg\n",
      "16384/13820 [===================================] - 0s 0us/step\b\b\b\b\b\b\b\b\b\b\b\b\b\b\b\b\b\b\b\b\b\b\b\b\b\b\b\b\b\b\b\b\b\b\b\b\b\b\b\b\b\b\b\b\b\n",
      "Downloading data from https://i.pinimg.com/236x/87/e2/29/87e229f066bb0c878f92a1eba71b3cc3--lace-heels-sexy-heels.jpg\n",
      "24576/16931 [===========================================] - 0s 0us/step\b\b\b\b\b\b\b\b\b\b\b\b\b\b\b\b\b\b\b\b\b\b\b\b\b\b\b\b\b\b\b\b\b\b\b\b\b\n",
      "Downloading data from https://i.pinimg.com/236x/30/34/fe/3034fe6fdd4b84415932cf71cda7a391--boyfriendjeans-winter-chic.jpg\n",
      "24576/20276 [====================================] - 0s 0us/step\b\b\b\b\b\b\b\b\b\b\b\b\b\b\b\b\b\b\b\b\b\b\b\b\b\b\b\b\b\b\b\b\b\b\b\b\b\b\b\b\b\b\b\b\n",
      "Downloading data from https://i.pinimg.com/236x/c3/8d/52/c38d520ffb94438d4356d21bc0529875--burberry-outfit-burberry-watch.jpg\n",
      "16384/14466 [=================================] - 0s 0us/step\b\b\b\b\b\b\b\b\b\b\b\b\b\b\b\b\b\b\b\b\b\b\b\b\b\b\b\b\b\b\b\b\b\b\b\b\b\b\b\b\b\b\b\b\b\b\b\n",
      "Downloading data from https://i.pinimg.com/236x/bb/ce/c7/bbcec70d09fda2c87004e6549833c4a0.jpg\n",
      "16384/14156 [==================================] - 0s 0us/step\b\b\b\b\b\b\b\b\b\b\b\b\b\b\b\b\b\b\b\b\b\b\b\b\b\b\b\b\b\b\b\b\b\b\b\b\b\b\b\b\b\b\b\b\b\b\n",
      "Downloading data from https://i.pinimg.com/236x/15/73/9d/15739de783e02e71f57f2b0c7f3859d5.jpg\n",
      "16384/11077 [============================================] - 0s 0us/step\b\b\b\b\b\b\b\b\b\b\b\b\b\b\b\b\b\b\b\b\b\b\b\b\b\b\b\b\b\b\b\b\b\b\b\b\n",
      "Downloading data from https://i.pinimg.com/236x/05/cd/47/05cd4784defd34c9bc686ce968ab3eef--purple-coat-purple-trench-coat.jpg\n",
      "32768/25392 [======================================] - 0s 1us/step\b\b\b\b\b\b\b\b\b\b\b\b\b\b\b\b\b\b\b\b\b\b\b\b\b\b\b\b\b\b\b\b\b\b\b\b\b\b\b\b\b\b\n",
      "Downloading data from https://i.pinimg.com/236x/92/96/7f/92967f95c04d3b0fdd20cf9b431ac077.jpg\n",
      "16384/10787 [=============================================] - 0s 1us/step\b\b\b\b\b\b\b\b\b\b\b\b\b\b\b\b\b\b\b\b\b\b\b\b\b\b\b\b\b\b\b\b\b\b\b\n",
      "Downloading data from https://i.pinimg.com/236x/c5/e6/ba/c5e6bae9a7fc1d5760ae68bd67871785.jpg\n",
      "16384/11114 [============================================] - 0s 0us/step\b\b\b\b\b\b\b\b\b\b\b\b\b\b\b\b\b\b\b\b\b\b\b\b\b\b\b\b\b\b\b\b\b\b\b\b\n",
      "Downloading data from https://i.pinimg.com/236x/09/de/3a/09de3ac6b27b6a137ac51eedfbdc76e1.jpg\n",
      "8192/5585 [============================================] - 0s 0us/step\n",
      "Downloading data from https://i.pinimg.com/236x/db/2a/a4/db2aa49b3ef90e20d0297fffb2e014e8.jpg\n",
      "32768/26999 [====================================] - 0s 0us/step\b\b\b\b\b\b\b\b\b\b\b\b\b\b\b\b\b\b\b\b\b\b\b\b\b\b\b\b\b\b\b\b\b\b\b\b\b\b\b\b\b\b\b\b\n",
      "Downloading data from https://i.pinimg.com/236x/d8/66/93/d86693936421091850670b1f7012cf54.jpg\n",
      "16384/10545 [==============================================] - 0s 0us/step\b\b\b\b\b\b\b\b\b\b\b\b\b\b\b\b\b\b\b\b\b\b\b\b\b\b\b\b\b\b\b\b\b\b\n",
      "Downloading data from https://i.pinimg.com/236x/15/c1/4d/15c14d9aaa6bd49251d303db01f34a23.jpg\n",
      "16384/9429 [====================================================] - 0s 1us/step\b\b\b\b\b\b\b\b\b\b\b\b\b\b\b\b\b\b\b\b\b\b\b\b\b\n",
      "Downloading data from https://i.pinimg.com/236x/63/f8/b4/63f8b46015577ed48e9c5e80117e15db.jpg\n",
      "16384/8530 [=========================================================] - 0s 0us/step\b\b\b\b\b\b\b\b\b\b\b\b\b\b\b\b\b\b\b\b\n",
      "Downloading data from https://i.pinimg.com/236x/65/be/72/65be72c5e42135beb360c3a84eb322a2.jpg\n",
      "16384/9311 [====================================================] - 0s 1us/step\b\b\b\b\b\b\b\b\b\b\b\b\b\b\b\b\b\b\b\b\b\b\b\b\b\n",
      "Downloading data from https://i.pinimg.com/236x/16/13/03/1613031cc8fd9f205f59914730b336b8--burberry-trench-coat-trench-coats.jpg\n",
      "24576/21223 [==================================] - 0s 0us/step\b\b\b\b\b\b\b\b\b\b\b\b\b\b\b\b\b\b\b\b\b\b\b\b\b\b\b\b\b\b\b\b\b\b\b\b\b\b\b\b\b\b\b\b\b\b\n",
      "Downloading data from https://i.pinimg.com/236x/7b/75/8e/7b758e37d09aca471e0e36bda7b34d0a--post-workout-workout-wear.jpg\n",
      "8192/7379 [=================================] - 0s 0us/step\n",
      "Downloading data from https://i.pinimg.com/236x/1f/7c/5e/1f7c5ef1bbe169a7777ccd0ce66689a2.jpg\n",
      "32768/29157 [=================================] - 0s 0us/step\b\b\b\b\b\b\b\b\b\b\b\b\b\b\b\b\b\b\b\b\b\b\b\b\b\b\b\b\b\b\b\b\b\b\b\b\b\b\b\b\b\b\b\b\b\b\b\n",
      "Downloading data from https://i.pinimg.com/236x/52/3d/dc/523ddc9080b38ffeeb160fafccbcf221.jpg\n",
      "16384/9873 [=================================================] - 0s 0us/step\b\b\b\b\b\b\b\b\b\b\b\b\b\b\b\b\b\b\b\b\b\b\b\b\b\b\b\b\n",
      "Downloading data from https://i.pinimg.com/236x/ad/28/fa/ad28fab0b5a77ef0596e01cc5022c003.jpg\n",
      "16384/9109 [=====================================================] - 0s 0us/step\b\b\b\b\b\b\b\b\b\b\b\b\b\b\b\b\b\b\b\b\b\b\b\b\n",
      "Downloading data from https://i.pinimg.com/236x/3b/54/9a/3b549aadad49cfdcbd382a9e3f73edee.jpg\n",
      "24576/16460 [============================================] - 0s 0us/step\b\b\b\b\b\b\b\b\b\b\b\b\b\b\b\b\b\b\b\b\b\b\b\b\b\b\b\b\b\b\b\b\b\b\b\b\n",
      "Downloading data from https://i.pinimg.com/236x/88/76/be/8876be6fa88139280a685726d59c1b95--fall-jackets-cute-jackets.jpg\n",
      "24576/18525 [=======================================] - 0s 0us/step\b\b\b\b\b\b\b\b\b\b\b\b\b\b\b\b\b\b\b\b\b\b\b\b\b\b\b\b\b\b\b\b\b\b\b\b\b\b\b\b\b\n",
      "Downloading data from https://i.pinimg.com/236x/d0/b9/5c/d0b95c7d9f8bb4ec53f54ce4d1d3f748--burberry-trenchcoat-burberry-bags.jpg\n",
      "24576/20612 [===================================] - 0s 0us/step\b\b\b\b\b\b\b\b\b\b\b\b\b\b\b\b\b\b\b\b\b\b\b\b\b\b\b\b\b\b\b\b\b\b\b\b\b\b\b\b\b\b\b\b\b\n",
      "Downloading data from https://i.pinimg.com/236x/3b/80/2c/3b802c64af3827866c4064cf9da8aca6--trenchcoats-black-denim.jpg\n",
      "32768/27356 [===================================] - 0s 0us/step\b\b\b\b\b\b\b\b\b\b\b\b\b\b\b\b\b\b\b\b\b\b\b\b\b\b\b\b\b\b\b\b\b\b\b\b\b\b\b\b\b\b\b\b\b\n",
      "Downloading data from https://i.pinimg.com/236x/07/62/d7/0762d7b377df47a7c420e5af72cb6cf6--hooded-trench-coat-hooded-coats.jpg\n",
      "16384/10272 [===============================================] - 0s 0us/step\b\b\b\b\b\b\b\b\b\b\b\b\b\b\b\b\b\b\b\b\b\b\b\b\b\b\b\b\b\b\b\b\b\n",
      "Downloading data from https://i.pinimg.com/236x/4a/58/5b/4a585b4ba642261101cf2b55b4c8c424--popular-outfits-fashion-over-.jpg\n",
      "16384/13278 [=====================================] - 0s 1us/step\b\b\b\b\b\b\b\b\b\b\b\b\b\b\b\b\b\b\b\b\b\b\b\b\b\b\b\b\b\b\b\b\b\b\b\b\b\b\b\b\b\b\b\n",
      "Downloading data from https://i.pinimg.com/236x/04/0f/6e/040f6e92b713c381c67255a6ac07212c.jpg\n",
      "16384/16187 [==============================] - 0s 2us/step\b\b\b\b\b\b\b\b\b\b\b\b\b\b\b\b\b\b\b\b\b\b\b\b\b\b\b\b\b\b\b\b\b\b\b\b\b\b\b\b\b\b\b\b\b\b\b\b\b\b\n",
      "Downloading data from https://i.pinimg.com/236x/70/bc/7b/70bc7b4dd52e9a3810b6cfd7bae40ea0--business-clothes-business-attire.jpg\n",
      "16384/14254 [==================================] - 0s 0us/step\b\b\b\b\b\b\b\b\b\b\b\b\b\b\b\b\b\b\b\b\b\b\b\b\b\b\b\b\b\b\b\b\b\b\b\b\b\b\b\b\b\b\b\b\b\b\n",
      "Downloading data from https://i.pinimg.com/236x/4e/11/b9/4e11b9f0cec1d1501e4a86b99b7af426--casual-chic-outfits-fall-outfits.jpg\n",
      "16384/15372 [===============================] - 0s 0us/step\b\b\b\b\b\b\b\b\b\b\b\b\b\b\b\b\b\b\b\b\b\b\b\b\b\b\b\b\b\b\b\b\b\b\b\b\b\b\b\b\b\b\b\b\b\b\b\b\b\n",
      "Downloading data from https://i.pinimg.com/236x/b7/2c/65/b72c657ef529ed3a1531e49e5be67023--fashion-guide-new-fashion.jpg\n",
      "24576/17153 [==========================================] - 0s 0us/step\b\b\b\b\b\b\b\b\b\b\b\b\b\b\b\b\b\b\b\b\b\b\b\b\b\b\b\b\b\b\b\b\b\b\b\b\b\b\n",
      "Downloading data from https://i.pinimg.com/236x/08/82/ce/0882ce8369734dd23c95352d36dcaa97.jpg\n",
      "16384/8534 [=========================================================] - 0s 0us/step\b\b\b\b\b\b\b\b\b\b\b\b\b\b\b\b\b\b\b\b\n",
      "Downloading data from https://i.pinimg.com/236x/46/1b/6b/461b6b1062f545dadade8f3ced8ddfdd--navy-trench-coat-burberry-trench-coat.jpg\n",
      "16384/13765 [===================================] - 0s 0us/step\b\b\b\b\b\b\b\b\b\b\b\b\b\b\b\b\b\b\b\b\b\b\b\b\b\b\b\b\b\b\b\b\b\b\b\b\b\b\b\b\b\b\b\b\b\n",
      "Downloading data from https://i.pinimg.com/236x/33/78/3a/33783a11e36e8f67cc4784bd91948b2e--short-trench-coat-classic-trench-coat.jpg\n",
      "16384/13002 [=====================================] - 0s 0us/step\b\b\b\b\b\b\b\b\b\b\b\b\b\b\b\b\b\b\b\b\b\b\b\b\b\b\b\b\b\b\b\b\b\b\b\b\b\b\b\b\b\b\b\n",
      "Downloading data from https://i.pinimg.com/236x/fe/04/a3/fe04a38a418986fa0f4666c842f6ab83.jpg\n",
      "16384/14873 [=================================] - 0s 0us/step\b\b\b\b\b\b\b\b\b\b\b\b\b\b\b\b\b\b\b\b\b\b\b\b\b\b\b\b\b\b\b\b\b\b\b\b\b\b\b\b\b\b\b\b\b\b\b\n",
      "Downloading data from https://i.pinimg.com/236x/14/fc/f5/14fcf5cb9a9734802a62585206573427--fashion-infographic-trenchcoats.jpg\n",
      "16384/16306 [==============================] - 0s 0us/step\b\b\b\b\b\b\b\b\b\b\b\b\b\b\b\b\b\b\b\b\b\b\b\b\b\b\b\b\b\b\b\b\b\b\b\b\b\b\b\b\b\b\b\b\b\b\b\b\b\b\n",
      "Downloading data from https://i.pinimg.com/236x/42/88/9e/42889e4971b6e8df5606608b6f0b9637.jpg\n",
      "16384/10913 [=============================================] - 0s 0us/step\b\b\b\b\b\b\b\b\b\b\b\b\b\b\b\b\b\b\b\b\b\b\b\b\b\b\b\b\b\b\b\b\b\b\b\n",
      "Downloading data from https://i.pinimg.com/236x/47/80/f3/4780f3adbc03d5da260febb493230f32--fashion-suits-fashion-for-men.jpg\n",
      "32768/28243 [==================================] - 0s 1us/step\b\b\b\b\b\b\b\b\b\b\b\b\b\b\b\b\b\b\b\b\b\b\b\b\b\b\b\b\b\b\b\b\b\b\b\b\b\b\b\b\b\b\b\b\b\b\n",
      "Downloading data from https://i.pinimg.com/236x/03/cf/ff/03cfff5fcfdf4c0a3d5aa9124c504dfe--wool-coats-womens-coats.jpg\n",
      "16384/12701 [======================================] - 0s 0us/step\b\b\b\b\b\b\b\b\b\b\b\b\b\b\b\b\b\b\b\b\b\b\b\b\b\b\b\b\b\b\b\b\b\b\b\b\b\b\b\b\b\b\n",
      "Downloading data from https://i.pinimg.com/236x/82/94/25/829425a85d5e730aed61c57489911d01--teal-colors-style-clothes.jpg\n",
      "16384/15079 [================================] - 0s 0us/step\b\b\b\b\b\b\b\b\b\b\b\b\b\b\b\b\b\b\b\b\b\b\b\b\b\b\b\b\b\b\b\b\b\b\b\b\b\b\b\b\b\b\b\b\b\b\b\b\n",
      "Downloading data from https://i.pinimg.com/236x/da/32/de/da32de5d7227436cba2c21dcb998ca8f--the-sartorialist-pink-coats.jpg\n",
      "16384/14861 [=================================] - 0s 0us/step\b\b\b\b\b\b\b\b\b\b\b\b\b\b\b\b\b\b\b\b\b\b\b\b\b\b\b\b\b\b\b\b\b\b\b\b\b\b\b\b\b\b\b\b\b\b\b\n",
      "Downloading data from https://i.pinimg.com/236x/a0/2c/d5/a02cd5d9e47b500ae8be7efc52ffa5f7--fall-work-outfits-office-outfits.jpg\n",
      "24576/22641 [================================] - 0s 0us/step\b\b\b\b\b\b\b\b\b\b\b\b\b\b\b\b\b\b\b\b\b\b\b\b\b\b\b\b\b\b\b\b\b\b\b\b\b\b\b\b\b\b\b\b\b\b\b\b\n",
      "Downloading data from https://i.pinimg.com/236x/5d/d5/c7/5dd5c76b1f3d10a6b637ff3d3855cc0b.jpg\n",
      "24576/19605 [=====================================] - 0s 0us/step\b\b\b\b\b\b\b\b\b\b\b\b\b\b\b\b\b\b\b\b\b\b\b\b\b\b\b\b\b\b\b\b\b\b\b\b\b\b\b\b\b\b\b\n",
      "Downloading data from https://i.pinimg.com/236x/23/48/c2/2348c2205da966f38f9ff3a5d257ed2d--long-sleeve-dresses-sexy-dresses.jpg\n",
      "40960/36253 [=================================] - 0s 3us/step\b\b\b\b\b\b\b\b\b\b\b\b\b\b\b\b\b\b\b\b\b\b\b\b\b\b\b\b\b\b\b\b\b\b\b\b\b\b\b\b\b\b\b\b\b\b\b\n",
      "Downloading data from https://i.pinimg.com/236x/fd/b9/da/fdb9da8006248e621cd354007a3cab7b.jpg\n",
      "16384/12670 [======================================] - 0s 0us/step\b\b\b\b\b\b\b\b\b\b\b\b\b\b\b\b\b\b\b\b\b\b\b\b\b\b\b\b\b\b\b\b\b\b\b\b\b\b\b\b\b\b\n",
      "Downloading data from https://i.pinimg.com/236x/9d/f6/15/9df61517cd4dc15917cfdd56f7b31ed3.jpg\n",
      "16384/15604 [===============================] - 0s 0us/step\b\b\b\b\b\b\b\b\b\b\b\b\b\b\b\b\b\b\b\b\b\b\b\b\b\b\b\b\b\b\b\b\b\b\b\b\b\b\b\b\b\b\b\b\b\b\b\b\b\n",
      "Downloading data from https://i.pinimg.com/236x/0a/ff/ac/0affac3bf675b6cac5dcc8f3efb2a049--street-style--street-style-fashion.jpg\n",
      "49152/45443 [================================] - 0s 0us/step\b\b\b\b\b\b\b\b\b\b\b\b\b\b\b\b\b\b\b\b\b\b\b\b\b\b\b\b\b\b\b\b\b\b\b\b\b\b\b\b\b\b\b\b\b\b\b\b\n",
      "Downloading data from https://i.pinimg.com/236x/1f/2f/dc/1f2fdcc402c8e7cd62a47ce1410f8d7b.jpg\n",
      "24576/20932 [===================================] - 0s 0us/step\b\b\b\b\b\b\b\b\b\b\b\b\b\b\b\b\b\b\b\b\b\b\b\b\b\b\b\b\b\b\b\b\b\b\b\b\b\b\b\b\b\b\b\b\b\n",
      "Downloading data from https://i.pinimg.com/236x/43/50/8e/43508eb3976b4cf83d49f4c7eaaced7f--trenchcoats-top-knot.jpg\n",
      "24576/19081 [======================================] - 0s 0us/step\b\b\b\b\b\b\b\b\b\b\b\b\b\b\b\b\b\b\b\b\b\b\b\b\b\b\b\b\b\b\b\b\b\b\b\b\b\b\b\b\b\b\n",
      "Downloading data from https://i.pinimg.com/236x/ac/0e/b6/ac0eb6e4bb98226c8c543414242cd192--black-raincoat-rain-coats.jpg\n",
      "24576/17154 [==========================================] - 0s 0us/step\b\b\b\b\b\b\b\b\b\b\b\b\b\b\b\b\b\b\b\b\b\b\b\b\b\b\b\b\b\b\b\b\b\b\b\b\b\b\n",
      "Downloading data from https://i.pinimg.com/236x/a1/f8/dc/a1f8dc7b091e6efa767cc26bcfa269cd--nude-pumps-nude-shoes.jpg\n",
      "24576/19224 [======================================] - 0s 1us/step\b\b\b\b\b\b\b\b\b\b\b\b\b\b\b\b\b\b\b\b\b\b\b\b\b\b\b\b\b\b\b\b\b\b\b\b\b\b\b\b\b\b\n",
      "Downloading data from https://i.pinimg.com/236x/db/34/24/db3424c3d3af7e8599b3d2f24bf4fbf4--gray-suits-tweed-suits.jpg\n",
      "24576/22853 [================================] - 0s 0us/step\b\b\b\b\b\b\b\b\b\b\b\b\b\b\b\b\b\b\b\b\b\b\b\b\b\b\b\b\b\b\b\b\b\b\b\b\b\b\b\b\b\b\b\b\b\b\b\b\n",
      "Downloading data from https://i.pinimg.com/236x/0c/bc/1f/0cbc1f02674c28d0b67bfb4c66964f8d--trench-coat-style-trench-coats.jpg\n",
      "32768/27970 [===================================] - 0s 0us/step\b\b\b\b\b\b\b\b\b\b\b\b\b\b\b\b\b\b\b\b\b\b\b\b\b\b\b\b\b\b\b\b\b\b\b\b\b\b\b\b\b\b\b\b\b\n",
      "Downloading data from https://i.pinimg.com/236x/63/df/7a/63df7a4e88787006ab042376d3876f30.jpg\n",
      "16384/9276 [====================================================] - 0s 0us/step\b\b\b\b\b\b\b\b\b\b\b\b\b\b\b\b\b\b\b\b\b\b\b\b\b\n",
      "Downloading data from https://i.pinimg.com/236x/d0/19/e6/d019e6199ffc384a9ac39265103b22ef--burberry-outfit-burberry-trenchcoat.jpg\n",
      "16384/13765 [===================================] - 0s 1us/step\b\b\b\b\b\b\b\b\b\b\b\b\b\b\b\b\b\b\b\b\b\b\b\b\b\b\b\b\b\b\b\b\b\b\b\b\b\b\b\b\b\b\b\b\b\n",
      "Downloading data from https://i.pinimg.com/236x/f9/e0/6f/f9e06f0cb96c4f42040865c6f7637151--trench-burberry-trenchcoats.jpg\n",
      "24576/20567 [===================================] - 0s 0us/step\b\b\b\b\b\b\b\b\b\b\b\b\b\b\b\b\b\b\b\b\b\b\b\b\b\b\b\b\b\b\b\b\b\b\b\b\b\b\b\b\b\b\b\b\b\n",
      "Downloading data from https://i.pinimg.com/236x/30/ae/70/30ae705b2f77f117372d2e786b7125a3--orange-bag-orange-handbag.jpg\n",
      "24576/24019 [==============================] - 0s 0us/step\b\b\b\b\b\b\b\b\b\b\b\b\b\b\b\b\b\b\b\b\b\b\b\b\b\b\b\b\b\b\b\b\b\b\b\b\b\b\b\b\b\b\b\b\b\b\b\b\b\b\n",
      "Downloading data from https://i.pinimg.com/236x/f5/38/7b/f5387bdadb3558212367b12d67328a51.jpg\n",
      "8192/6785 [====================================] - 0s 0us/step\n",
      "Downloading data from https://i.pinimg.com/236x/ff/f5/32/fff532d499ed8f0275e6a152ab00ea35.jpg\n",
      "16384/10143 [================================================] - 0s 0us/step\b\b\b\b\b\b\b\b\b\b\b\b\b\b\b\b\b\b\b\b\b\b\b\b\b\b\b\b\b\b\b\b\n",
      "Downloading data from https://i.pinimg.com/236x/ef/8f/76/ef8f76f1fab01e4fa195a23df67efbe0.jpg\n",
      "16384/10592 [==============================================] - 0s 0us/step\b\b\b\b\b\b\b\b\b\b\b\b\b\b\b\b\b\b\b\b\b\b\b\b\b\b\b\b\b\b\b\b\b\b\n",
      "Downloading data from https://i.pinimg.com/236x/14/3a/47/143a47109031c7a241d29aef8d066b7b--pretty-outfits-cute-outfits.jpg\n",
      "16384/12477 [=======================================] - 0s 0us/step\b\b\b\b\b\b\b\b\b\b\b\b\b\b\b\b\b\b\b\b\b\b\b\b\b\b\b\b\b\b\b\b\b\b\b\b\b\b\b\b\b\n",
      "89\n",
      "2\n"
     ]
    }
   ],
   "source": [
    "import time\n",
    "search = image_classifier.labels[0]\n",
    "driver = webdriver.Chrome()\n",
    "driver.implicitly_wait(10)\n",
    "driver.get(f\"https://www.pinterest.ca/search/pins/?q={urllib.parse.quote(search)}&rs=sitelinks_searchbox\")\n",
    "time.sleep(1)\n",
    "driver.execute_script(\"window.scrollTo(0, 5000)\")\n",
    "time.sleep(5)\n",
    "driver.execute_script(\"window.scrollTo(0, 10000)\")\n",
    "time.sleep(5)\n",
    "page = BeautifulSoup(driver.page_source, \"html.parser\")\n",
    "scroll_result = webscraper.get_img_data(\"tench\", search, page)\n",
    "print(len(scroll_result[\"images\"]))\n",
    "print(count_relevant_images(scroll_result))"
   ],
   "metadata": {
    "collapsed": false,
    "pycharm": {
     "name": "#%%\n"
    }
   }
  },
  {
   "cell_type": "markdown",
   "source": [
    "so this shows that in one script we should check for relevance in the original label search, if no relevant result found\n",
    "try long label, and maybe scroll to get more results?\n",
    "\n",
    "test storage method:"
   ],
   "metadata": {
    "collapsed": false
   }
  },
  {
   "cell_type": "code",
   "execution_count": 34,
   "outputs": [
    {
     "data": {
      "text/plain": "{}"
     },
     "execution_count": 34,
     "metadata": {},
     "output_type": "execute_result"
    }
   ],
   "source": [
    "import json\n",
    "results_start = {\n",
    "}\n",
    "with open(\"results.json\", \"w\") as f:\n",
    "    json.dump(results_start, f)\n",
    "\n",
    "with open(\"results.json\") as f:\n",
    "    results_check = json.load(f)\n",
    "results_check"
   ],
   "metadata": {
    "collapsed": false,
    "pycharm": {
     "name": "#%%\n"
    }
   }
  },
  {
   "cell_type": "code",
   "execution_count": 32,
   "outputs": [
    {
     "data": {
      "text/plain": "{'0': {'class': 'tench',\n  'long_label': 'tench, Tinca tinca',\n  'images': [{'href': '/pin/6192518224136448/',\n    'src': 'https://i.pinimg.com/236x/8e/cb/b6/8ecbb68466cd4ff7d1d1b6f95efd45c8.jpg',\n    'alt': 'Casual Curves: Casual Style for Hourglass Figures - Album on Imgur',\n    'relevance': 10},\n   {'href': '/pin/3025924739665121/',\n    'src': 'https://i.pinimg.com/236x/6b/20/22/6b202248cf8afe80e6675f09dffed183.jpg',\n    'alt': ' ',\n    'relevance': 10},\n   {'href': '/pin/45599014967171928/',\n    'src': 'https://i.pinimg.com/236x/a5/28/bd/a528bdfe2fa6cf8cc06a9d34eea98187.jpg',\n    'alt': '@mimiarr discovered by mara. on We Heart It',\n    'relevance': 10},\n   {'href': '/pin/56646907803594804/',\n    'src': 'https://i.pinimg.com/236x/60/07/91/6007910ebf26bc28fc44eea84ae1d9d7.jpg',\n    'alt': ' ',\n    'relevance': 10},\n   {'href': '/pin/6403624460020225/',\n    'src': 'https://i.pinimg.com/236x/94/f9/8f/94f98f26ddfa526b59f3c30db1e91c40.jpg',\n    'alt': ' ',\n    'relevance': 10},\n   {'href': '/pin/4292562132583802/',\n    'src': 'https://i.pinimg.com/236x/c0/21/e4/c021e4c2eb3f75ef03c6a785af1d3c32.jpg',\n    'alt': 'Awkward misunderstanding before leaving',\n    'relevance': 10},\n   {'href': '/pin/68740560511/',\n    'src': 'https://i.pinimg.com/236x/65/c6/4f/65c64fdb4abf5692a6bd874e727503c1.jpg',\n    'alt': 'Have You Seen My Dragon?',\n    'relevance': 10},\n   {'href': '/pin/21392166968489350/',\n    'src': 'https://i.pinimg.com/236x/ad/6b/18/ad6b18de2f7dbeffdf6d4ff6f463c4b0.jpg',\n    'alt': 'Lemon Blueberry Cake- this moist and fluffy lemon blueberry cake recipe is both vegan and gluten free, and full of lemon flavor bursting with blueberries throughout!',\n    'relevance': 10},\n   {'href': '/pin/235594624241072575/',\n    'src': 'https://i.pinimg.com/236x/2f/b7/38/2fb738fd8a268a94c88a5359341c9aef--style-outfits-fashion-outfits.jpg',\n    'alt': ' ',\n    'relevance': 10},\n   {'href': '/pin/13018286413613503/',\n    'src': 'https://i.pinimg.com/236x/97/6a/06/976a06be0d58b837944ac711abd186f4.jpg',\n    'alt': ' ',\n    'relevance': 10},\n   {'href': '/pin/121104677470716397/',\n    'src': 'https://i.pinimg.com/236x/6e/7e/ce/6e7ece90f67c9cfcd8dbff02002e18af.jpg',\n    'alt': ' ',\n    'relevance': 10},\n   {'href': '/pin/37647346874288654/',\n    'src': 'https://i.pinimg.com/236x/63/92/e1/6392e10806e404bdb39c8db4f97388af.jpg',\n    'alt': ' ',\n    'relevance': 10},\n   {'href': '/pin/80853755800136339/',\n    'src': 'https://i.pinimg.com/236x/67/e6/31/67e631cef213281a174ba752a2247535.jpg',\n    'alt': ' ',\n    'relevance': 10},\n   {'href': '/pin/24206916738993849/',\n    'src': 'https://i.pinimg.com/236x/be/22/82/be228207d6683c699de8f9903b39fae9.jpg',\n    'alt': ' ',\n    'relevance': 10},\n   {'href': '/pin/10485011622176660/',\n    'src': 'https://i.pinimg.com/236x/3e/dc/ba/3edcba4b8b6673e0fc8a75fdf48ab744.jpg',\n    'alt': ' ',\n    'relevance': 10},\n   {'href': '/pin/657314508114595138/',\n    'src': 'https://i.pinimg.com/236x/c3/32/ee/c332ee3fa4039b4403f316bea17a25e6.jpg',\n    'alt': ' ',\n    'relevance': 10}]}}"
     },
     "execution_count": 32,
     "metadata": {},
     "output_type": "execute_result"
    }
   ],
   "source": [
    "results_check[0] = test_results\n",
    "with open(\"results.json\", \"w\") as f:\n",
    "    json.dump(results_check, f)\n",
    "\n",
    "with open(\"results.json\") as f:\n",
    "    results_check = json.load(f)\n",
    "results_check"
   ],
   "metadata": {
    "collapsed": false,
    "pycharm": {
     "name": "#%%\n"
    }
   }
  },
  {
   "cell_type": "code",
   "execution_count": 33,
   "outputs": [
    {
     "data": {
      "text/plain": "{'0': {'class': 'tench',\n  'long_label': 'tench, Tinca tinca',\n  'images': [{'href': '/pin/6192518224136448/',\n    'src': 'https://i.pinimg.com/236x/8e/cb/b6/8ecbb68466cd4ff7d1d1b6f95efd45c8.jpg',\n    'alt': 'Casual Curves: Casual Style for Hourglass Figures - Album on Imgur',\n    'relevance': 10},\n   {'href': '/pin/3025924739665121/',\n    'src': 'https://i.pinimg.com/236x/6b/20/22/6b202248cf8afe80e6675f09dffed183.jpg',\n    'alt': ' ',\n    'relevance': 10},\n   {'href': '/pin/45599014967171928/',\n    'src': 'https://i.pinimg.com/236x/a5/28/bd/a528bdfe2fa6cf8cc06a9d34eea98187.jpg',\n    'alt': '@mimiarr discovered by mara. on We Heart It',\n    'relevance': 10},\n   {'href': '/pin/56646907803594804/',\n    'src': 'https://i.pinimg.com/236x/60/07/91/6007910ebf26bc28fc44eea84ae1d9d7.jpg',\n    'alt': ' ',\n    'relevance': 10},\n   {'href': '/pin/6403624460020225/',\n    'src': 'https://i.pinimg.com/236x/94/f9/8f/94f98f26ddfa526b59f3c30db1e91c40.jpg',\n    'alt': ' ',\n    'relevance': 10},\n   {'href': '/pin/4292562132583802/',\n    'src': 'https://i.pinimg.com/236x/c0/21/e4/c021e4c2eb3f75ef03c6a785af1d3c32.jpg',\n    'alt': 'Awkward misunderstanding before leaving',\n    'relevance': 10},\n   {'href': '/pin/68740560511/',\n    'src': 'https://i.pinimg.com/236x/65/c6/4f/65c64fdb4abf5692a6bd874e727503c1.jpg',\n    'alt': 'Have You Seen My Dragon?',\n    'relevance': 10},\n   {'href': '/pin/21392166968489350/',\n    'src': 'https://i.pinimg.com/236x/ad/6b/18/ad6b18de2f7dbeffdf6d4ff6f463c4b0.jpg',\n    'alt': 'Lemon Blueberry Cake- this moist and fluffy lemon blueberry cake recipe is both vegan and gluten free, and full of lemon flavor bursting with blueberries throughout!',\n    'relevance': 10},\n   {'href': '/pin/235594624241072575/',\n    'src': 'https://i.pinimg.com/236x/2f/b7/38/2fb738fd8a268a94c88a5359341c9aef--style-outfits-fashion-outfits.jpg',\n    'alt': ' ',\n    'relevance': 10},\n   {'href': '/pin/13018286413613503/',\n    'src': 'https://i.pinimg.com/236x/97/6a/06/976a06be0d58b837944ac711abd186f4.jpg',\n    'alt': ' ',\n    'relevance': 10},\n   {'href': '/pin/121104677470716397/',\n    'src': 'https://i.pinimg.com/236x/6e/7e/ce/6e7ece90f67c9cfcd8dbff02002e18af.jpg',\n    'alt': ' ',\n    'relevance': 10},\n   {'href': '/pin/37647346874288654/',\n    'src': 'https://i.pinimg.com/236x/63/92/e1/6392e10806e404bdb39c8db4f97388af.jpg',\n    'alt': ' ',\n    'relevance': 10},\n   {'href': '/pin/80853755800136339/',\n    'src': 'https://i.pinimg.com/236x/67/e6/31/67e631cef213281a174ba752a2247535.jpg',\n    'alt': ' ',\n    'relevance': 10},\n   {'href': '/pin/24206916738993849/',\n    'src': 'https://i.pinimg.com/236x/be/22/82/be228207d6683c699de8f9903b39fae9.jpg',\n    'alt': ' ',\n    'relevance': 10},\n   {'href': '/pin/10485011622176660/',\n    'src': 'https://i.pinimg.com/236x/3e/dc/ba/3edcba4b8b6673e0fc8a75fdf48ab744.jpg',\n    'alt': ' ',\n    'relevance': 10},\n   {'href': '/pin/657314508114595138/',\n    'src': 'https://i.pinimg.com/236x/c3/32/ee/c332ee3fa4039b4403f316bea17a25e6.jpg',\n    'alt': ' ',\n    'relevance': 10}]},\n '1': {'class': 'tench',\n  'long_label': 'tench, Tinca tinca',\n  'images': [{'href': '/pin/6192518224136448/',\n    'src': 'https://i.pinimg.com/236x/8e/cb/b6/8ecbb68466cd4ff7d1d1b6f95efd45c8.jpg',\n    'alt': 'Casual Curves: Casual Style for Hourglass Figures - Album on Imgur',\n    'relevance': 10},\n   {'href': '/pin/3025924739665121/',\n    'src': 'https://i.pinimg.com/236x/6b/20/22/6b202248cf8afe80e6675f09dffed183.jpg',\n    'alt': ' ',\n    'relevance': 10},\n   {'href': '/pin/45599014967171928/',\n    'src': 'https://i.pinimg.com/236x/a5/28/bd/a528bdfe2fa6cf8cc06a9d34eea98187.jpg',\n    'alt': '@mimiarr discovered by mara. on We Heart It',\n    'relevance': 10},\n   {'href': '/pin/56646907803594804/',\n    'src': 'https://i.pinimg.com/236x/60/07/91/6007910ebf26bc28fc44eea84ae1d9d7.jpg',\n    'alt': ' ',\n    'relevance': 10},\n   {'href': '/pin/4292562132583802/',\n    'src': 'https://i.pinimg.com/236x/c0/21/e4/c021e4c2eb3f75ef03c6a785af1d3c32.jpg',\n    'alt': 'Awkward misunderstanding before leaving',\n    'relevance': 10},\n   {'href': '/pin/121104677470716397/',\n    'src': 'https://i.pinimg.com/236x/6e/7e/ce/6e7ece90f67c9cfcd8dbff02002e18af.jpg',\n    'alt': ' ',\n    'relevance': 10},\n   {'href': '/pin/864198615999441524/',\n    'src': 'https://i.pinimg.com/236x/2a/07/ab/2a07ab4aac2c99d12576b0af12e0e2a1.jpg',\n    'alt': 'sandmarg: The Tinca Tinca Fish ...or you can call me Doctor',\n    'relevance': 1},\n   {'href': '/pin/26458716552024805/',\n    'src': 'https://i.pinimg.com/236x/9b/f7/5d/9bf75dabfea3442e492353554714733f.jpg',\n    'alt': ' ',\n    'relevance': 10},\n   {'href': '/pin/37647346874288654/',\n    'src': 'https://i.pinimg.com/236x/63/92/e1/6392e10806e404bdb39c8db4f97388af.jpg',\n    'alt': ' ',\n    'relevance': 10},\n   {'href': '/pin/80853755800136339/',\n    'src': 'https://i.pinimg.com/236x/67/e6/31/67e631cef213281a174ba752a2247535.jpg',\n    'alt': ' ',\n    'relevance': 10},\n   {'href': '/pin/122652789841210645/',\n    'src': 'https://i.pinimg.com/236x/c4/92/8c/c4928c34a230cfc8f449602346bd092e--corsair-lek.jpg',\n    'alt': ' ',\n    'relevance': 10},\n   {'href': '/pin/230668812472032171/',\n    'src': 'https://i.pinimg.com/236x/d1/2c/ee/d12ceed889585823ee828454adcc5aab--merlin-dreamworks.jpg',\n    'alt': ' ',\n    'relevance': 10},\n   {'href': '/pin/38843615588516389/',\n    'src': 'https://i.pinimg.com/236x/6d/8e/94/6d8e949b0ea3e6b75be66184f07697c6.jpg',\n    'alt': \"An A1 poster sized print, approx 23c33 inches (594x841 mm). Fish scales of cod, gudgeon, tench, eel and perch.. Fish scales: cod, Gadus morhua 1, gudgeon, Gobio gobio 2, tench, Tinca tinca 3, eel, Anguilla anguilla 4 and perch, Perca fluviatilis 5. Handcolored copperplate engraving from Friedrich Bertuch's Bilderbuch fur Kinder (Picture Book for Children), Weimar, 1798. anguillaanguilla, bilderbuchfurkinder, cod, copperplate, eel, fishscales, friedrichbertuch, gadusmorhua, gobiogobio…\",\n    'relevance': 10},\n   {'href': '/pin/476044623117045872/',\n    'src': 'https://i.pinimg.com/236x/32/63/b8/3263b8f6732d3e07093b4f548422d1d0--nests-aliens.jpg',\n    'alt': 'SW - story of old times by tench',\n    'relevance': 10},\n   {'href': '/pin/78883430959842639/',\n    'src': 'https://i.pinimg.com/236x/d7/4c/20/d74c2016c9a8d3e34bb27c5e9c40cec9.jpg',\n    'alt': 'Mercenary 6 by Max-Dunbar',\n    'relevance': 10},\n   {'href': '/pin/38843615587340519/',\n    'src': 'https://i.pinimg.com/236x/63/9c/78/639c78b6e3c7b47547b9ad844189719d.jpg',\n    'alt': '22x18 inch (580x480 mm) ready to hang frame with high quality RA4 print and mount individually cut to size. Tinca tinca, or Tench. Date: 1879. . Image supplied by Mary Evans Prints Online. Product ID:14229645_80874_760',\n    'relevance': 1}]}}"
     },
     "execution_count": 33,
     "metadata": {},
     "output_type": "execute_result"
    }
   ],
   "source": [
    "results_check[1] = long_label_results\n",
    "with open(\"results.json\", \"w\") as f:\n",
    "    json.dump(results_check, f)\n",
    "\n",
    "with open(\"results.json\") as f:\n",
    "    results_check = json.load(f)\n",
    "results_check"
   ],
   "metadata": {
    "collapsed": false,
    "pycharm": {
     "name": "#%%\n"
    }
   }
  },
  {
   "cell_type": "code",
   "execution_count": 36,
   "outputs": [
    {
     "ename": "ValueError",
     "evalue": "'ruffled grouse' is not in list",
     "output_type": "error",
     "traceback": [
      "\u001B[1;31m---------------------------------------------------------------------------\u001B[0m",
      "\u001B[1;31mValueError\u001B[0m                                Traceback (most recent call last)",
      "\u001B[1;32m<ipython-input-36-6a89343fc18f>\u001B[0m in \u001B[0;36m<module>\u001B[1;34m\u001B[0m\n\u001B[0;32m      1\u001B[0m \u001B[1;31m# list(image_classifier.labels).index(\"ruffled grouse\")\u001B[0m\u001B[1;33m\u001B[0m\u001B[1;33m\u001B[0m\u001B[1;33m\u001B[0m\u001B[0m\n\u001B[1;32m----> 2\u001B[1;33m \u001B[0mlist\u001B[0m\u001B[1;33m(\u001B[0m\u001B[0mlong_labels\u001B[0m\u001B[1;33m)\u001B[0m\u001B[1;33m.\u001B[0m\u001B[0mindex\u001B[0m\u001B[1;33m(\u001B[0m\u001B[1;34m\"ruffled grouse\"\u001B[0m\u001B[1;33m)\u001B[0m\u001B[1;33m\u001B[0m\u001B[1;33m\u001B[0m\u001B[0m\n\u001B[0m\u001B[0;32m      3\u001B[0m \u001B[1;33m\u001B[0m\u001B[0m\n",
      "\u001B[1;31mValueError\u001B[0m: 'ruffled grouse' is not in list"
     ]
    }
   ],
   "source": [
    "# list(image_classifier.labels).index(\"ruffled grouse\")\n",
    "list(long_labels).index(\"ruffled grouse\")\n"
   ],
   "metadata": {
    "collapsed": false,
    "pycharm": {
     "name": "#%%\n"
    }
   }
  }
 ],
 "metadata": {
  "kernelspec": {
   "display_name": "Python 3",
   "language": "python",
   "name": "python3"
  },
  "language_info": {
   "codemirror_mode": {
    "name": "ipython",
    "version": 2
   },
   "file_extension": ".py",
   "mimetype": "text/x-python",
   "name": "python",
   "nbconvert_exporter": "python",
   "pygments_lexer": "ipython2",
   "version": "2.7.6"
  }
 },
 "nbformat": 4,
 "nbformat_minor": 0
}