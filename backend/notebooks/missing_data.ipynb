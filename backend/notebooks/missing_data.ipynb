{
 "cells": [
  {
   "cell_type": "code",
   "execution_count": 2,
   "metadata": {
    "collapsed": true,
    "pycharm": {
     "name": "#%% making new notebook as webscraper_test has too much data and is lagging\n"
    }
   },
   "outputs": [],
   "source": [
    "import webscraper\n",
    "from classifier import Classifier\n",
    "image_classifier = Classifier()\n",
    "labels = image_classifier.labels\n",
    "long_labels = webscraper.get_yrevar_imagenet_labels()\n"
   ]
  },
  {
   "cell_type": "code",
   "execution_count": 3,
   "outputs": [
    {
     "data": {
      "text/plain": "{'class': 'goldfish',\n 'long_label': 'goldfish, Carassius auratus',\n 'images': [{'href': '/pin/784470828844286754/',\n   'src': 'https://i.pinimg.com/236x/0e/ff/a0/0effa044039feb0cb7f0c96cea0a3f43.jpg',\n   'alt': ' ',\n   'relevance': 1,\n   'text': {'h1': 'Fancy Goldfish Tank',\n    'h2': ' ',\n    'tags': ['Pretty Fish',\n     'Cute Fish',\n     'Beautiful Fish',\n     'Funny Animal Videos',\n     'Cute Funny Animals',\n     'Funny Animal Pictures',\n     'Colorful Fish',\n     'Tropical Fish',\n     'Goldfish Tank']}},\n  {'href': '/pin/171207223324055088/',\n   'src': 'https://i.pinimg.com/236x/68/f3/5d/68f35d553acb0820886aea724ac5c912.jpg',\n   'alt': ' ',\n   'relevance': 1,\n   'text': {'h1': 'Goldfish Tricolor Oranda',\n    'h2': ' ',\n    'tags': ['Lionhead Goldfish',\n     'Fantail Goldfish',\n     'Goldfish Aquarium',\n     'Goldfish Tank',\n     'Colorful Fish',\n     'Tropical Fish',\n     'Goldfish Tattoo',\n     'Goldfish Types',\n     'Fish Pond Gardens']}},\n  {'href': '/pin/48484133475228538/',\n   'src': 'https://i.pinimg.com/236x/ca/a8/76/caa8762729ec29991c9b6789a3a40698--shark-attacks-sharks.jpg',\n   'alt': ' ',\n   'relevance': 10,\n   'text': {'h1': 'Shark Attack! –  5 Free Sea Life Amigurumi Patterns',\n    'h2': ' ',\n    'tags': ['Crochet Animal Patterns',\n     'Stuffed Animal Patterns',\n     'Crochet Patterns Amigurumi',\n     'Crochet Animals',\n     'Crochet Dolls',\n     'Knitting Patterns',\n     'Fish Patterns',\n     'Crochet Sea Creatures',\n     'Stuffed Animals']}},\n  {'href': '/pin/855754366697997702/',\n   'src': 'https://i.pinimg.com/236x/9f/01/8d/9f018d85c2f242880f68301c506eebb5.jpg',\n   'alt': 'Goldfish portrait',\n   'relevance': 1,\n   'text': {'h1': 'goldfish',\n    'h2': 'Goldfish portrait',\n    'tags': ['Pretty Fish',\n     'Beautiful Fish',\n     'Coldwater Fish',\n     'Powerpuff Girls Wallpaper',\n     'Goldfish Pond',\n     'Fish Drawings',\n     'Colorful Fish',\n     'Fish Art',\n     'Nature Animals']}},\n  {'href': '/pin/307230005837160429/',\n   'src': 'https://i.pinimg.com/236x/8b/20/cf/8b20cfd5f3ed306782641cdcaedc7b1d.jpg',\n   'alt': 'Photo of a goldfish.',\n   'relevance': 1,\n   'text': {'h1': 'About Wild Animals: Photo of a goldfish',\n    'h2': 'Photo of a goldfish.',\n    'tags': ['Pretty Fish',\n     'Beautiful Fish',\n     'Animals Beautiful',\n     'Cute Animals',\n     'Cute Fish',\n     'Colorful Fish',\n     'Tropical Fish',\n     'Goldfish Types',\n     'Carpe Koi']}},\n  {'href': '/pin/17662623527819120/',\n   'src': 'https://i.pinimg.com/236x/4d/6a/58/4d6a58cdbad98967c646fd17e709ea8e.jpg',\n   'alt': ' ',\n   'relevance': 1,\n   'text': {'h1': 'Lion Head',\n    'h2': ' ',\n    'tags': ['Beautiful Tropical Fish',\n     'Beautiful Fish',\n     'Lionhead Goldfish',\n     'Oranda Goldfish',\n     'Goldfish Tank',\n     'Cute Fish',\n     'Fish Drawings',\n     'Underwater Creatures',\n     'Animals']}},\n  {'href': '/pin/71213237846445983/',\n   'src': 'https://i.pinimg.com/236x/95/cb/7d/95cb7d75925169e39e84f327233b109b.jpg',\n   'alt': 'Goldfish Care Sheet: Everything You Need to Know on One Page',\n   'relevance': 1,\n   'text': {'h1': 'Goldfish Care Sheet: Everything You Need to Know on One Page',\n    'h2': 'Goldfish Care Sheet: Everything You Need to Know on One Page',\n    'tags': ['Freshwater Aquarium',\n     'Aquarium Fish',\n     'Jellyfish Aquarium',\n     'Colorful Fish',\n     'Tropical Fish',\n     'Goldfish Care',\n     'Goldfish Tattoo',\n     'Pet Fish',\n     'African Cichlids']}},\n  {'href': '/pin/808607308097491993/',\n   'src': 'https://i.pinimg.com/236x/c8/ca/e7/c8cae7671bf73f11bf1aa2ad1fb3fa32.jpg',\n   'alt': 'Go Fish! Bright orange goldfish merrily swim on this reversible cuddle blanket; one side has a royal blue sea in our Asian-inspired print, the other has our Asian-art inspired goldfish. Luxurious + soft, only the highest quality premium fabrics used. O+K blankets are soft right out of the packaging and continue to get softer with every wash. 100% cotton is light and fluffy, like wrapping your baby in a cloud. Bamboo blend (made from 70% bamboo viscose rayon and 30% cotton for the durability…',\n   'relevance': 10,\n   'text': {'h1': 'Go Fish Cuddle Blanket',\n    'h2': 'Go Fish! Bright orange goldfish merrily swim on this reversible cuddle blanket; one side has a royal blue sea in our Asian-inspired print, the other has our Asian-art inspired goldfish. Luxurious + soft, only the highest quality premium fabrics used. O+K blankets are soft right out of the packaging and continue to get softer with every wash. 100% cotton is light and fluffy, like wrapping your baby in a cloud. Bamboo blend (made from 70% bamboo viscose rayon and 30% cotton for the durability of c',\n    'tags': ['Stroller Cover',\n     'Muslin Fabric',\n     'Going Fishing',\n     'Tummy Time',\n     'Soft Blankets',\n     'Asian Art',\n     'Cuddling',\n     'Royal Blue',\n     'Vibrant Colors']}},\n  {'href': '/pin/12384967716765700/',\n   'src': 'https://i.pinimg.com/236x/2e/8a/5b/2e8a5b472ef633666ad42169b77dd871.jpg',\n   'alt': ' ',\n   'relevance': 10,\n   'text': {'h1': 'Goldfish Aquarium',\n    'h2': ' ',\n    'tags': ['Goldfish Aquarium',\n     'Goldfish Tank',\n     'Tropical Fish Aquarium',\n     'Tropical Fish Tanks',\n     'Freshwater Aquarium Fish',\n     'Fish Ocean',\n     'Bubble Eye Goldfish',\n     'Goldfish Bowl',\n     'Goldfish Breeding']}},\n  {'href': '/pin/14707136273970524/',\n   'src': 'https://i.pinimg.com/236x/b6/f7/54/b6f75480e903fca9ec01e6365ed4b621--goldfish-aquarium-ikan.jpg',\n   'alt': ' ',\n   'relevance': 10,\n   'text': {'h1': 'Ficha Técnica, datos de GoldFish o Pez Dorado - Diginota',\n    'h2': ' ',\n    'tags': ['Oranda Goldfish',\n     'Goldfish Aquarium',\n     'Goldfish Tank',\n     'Goldfish Types',\n     'Goldfish Species',\n     'Fish Chart',\n     'Golden Fish',\n     'Koi Fish Pond',\n     'Freshwater Aquarium Fish']}},\n  {'href': '/pin/53832158033829788/',\n   'src': 'https://i.pinimg.com/236x/98/71/cb/9871cba1a4b2c743d94410b79fd9619c.jpg',\n   'alt': 'Richly Hued Portraits of Elegant Chinese Goldfish by Tsubaki | Colossal',\n   'relevance': 1,\n   'text': {'h1': 'Richly Hued Portraits of Elegant Chinese Goldfish by Tsubaki',\n    'h2': 'Richly Hued Portraits of Elegant Chinese Goldfish by Tsubaki | Colossal',\n    'tags': ['Lionhead Goldfish',\n     'Oranda Goldfish',\n     'Pretty Fish',\n     'Beautiful Fish',\n     'Colorful Fish',\n     'Tropical Fish',\n     'Poisson Rouge Oranda',\n     'Goldfish Species',\n     'Foto Nature']}},\n  {'href': '/pin/12384967716757988/',\n   'src': 'https://i.pinimg.com/236x/78/46/d3/7846d3f577f60825d79c6a52f083968a.jpg',\n   'alt': ' ',\n   'relevance': 1,\n   'text': {'h1': 'GOLDFiSH',\n    'h2': ' ',\n    'tags': ['Goldfish Tattoo',\n     'Colorful Animals',\n     'Colorful Fish',\n     'Tropical Fish',\n     'Pretty Fish',\n     'Beautiful Fish',\n     'Freshwater Aquarium',\n     'Aquarium Fish',\n     'Animals']}},\n  {'href': '/pin/176836722859592262/',\n   'src': 'https://i.pinimg.com/236x/13/14/3b/13143b3e548437a27782f497fae13c09.jpg',\n   'alt': ' ',\n   'relevance': 1,\n   'text': {'h1': 'GOLDFiSH white',\n    'h2': ' ',\n    'tags': ['Beautiful Fish',\n     'Animals Beautiful',\n     'Cute Animals',\n     'Fish Drawings',\n     'Animal Drawings',\n     'Colorful Fish',\n     'Tropical Fish',\n     'Goldfish Wallpaper',\n     'Black Goldfish']}},\n  {'href': '/pin/12384967716747845/',\n   'src': 'https://i.pinimg.com/236x/c0/d5/45/c0d545ec42a189b8f4a9e598d5f980d9.jpg',\n   'alt': ' ',\n   'relevance': 10,\n   'text': {'h1': 'What should I name this Goldfish?',\n    'h2': ' ',\n    'tags': ['Diskus Aquarium',\n     'Goldfish Aquarium',\n     'Goldfish Tank',\n     'Black Goldfish',\n     'Pretty Fish',\n     'Cool Fish',\n     'Beautiful Fish',\n     'Cute Funny Animals',\n     'Cute Baby Animals']}},\n  {'href': '/pin/15692298690853520/',\n   'src': 'https://i.pinimg.com/236x/1b/03/91/1b039170d7742578b2344de0c4cfe63f.jpg',\n   'alt': ' ',\n   'relevance': 10,\n   'text': {'h1': 'Goldfish Earrings (LAST)',\n    'h2': ' ',\n    'tags': ['Weird Jewelry',\n     'Funky Jewelry',\n     'Cute Jewelry',\n     'Jewlery',\n     'Baby Jewelry',\n     'Diy Clay Earrings',\n     'Funky Earrings',\n     'Polymer Clay Crafts',\n     'Polymer Clay Jewelry']}},\n  {'href': '/pin/214554369737909767/',\n   'src': 'https://i.pinimg.com/236x/81/b9/e5/81b9e52baffa5dce80cdbb1db28bd758.jpg',\n   'alt': 'Black Moor Goldfish Care',\n   'relevance': 3,\n   'text': {'h1': 'Black Moor Goldfish Care Guide: The Fancy Fish With Telescopic Eyes',\n    'h2': 'Black Moor Goldfish Care',\n    'tags': ['Black Goldfish',\n     'Goldfish Care',\n     'Nature Animals',\n     'Animals And Pets',\n     'Cute Animals',\n     'Colorful Fish',\n     'Tropical Fish',\n     'Weird Fish',\n     'Pet Fish']}},\n  {'href': '/pin/354377064431859222/',\n   'src': 'https://i.pinimg.com/236x/5f/e0/b5/5fe0b5ccc71d8536abb785c19fd7f8a6.jpg',\n   'alt': 'Goldfish is Watching You Semi-Gloss Wallpaper Roll East Urban Home Size: 3.36m x 336cm, Material quality: Premium (150g/m²)',\n   'relevance': 1,\n   'text': {'h1': 'East Urban Home Goldfish is Watching You Semi-Gloss Wallpaper Roll',\n    'h2': 'Goldfish is Watching You Semi-Gloss Wallpaper Roll East Urban Home Size: 3.36m x 336cm, Material quality: Premium (150g/m²)',\n    'tags': ['Goldfish Care',\n     'Goldfish Bowl',\n     'Goldfish Types',\n     'Fantail Goldfish',\n     'Freshwater Aquarium',\n     'Aquarium Fish',\n     'Termite Inspection',\n     'Geometric Wallpaper Murals',\n     'Animals']}},\n  {'href': '/pin/808607308097491992/',\n   'src': 'https://i.pinimg.com/236x/c7/b2/ac/c7b2acf49d9d53e43595c513dd8a6f80.jpg',\n   'alt': 'Go Fish! Bright orange goldfish merrily swim on this reversible cuddle blanket; one side has a royal blue sea in our Asian-inspired print, the other has our Asian-art inspired goldfish. Luxurious + soft, only the highest quality premium fabrics used. O+K blankets are soft right out of the packaging and continue to get softer with every wash. 100% cotton is light and fluffy, like wrapping your baby in a cloud. Bamboo blend (made from 70% bamboo viscose rayon and 30% cotton for the durability…',\n   'relevance': 10,\n   'text': {'h1': 'Go Fish Cuddle Blanket',\n    'h2': 'Go Fish! Bright orange goldfish merrily swim on this reversible cuddle blanket; one side has a royal blue sea in our Asian-inspired print, the other has our Asian-art inspired goldfish. Luxurious + soft, only the highest quality premium fabrics used. O+K blankets are soft right out of the packaging and continue to get softer with every wash. 100% cotton is light and fluffy, like wrapping your baby in a cloud. Bamboo blend (made from 70% bamboo viscose rayon and 30% cotton for the durability of c',\n    'tags': ['Neutral Baby Blankets',\n     'Soft Blankets',\n     'Stroller Cover',\n     'Toddler Quilt',\n     'Muslin Fabric',\n     'Gender Neutral Baby',\n     'Going Fishing',\n     'Tummy Time',\n     'Logo Sticker']}},\n  {'href': '/pin/249246160654827973/',\n   'src': 'https://i.pinimg.com/236x/64/c5/fa/64c5fa4a38eac5d4b157041b89ab8ebf.jpg',\n   'alt': ' ',\n   'relevance': 1,\n   'text': {'h1': 'How to Take Care of Goldfish | LoveToKnow',\n    'h2': ' ',\n    'tags': ['Colorful Fish',\n     'Tropical Fish',\n     'Goldfish Care',\n     'Fantail Goldfish',\n     'Animals And Pets',\n     'Cute Animals',\n     'Carpe Koi',\n     'Cool Fish',\n     'Fish Stock']}},\n  {'href': '/pin/808607308097491991/',\n   'src': 'https://i.pinimg.com/236x/20/bd/9f/20bd9fa3130740ad4545cacb5cbe5673.jpg',\n   'alt': 'Go Fish! Bright orange goldfish merrily swim on this reversible cuddle blanket; one side has a royal blue sea in our Asian-inspired print, the other has our Asian-art inspired goldfish. Luxurious + soft, only the highest quality premium fabrics used. O+K blankets are soft right out of the packaging and continue to get softer with every wash. 100% cotton is light and fluffy, like wrapping your baby in a cloud. Bamboo blend (made from 70% bamboo viscose rayon and 30% cotton for the durability…',\n   'relevance': 10,\n   'text': {'h1': 'Go Fish Cuddle Blanket',\n    'h2': 'Go Fish! Bright orange goldfish merrily swim on this reversible cuddle blanket; one side has a royal blue sea in our Asian-inspired print, the other has our Asian-art inspired goldfish. Luxurious + soft, only the highest quality premium fabrics used. O+K blankets are soft right out of the packaging and continue to get softer with every wash. 100% cotton is light and fluffy, like wrapping your baby in a cloud. Bamboo blend (made from 70% bamboo viscose rayon and 30% cotton for the durability of c',\n    'tags': ['Muslin Fabric',\n     'Woven Fabric',\n     'Stroller Cover',\n     'Going Fishing',\n     'Tummy Time',\n     'Soft Blankets',\n     'Goldfish',\n     'Cuddle',\n     'Asian Art']}},\n  {'href': '/pin/430234570660428163/',\n   'src': 'https://i.pinimg.com/236x/5c/e5/5a/5ce55af0cfbf82e96fdb008194c1718d.jpg',\n   'alt': ' ',\n   'relevance': 4,\n   'text': {'h1': 'New 6ft Fancy Goldfish Display Setup',\n    'h2': ' ',\n    'tags': ['Oranda Goldfish',\n     'Goldfish Tank',\n     'Black Goldfish',\n     'Colorful Fish',\n     'Tropical Fish',\n     'Freshwater Aquarium',\n     'Aquarium Fish',\n     'Fauna Marina',\n     'Aqua Culture']}},\n  {'href': '/pin/345299496437508847/',\n   'src': 'https://i.pinimg.com/236x/14/fa/f3/14faf3220e14f0e3e577917157ab41ed.jpg',\n   'alt': ' ',\n   'relevance': 2,\n   'text': {'h1': 'Goldfish Oranda Blue',\n    'h2': ' ',\n    'tags': ['Oranda Goldfish',\n     'Pet Goldfish',\n     'Goldfish Tank',\n     'Pet Fish',\n     'Saltwater Aquarium',\n     'Aquarium Fish',\n     'Fishing World',\n     'Tanked Aquariums',\n     'Amphibians']}},\n  {'href': '/pin/95842298309711626/',\n   'src': 'https://i.pinimg.com/236x/5f/f6/d6/5ff6d64dd4ede437af59776d0b45bd42.jpg',\n   'alt': ' ',\n   'relevance': 1,\n   'text': {'h1': 'Goldfish: Interesting and Surprising Facts About a Popular Pet',\n    'h2': ' ',\n    'tags': ['Goldfish Care',\n     'Goldfish Types',\n     'Comet Goldfish',\n     'The Animals',\n     'Freshwater Aquarium',\n     'Aquarium Fish',\n     'Aquarium Snails',\n     'Aquarium Ideas',\n     'Goldfish Species']}},\n  {'href': '/pin/698128379739716019/',\n   'src': 'https://i.pinimg.com/236x/ec/93/f7/ec93f77ae8b409f41b40735d08058749.jpg',\n   'alt': ' ',\n   'relevance': 1,\n   'text': {'h1': 'Advantages of Buying A Goldfish Online',\n    'h2': ' ',\n    'tags': ['Aquarium Ideas',\n     'Aquarium Fish',\n     'Fish Care',\n     'Freshwater Aquarium',\n     'Pet Store',\n     'Goldfish',\n     'Fresh Water',\n     'Cases',\n     'Stuff To Buy']}},\n  {'href': '/pin/3237030968420355/',\n   'src': 'https://i.pinimg.com/236x/c1/2d/19/c12d19da80e49e4dd74f7fa53dbef73a.jpg',\n   'alt': 'Goldfish fin varieties',\n   'relevance': 10,\n   'text': {'h1': 'Fish Drawings',\n    'h2': 'Goldfish fin varieties',\n    'tags': ['Fish Drawings',\n     'Animal Drawings',\n     'Art Drawings',\n     'Koi Fish Drawing',\n     'Koi Art',\n     'Fish Art',\n     'Goldfish Tattoo',\n     'Carpe Koi',\n     'Drawn Art']}},\n  {'href': '/pin/560768591109750113/',\n   'src': 'https://i.pinimg.com/236x/d6/4c/f6/d64cf69a0ad4a4d7ea97d13a6f2068ab.jpg',\n   'alt': ' ',\n   'relevance': 1,\n   'text': {'h1': 'Top Tips For Fishkeeping Beginners',\n    'h2': ' ',\n    'tags': ['Tropical Fish Aquarium',\n     'Tropical Fish Tanks',\n     'Acrylic Aquarium',\n     'Nitrogen Cycle',\n     'Betta Tank',\n     'Different Fish',\n     'Nano Tank',\n     'Fish Care',\n     'Freshwater Aquarium']}},\n  {'href': '/pin/75013150033579159/',\n   'src': 'https://i.pinimg.com/236x/86/d4/45/86d44525a2ee3b43813fe4cf0f6484cd.jpg',\n   'alt': ' ',\n   'relevance': 2,\n   'text': {'h1': 'Goldfish Varieties',\n    'h2': ' ',\n    'tags': ['Tropical Freshwater Fish',\n     'Freshwater Aquarium',\n     'Tropical Fish',\n     'Animals And Pets',\n     'Funny Animals',\n     'Cute Animals',\n     'Goldfish Pond',\n     'Cool Fish',\n     'African Cichlids']}},\n  {'href': '/pin/868842953081273224/',\n   'src': 'https://i.pinimg.com/236x/62/04/4e/62044eb878e8adda523ca1780783a948.jpg',\n   'alt': \"\\ufeffThe Back to the Roots Betta Water Garden Tank creates a healthy habitat for betta fish by replicating nature's cycle. The plant above purifies the water and absorbs waste as nourishment and can be used just as a planter for many thirsty plants. Planter can create a healthy habitat for betta fish by replicating nature's cycle Plant above purifies water and absorbs fish waste as nourishment Betta fish tank is easy to clean Planter is simple to remove when needed Can be used as a planter alone…\",\n   'relevance': 10,\n   'text': {'h1': 'Back to the Roots Betta Water Garden Tank',\n    'h2': \"\\ufeffThe Back to the Roots Betta Water Garden Tank creates a healthy habitat for betta fish by replicating nature's cycle. The plant above purifies the water and absorbs waste as nourishment and can be used just as a planter for many thirsty plants. Planter can create a healthy habitat for betta fish by replicating nature's cycle Plant above purifies water and absorbs fish waste as nourishment Betta fish tank is easy to clean Planter is simple to remove when needed Can be used as a planter alone for\",\n    'tags': ['Self Cleaning Fish Tank',\n     'Kitchen Appliance Packages',\n     'Playroom Furniture',\n     'King Bedroom Sets',\n     'Organic Seeds',\n     'Spa Gifts',\n     'Inkjet Printer',\n     'Aquaponics',\n     'Water Garden']}},\n  {'href': '/pin/424675440270495672/',\n   'src': 'https://i.pinimg.com/236x/71/f7/5f/71f75f705dc6d99b62df73390b789b4d.jpg',\n   'alt': ' ',\n   'relevance': 1,\n   'text': {'h1': 'Fantail goldfish (Carassius auratus) 2 Tile | Zazzle.com',\n    'h2': ' ',\n    'tags': ['Coi Fish',\n     'Betta Fish',\n     'Colorful Fish',\n     'Tropical Fish',\n     'Colorful Animals',\n     'Freshwater Aquarium',\n     'Aquarium Fish',\n     'Fantail Goldfish',\n     'African Cichlids']}},\n  {'href': '/pin/24066179247697826/',\n   'src': 'https://i.pinimg.com/236x/a6/46/6c/a6466ce9a4230573ba8d4584d9b50d70--goldfish-in-a-bowl-goldfish-care.jpg',\n   'alt': ' ',\n   'relevance': 1,\n   'text': {'h1': 'How to Care for a Goldfish Won at Carnival or Fair',\n    'h2': ' ',\n    'tags': ['Goldfish Care',\n     'Goldfish Pond',\n     'Freshwater Aquarium',\n     'Aquarium Fish',\n     'Goldfish Tattoo',\n     'Aqua Culture',\n     'Carpe Koi',\n     'Exotic Fish',\n     'Fish Art']}},\n  {'href': '/pin/497295983861366884/',\n   'src': 'https://i.pinimg.com/236x/e6/90/73/e69073f178ad28b05918fc876e313c25.jpg',\n   'alt': ' ',\n   'relevance': 1,\n   'text': {'h1': 'The Best Goldfish Care Guide',\n    'h2': ' ',\n    'tags': ['Goldfish Care',\n     'Goldfish Types',\n     'Goldfish Aquarium',\n     'Aquarium Set',\n     'Goldfish Pond',\n     'Pretty Fish',\n     'Beautiful Fish',\n     'Animals Beautiful',\n     'Live Fish Wallpaper']}},\n  {'href': '/pin/3870349668111704/',\n   'src': 'https://i.pinimg.com/236x/7d/ac/c8/7dacc839f375b35938f3801f713a37eb.jpg',\n   'alt': ' ',\n   'relevance': 10,\n   'text': {'h1': 'Crochet Goldfish Amigurumi Free Patterns - DIY Magazine',\n    'h2': ' ',\n    'tags': ['Crochet Easter',\n     'Crochet Fish',\n     'Cute Crochet',\n     'Crochet Crafts',\n     'Crochet Projects',\n     'Yarn Crafts',\n     'Decor Crafts',\n     'Diy Projects',\n     'Diy Crafts']}},\n  {'href': '/pin/655907133229110740/',\n   'src': 'https://i.pinimg.com/236x/e8/b2/0f/e8b20f2a90bd33e8611463f20a86d980.jpg',\n   'alt': ' ',\n   'relevance': 1,\n   'text': {'h1': 'Goldfish Poster | Zazzle.com',\n    'h2': ' ',\n    'tags': ['Bedroom Wall Collage',\n     'Bedroom Posters',\n     'Photo Wall Collage',\n     'Picture Wall',\n     'Posters For Room',\n     'Bedroom Pics',\n     'Dorm Posters',\n     'Wall Art Collages',\n     'Free Collage']}},\n  {'href': '/pin/78390849754362953/',\n   'src': 'https://i.pinimg.com/236x/f7/ef/e5/f7efe5d250913aa46f4b6c8e9ea7609c.jpg',\n   'alt': ' ',\n   'relevance': 1,\n   'text': {'h1': 'Ryukin Goldfish',\n    'h2': ' ',\n    'tags': ['Ryukin Goldfish',\n     'Pet Goldfish',\n     'Goldfish Tattoo',\n     'Goldfish Types',\n     'All Animals Images',\n     'Picture Tree',\n     'White Background Photo',\n     'Beautiful Fish',\n     'Exotic Fish']}},\n  {'href': '/pin/5207355809843082/',\n   'src': 'https://i.pinimg.com/236x/ec/08/48/ec08484609bbfe79e7bdf1065e786c70.jpg',\n   'alt': ' ',\n   'relevance': 10,\n   'text': {'h1': 'Our Goldfish Died',\n    'h2': ' ',\n    'tags': ['I Love Cats',\n     'Crazy Cats',\n     'Cute Cats',\n     'Baby Animals',\n     'Cute Animals',\n     'Funny Animals',\n     'Motifs Animal',\n     'Art And Illustration',\n     'Cat Illustrations']}},\n  {'href': '/pin/40813940357553798/',\n   'src': 'https://i.pinimg.com/236x/ec/87/a8/ec87a8c9698b2cbf0707fc4629a021d3--goldfish-drawing-goldfish-art.jpg',\n   'alt': 'レーザー彫刻で加工した金魚',\n   'relevance': 10,\n   'text': {'h1': 'アクリル工藝社',\n    'h2': 'レーザー彫刻で加工した金魚',\n    'tags': ['Koi Art',\n     'Fish Art',\n     'Poisson Combatant',\n     'Tattoo Pez',\n     'Black Goldfish',\n     'Goldfish Tattoo',\n     'Petit Tattoo',\n     'Carpe Koi',\n     'Beautiful Fish']}},\n  {'href': '/pin/494621971582115634/',\n   'src': 'https://i.pinimg.com/236x/0a/3f/12/0a3f1256430873fdd25ef16bc95d5b23.jpg',\n   'alt': 'Did you know? a fantail goldfish can live up to 10 years. Check out my other videos. #goldfish #fish #fishtanks #freshwater #freshwatertank',\n   'relevance': 1,\n   'text': {'h1': 'Fantail Goldfish',\n    'h2': 'Did you know? a fantail goldfish can live up to 10 years. Check out my other videos. #goldfish #fish #fishtanks #freshwater #freshwatertank',\n    'tags': ['Pretty Fish',\n     'Cool Fish',\n     'Planted Aquarium',\n     'Aquarium Fish',\n     'Live Fish Wallpaper',\n     'Fantail Goldfish',\n     'Assalamualaikum Image',\n     'Oscar Fish',\n     'Fish Gallery']}},\n  {'href': '/pin/342062534173310472/',\n   'src': 'https://i.pinimg.com/236x/7e/fc/b1/7efcb15d2379e43628b031df5d01743f--dance-siamese-fighting-fish.jpg',\n   'alt': 'fish dance by visarute angkatavanich, via 500px',\n   'relevance': 4,\n   'text': {'h1': 'fish dance',\n    'h2': 'fish dance by visarute angkatavanich, via 500px',\n    'tags': ['Poisson Combatant',\n     'Beautiful Creatures',\n     'Animals Beautiful',\n     'Carpe Koi',\n     'Siamese Fighting Fish',\n     'Underwater Life',\n     'Beautiful Fish',\n     'Beautiful Pictures',\n     'Freshwater Fish']}},\n  {'href': '/pin/1337074880246908/',\n   'src': 'https://i.pinimg.com/236x/1d/37/ee/1d37eeccb0c2f8f618720e901ff6a113.jpg',\n   'alt': 'Fancy Crochet Goldfish Patterns {Video} | The WHOot',\n   'relevance': 10,\n   'text': {'h1': 'Fancy Crochet Goldfish Patterns {Video} | The WHOot',\n    'h2': 'Fancy Crochet Goldfish Patterns {Video} | The WHOot',\n    'tags': ['Crochet Pattern Free',\n     'Crochet Motifs',\n     'Crochet Animal Patterns',\n     'Crochet Patterns Amigurumi',\n     'Crochet Dolls',\n     'Knitted Toys Patterns',\n     'Easy Crochet Animals',\n     'Crocheted Toys',\n     'Amigurumi Toys']}}],\n 'relevant_count': 25}"
     },
     "execution_count": 3,
     "metadata": {},
     "output_type": "execute_result"
    }
   ],
   "source": [
    "import pickle\n",
    "with open(\"../results.p\", \"rb\") as f:\n",
    "    data = pickle.load(f)\n",
    "data[str(1)]"
   ],
   "metadata": {
    "collapsed": false,
    "pycharm": {
     "name": "#%%\n"
    }
   }
  },
  {
   "cell_type": "code",
   "execution_count": 4,
   "outputs": [
    {
     "name": "stdout",
     "output_type": "stream",
     "text": [
      "[20, 21, 27, 52, 60, 68, 74, 75, 112, 168, 312, 321, 391, 395, 456, 480, 542, 581, 602, 677, 690, 713, 737, 810, 830, 865, 867, 908, 998]\n"
     ]
    }
   ],
   "source": [
    "no_relevant_images = []\n",
    "no_matches = []\n",
    "for i, label in enumerate(labels):\n",
    "    if data[str(i)][\"relevant_count\"] == 0:\n",
    "        no_relevant_images.append(i)\n",
    "        no_matches.append(i)\n",
    "    else:\n",
    "        image_array = data[str(i)][\"images\"]\n",
    "        matches = [i for i in image_array if i[\"relevance\"] == 1]\n",
    "        if not len(matches):\n",
    "            no_matches.append(i)\n",
    "\n",
    "print(no_matches)"
   ],
   "metadata": {
    "collapsed": false,
    "pycharm": {
     "name": "#%%\n"
    }
   }
  },
  {
   "cell_type": "code",
   "execution_count": 9,
   "outputs": [
    {
     "name": "stdout",
     "output_type": "stream",
     "text": [
      "15\n",
      "water ouzel\n",
      "water ouzel, dipper\n",
      "-----\n",
      "eft\n",
      "eft\n",
      "-----\n",
      "redbone\n",
      "redbone\n",
      "-----\n",
      "cricket\n",
      "cricket\n",
      "-----\n",
      "admiral\n",
      "admiral\n",
      "-----\n",
      "coho\n",
      "coho, cohoe, coho salmon, blue jack, silver salmon, Oncorhynchus kisutch\n",
      "-----\n",
      "gar\n",
      "gar, garfish, garpike, billfish, Lepisosteus osseus\n",
      "-----\n",
      "bow\n",
      "bow\n",
      "-----\n",
      "drumstick\n",
      "drumstick\n",
      "-----\n",
      "grille\n",
      "grille, radiator grille\n",
      "-----\n",
      "oxcart\n",
      "oxcart\n",
      "-----\n",
      "space bar\n",
      "space bar\n",
      "-----\n",
      "toyshop\n",
      "toyshop\n",
      "-----\n",
      "wing\n",
      "wing\n",
      "-----\n",
      "ear\n",
      "ear, spike, capitulum\n",
      "-----\n"
     ]
    }
   ],
   "source": [
    "print(len(no_relevant_images))\n",
    "for i in no_relevant_images:\n",
    "    print(labels[i])\n",
    "    print(long_labels[i])\n",
    "    print(\"-----\")"
   ],
   "metadata": {
    "collapsed": false,
    "pycharm": {
     "name": "#%%\n"
    }
   }
  },
  {
   "cell_type": "code",
   "execution_count": 10,
   "outputs": [
    {
     "name": "stdout",
     "output_type": "stream",
     "text": [
      "29\n",
      "water ouzel\n",
      "water ouzel, dipper\n",
      "-----\n",
      "kite\n",
      "kite\n",
      "-----\n",
      "eft\n",
      "eft\n",
      "-----\n",
      "thunder snake\n",
      "thunder snake, worm snake, Carphophis amoenus\n",
      "-----\n",
      "night snake\n",
      "night snake, Hypsiglena torquata\n",
      "-----\n",
      "sidewinder\n",
      "sidewinder, horned rattlesnake, Crotalus cerastes\n",
      "-----\n",
      "garden spider\n",
      "garden spider, Aranea diademata\n",
      "-----\n",
      "black widow\n",
      "black widow, Latrodectus mactans\n",
      "-----\n",
      "conch\n",
      "conch\n",
      "-----\n",
      "redbone\n",
      "redbone\n",
      "-----\n",
      "cricket\n",
      "cricket\n",
      "-----\n",
      "admiral\n",
      "admiral\n",
      "-----\n",
      "coho\n",
      "coho, cohoe, coho salmon, blue jack, silver salmon, Oncorhynchus kisutch\n",
      "-----\n",
      "gar\n",
      "gar, garfish, garpike, billfish, Lepisosteus osseus\n",
      "-----\n",
      "bow\n",
      "bow\n",
      "-----\n",
      "cash machine\n",
      "cash machine, cash dispenser, automated teller machine, automatic teller machine, automated teller, automatic teller, ATM\n",
      "-----\n",
      "drumstick\n",
      "drumstick\n",
      "-----\n",
      "grille\n",
      "grille, radiator grille\n",
      "-----\n",
      "horizontal bar\n",
      "horizontal bar, high bar\n",
      "-----\n",
      "nail\n",
      "nail\n",
      "-----\n",
      "oxcart\n",
      "oxcart\n",
      "-----\n",
      "photocopier\n",
      "photocopier\n",
      "-----\n",
      "pop bottle\n",
      "pop bottle, soda bottle\n",
      "-----\n",
      "space bar\n",
      "space bar\n",
      "-----\n",
      "stretcher\n",
      "stretcher\n",
      "-----\n",
      "toyshop\n",
      "toyshop\n",
      "-----\n",
      "trailer truck\n",
      "trailer truck, tractor trailer, trucking rig, rig, articulated lorry, semi\n",
      "-----\n",
      "wing\n",
      "wing\n",
      "-----\n",
      "ear\n",
      "ear, spike, capitulum\n",
      "-----\n"
     ]
    }
   ],
   "source": [
    "print(len(no_matches))\n",
    "for i in no_matches:\n",
    "    print(labels[i])\n",
    "    print(long_labels[i])\n",
    "    print(\"-----\")"
   ],
   "metadata": {
    "collapsed": false,
    "pycharm": {
     "name": "#%%\n"
    }
   }
  },
  {
   "cell_type": "code",
   "execution_count": null,
   "outputs": [],
   "source": [
    "label_updates = {\n",
    "    \"ear\": \"corn cob\",\n",
    "    \"wing\": \"jet wing\",\n",
    "    \"trailer truck\": \"semi truck\",\n",
    "    \"toyshop\": \"toy store\",\n",
    "    \"stretcher\": \"emergency stretcher\",\n",
    "    \"space bar\": \"spacebar keyboard\",\n",
    "    \"pop bottle\": \"glass soda pop bottle\",\n",
    "    \"photocopier\": \"office scanner printer\",\n",
    "    \"oxcart\": \"ox cart\",\n",
    "    \"nail\": \"galvanized nail\",\n",
    "    \"horizontal bar\": \"gymnast horizontal bar\",\n",
    "    \"grille\": \"car grill\",\n",
    "    \"drumstick\": \"drum stick\",\n",
    "    \"cash machine\": \"atm machine\",\n",
    "    \"bow\": \"bow weapon\",\n",
    "    \"gar\": \"gar fish\",\n",
    "    \"coho\": \"coho salmon fishing\",\n",
    "    \"admiral\": \"admiral butterfly\",\n",
    "    \"cricket\": \"cricket bug\",\n",
    "    \"redbone\": \"redbone dog\",\n",
    "    \"conch\": \"conch shell\",\n",
    "    \"black widow\": \"black widow spider\",\n",
    "    \"garden spider\": \"araneus diadematus\",\n",
    "    \"sidewinder\": \"horned rattlesnake\",\n",
    "    \"night snake\": \"Hypsiglena torquata\",\n",
    "    \"thunder snake\": \"Carphophis amoenus\",\n",
    "    \"eft\": \"eft newt\",\n",
    "    \"kite\": \"kite hawk\",\n",
    "    \"water ouzel\": \"dipper bird\",\n",
    "\n",
    "}"
   ],
   "metadata": {
    "collapsed": false,
    "pycharm": {
     "name": "#%%\n"
    }
   }
  },
  {
   "cell_type": "code",
   "execution_count": 11,
   "outputs": [
    {
     "data": {
      "text/plain": "[20,\n 21,\n 27,\n 52,\n 60,\n 68,\n 74,\n 75,\n 112,\n 168,\n 312,\n 321,\n 391,\n 395,\n 456,\n 480,\n 542,\n 581,\n 602,\n 677,\n 690,\n 713,\n 737,\n 810,\n 830,\n 865,\n 867,\n 908,\n 998]"
     },
     "execution_count": 11,
     "metadata": {},
     "output_type": "execute_result"
    }
   ],
   "source": [
    "no_matches"
   ],
   "metadata": {
    "collapsed": false,
    "pycharm": {
     "name": "#%%\n"
    }
   }
  }
 ],
 "metadata": {
  "kernelspec": {
   "display_name": "Python 3",
   "language": "python",
   "name": "python3"
  },
  "language_info": {
   "codemirror_mode": {
    "name": "ipython",
    "version": 2
   },
   "file_extension": ".py",
   "mimetype": "text/x-python",
   "name": "python",
   "nbconvert_exporter": "python",
   "pygments_lexer": "ipython2",
   "version": "2.7.6"
  }
 },
 "nbformat": 4,
 "nbformat_minor": 0
}